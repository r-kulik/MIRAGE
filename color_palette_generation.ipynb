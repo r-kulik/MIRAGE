{
 "cells": [
  {
   "cell_type": "code",
   "execution_count": 1,
   "id": "ee79e53b",
   "metadata": {},
   "outputs": [
    {
     "name": "stdout",
     "output_type": "stream",
     "text": [
      "Color 1: HEX #000004, RGB (0, 0, 3)\n",
      "Color 2: HEX #08051d, RGB (7, 5, 29)\n",
      "Color 3: HEX #180c3c, RGB (23, 11, 59)\n",
      "Color 4: HEX #2f0a5b, RGB (46, 10, 90)\n",
      "Color 5: HEX #450a69, RGB (69, 10, 105)\n",
      "Color 6: HEX #5c126e, RGB (91, 17, 110)\n",
      "Color 7: HEX #71196e, RGB (112, 25, 110)\n",
      "Color 8: HEX #87216b, RGB (134, 33, 106)\n",
      "Color 9: HEX #9b2964, RGB (155, 40, 100)\n",
      "Color 10: HEX #b1325a, RGB (177, 49, 90)\n",
      "Color 11: HEX #c43c4e, RGB (196, 60, 78)\n",
      "Color 12: HEX #d74b3f, RGB (214, 74, 63)\n",
      "Color 13: HEX #e55c30, RGB (229, 91, 48)\n",
      "Color 14: HEX #f1711f, RGB (240, 112, 30)\n",
      "Color 15: HEX #f8870e, RGB (248, 135, 13)\n",
      "Color 16: HEX #fca108, RGB (251, 160, 7)\n",
      "Color 17: HEX #fbba1f, RGB (251, 185, 30)\n",
      "Color 18: HEX #f6d543, RGB (246, 213, 66)\n",
      "Color 19: HEX #f1ed71, RGB (241, 237, 112)\n",
      "Color 20: HEX #fcffa4, RGB (252, 254, 164)\n",
      "Accent color: {'hex': '#f1711f', 'rgb': (240, 112, 30)}\n",
      "Additional colors: [{'hex': '#000004', 'rgb': (0, 0, 3)}, {'hex': '#08051d', 'rgb': (7, 5, 29)}, {'hex': '#180c3c', 'rgb': (23, 11, 59)}, {'hex': '#2f0a5b', 'rgb': (46, 10, 90)}, {'hex': '#450a69', 'rgb': (69, 10, 105)}, {'hex': '#5c126e', 'rgb': (91, 17, 110)}, {'hex': '#71196e', 'rgb': (112, 25, 110)}, {'hex': '#87216b', 'rgb': (134, 33, 106)}, {'hex': '#9b2964', 'rgb': (155, 40, 100)}, {'hex': '#b1325a', 'rgb': (177, 49, 90)}, {'hex': '#c43c4e', 'rgb': (196, 60, 78)}, {'hex': '#d74b3f', 'rgb': (214, 74, 63)}, {'hex': '#e55c30', 'rgb': (229, 91, 48)}, {'hex': '#f8870e', 'rgb': (248, 135, 13)}, {'hex': '#fca108', 'rgb': (251, 160, 7)}, {'hex': '#fbba1f', 'rgb': (251, 185, 30)}, {'hex': '#f6d543', 'rgb': (246, 213, 66)}, {'hex': '#f1ed71', 'rgb': (241, 237, 112)}, {'hex': '#fcffa4', 'rgb': (252, 254, 164)}]\n"
     ]
    }
   ],
   "source": [
    "import matplotlib.pyplot as plt\n",
    "import matplotlib.cm as cm\n",
    "import matplotlib.colors as mcolors\n",
    "\n",
    "def magma_palette(n_colors=20):\n",
    "    \"\"\"\n",
    "    Генерирует палитру из цветовой схемы 'magma' matplotlib.\n",
    "    Возвращает список цветов в HEX и RGB, основной акцентный цвет и дополнительные цвета.\n",
    "    \"\"\"\n",
    "    # Выбираем равномерно распределённые значения по палитре\n",
    "    indices = [i/(n_colors-1) for i in range(n_colors)]\n",
    "    # Получаем цвета из colormap\n",
    "    colors = [cm.inferno(i) for i in indices]\n",
    "    # Переводим в HEX и RGB\n",
    "    hex_colors = [mcolors.to_hex(c) for c in colors]\n",
    "    rgb_colors = [tuple(int(255*x) for x in c[:3]) for c in colors]\n",
    "    \n",
    "    # Основной акцентный цвет — средний по палитре (насыщенный, хорошо видимый)\n",
    "    accent_idx = int(n_colors / 1.5)\n",
    "    accent_color_hex = hex_colors[accent_idx]\n",
    "    accent_color_rgb = rgb_colors[accent_idx]\n",
    "    \n",
    "    # Дополнительные цвета — остальные\n",
    "    additional_hex = [c for i, c in enumerate(hex_colors) if i != accent_idx]\n",
    "    additional_rgb = [c for i, c in enumerate(rgb_colors) if i != accent_idx]\n",
    "    \n",
    "    palette = {\n",
    "        \"accent\": {\"hex\": accent_color_hex, \"rgb\": accent_color_rgb},\n",
    "        \"additional\": [{\"hex\": h, \"rgb\": r} for h, r in zip(additional_hex, additional_rgb)],\n",
    "        \"all\": [{\"hex\": h, \"rgb\": r} for h, r in zip(hex_colors, rgb_colors)]\n",
    "    }\n",
    "    return palette\n",
    "\n",
    "# Пример использования:\n",
    "palette = magma_palette(n_colors=20)\n",
    "for i, color in enumerate(palette[\"all\"]):\n",
    "    print(f\"Color {i+1}: HEX {color['hex']}, RGB {color['rgb']}\")\n",
    "print(\"Accent color:\", palette[\"accent\"])\n",
    "print(\"Additional colors:\", palette[\"additional\"])"
   ]
  }
 ],
 "metadata": {
  "kernelspec": {
   "display_name": "env",
   "language": "python",
   "name": "python3"
  },
  "language_info": {
   "codemirror_mode": {
    "name": "ipython",
    "version": 3
   },
   "file_extension": ".py",
   "mimetype": "text/x-python",
   "name": "python",
   "nbconvert_exporter": "python",
   "pygments_lexer": "ipython3",
   "version": "3.11.5"
  }
 },
 "nbformat": 4,
 "nbformat_minor": 5
}
