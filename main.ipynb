{
 "cells": [
  {
   "cell_type": "code",
   "execution_count": 1,
   "metadata": {},
   "outputs": [
    {
     "name": "stdout",
     "output_type": "stream",
     "text": [
      "1.26.4\n"
     ]
    },
    {
     "name": "stderr",
     "output_type": "stream",
     "text": [
      "c:\\Users\\Bulkin\\MIRAGE\\env\\Lib\\site-packages\\tqdm\\auto.py:21: TqdmWarning: IProgress not found. Please update jupyter and ipywidgets. See https://ipywidgets.readthedocs.io/en/stable/user_install.html\n",
      "  from .autonotebook import tqdm as notebook_tqdm\n"
     ]
    }
   ],
   "source": [
    "# In a Jupyter Notebook cell\n",
    "%load_ext autoreload\n",
    "%autoreload 2\n",
    "\n",
    "import numpy as np\n",
    "print(np.__version__)\n",
    "\n",
    "from mirage import WordCountingChunkingAlgorithm, FolderRawStorage, SQLiteChunkStorage, RAMChunkStorage\n",
    "from mirage import HuggingFaceEmbedder, TextNormalizer\n",
    "from mirage import NatashaSentenceChunking\n",
    "import os\n",
    "import pickle"
   ]
  },
  {
   "cell_type": "code",
   "execution_count": 2,
   "metadata": {},
   "outputs": [
    {
     "data": {
      "text/plain": [
       "1"
      ]
     },
     "execution_count": 2,
     "metadata": {},
     "output_type": "execute_result"
    }
   ],
   "source": [
    "import logging\n",
    "logging.basicConfig(level=logging.ERROR)\n",
    "\n",
    "\n",
    "documents = FolderRawStorage('data_test')\n",
    "chunks = RAMChunkStorage()\n",
    "# algorithm = WordCountingChunkingAlgorithm(documents, chunks, words_amount=100)\n",
    "\n",
    "algorithm = NatashaSentenceChunking(raw_storage=documents, chunk_storage=chunks, sentences_in_chunk=3)\n",
    "algorithm.execute(visualize=True)"
   ]
  },
  {
   "cell_type": "code",
   "execution_count": 3,
   "metadata": {},
   "outputs": [
    {
     "data": {
      "text/plain": [
       "'Приходится признать, что ни одна из этих сводок никуда не годится. Раньше всего: ни на какую ногу описываемый не хромал, и росту был не маленького и не громадного, а просто высокого. Что касается зубов, то с левой стороны у него были платиновые коронки, а с правой — золотые.'"
      ]
     },
     "execution_count": 3,
     "metadata": {},
     "output_type": "execute_result"
    }
   ],
   "source": [
    "index = chunks.get_indexes()[18]\n",
    "chunks[index]"
   ]
  },
  {
   "cell_type": "code",
   "execution_count": 4,
   "metadata": {},
   "outputs": [
    {
     "name": "stdout",
     "output_type": "stream",
     "text": [
      "0\n"
     ]
    }
   ],
   "source": [
    "print(\n",
    "    sum(\n",
    "        chunks[index] == \"Речь эта, как впоследствии узнали, шла об Иисусе Христе.\" for index in chunks.get_indexes()\n",
    "    )\n",
    ")"
   ]
  },
  {
   "cell_type": "code",
   "execution_count": 5,
   "metadata": {},
   "outputs": [],
   "source": [
    "from mirage.embedders.BowEmbedder import BowEmbedder\n",
    "\n",
    "emb = HuggingFaceEmbedder(normalizer = True)\n",
    "emb.fit(chunks)"
   ]
  },
  {
   "cell_type": "code",
   "execution_count": 6,
   "metadata": {},
   "outputs": [
    {
     "data": {
      "text/plain": [
       "768"
      ]
     },
     "execution_count": 6,
     "metadata": {},
     "output_type": "execute_result"
    }
   ],
   "source": [
    "emb.get_dimensionality()"
   ]
  },
  {
   "cell_type": "code",
   "execution_count": 10,
   "metadata": {},
   "outputs": [
    {
     "name": "stdout",
     "output_type": "stream",
     "text": [
      "Converting ChunkStorage to VectorIndex\n"
     ]
    },
    {
     "name": "stderr",
     "output_type": "stream",
     "text": [
      "100%|██████████| 2833/2833 [02:18<00:00, 20.51it/s]\n"
     ]
    }
   ],
   "source": [
    "from mirage.index.vector_index.ram_vector_index import L2RAMVectorIndex\n",
    "from mirage import FaissIndexFlatL2, FaissIndexIVFPQR\n",
    "vector_index = FaissIndexIVFPQR(dimensionality=emb.get_dimensionality())\n",
    "emb.convert_chunks_to_vector_index(chunks, vector_index, visualize=True)"
   ]
  },
  {
   "cell_type": "code",
   "execution_count": 11,
   "metadata": {},
   "outputs": [
    {
     "name": "stdout",
     "output_type": "stream",
     "text": [
      "[21.82748794555664, 27.86431884765625, 27.915950775146484, 29.267833709716797, 30.334896087646484, 30.927810668945312, 33.16828536987305, 33.2599983215332, 33.84587860107422, 34.197486877441406, 34.40011215209961, 34.450294494628906, 35.88490295410156, 36.218040466308594, 37.174537658691406, 37.280086517333984, 38.33465576171875, 38.376556396484375, 39.9251823425293, 40.35816192626953]\n"
     ]
    },
    {
     "data": {
      "text/plain": [
       "['—\\xa0Напрасно! Так не прикажете ли партию в кости? Или вы предпочитаете другие какие-нибудь игры?',\n",
       " 'Наташа подкуплена? да? Но как вы могли узнать мои мысли? — она страдальчески сморщилась и добавила: — Скажите мне, кто вы такой? Из какого вы учреждения?',\n",
       " 'Как же. Непременно. Срочно.',\n",
       " 'Некий человек… —\\xa0Левий Матвей, — не вопросительно, а скорее утвердительно сказал Пилат. —\\xa0Да, прокуратор…',\n",
       " '—\\xa0Да нету его дома. Я уже Карпова посылал. Никого нету в квартире.',\n",
       " 'Только не напрягайте мозг. Не выйдет сегодня, выйдет завтра. —\\xa0Он уйдет!',\n",
       " 'А я-то на вас надеялся. Итак, номер наш не удался. В зале раздался свист по адресу Никанора Ивановича.',\n",
       " '—\\xa0Ну, что же, теперь, я надеюсь, вы вспомнили мою фамилию? Но Степа только стыдливо улыбнулся и развел руками. —\\xa0Однако!',\n",
       " 'Напротив еще палисадничек? Как же, знаю, знаю! А куда ж вы их там засунули?',\n",
       " 'Ну, натурально, я выходил гулять. Сто тысяч — громадная сумма, и у меня был прекрасный серый костюм. Или отправлялся обедать в какой-нибудь дешевый ресторан.',\n",
       " '—\\xa0Все о нем? — спросил Пилат у секретаря. —\\xa0Нет, к сожалению, — неожиданно ответил секретарь и подал Пилату другой кусок пергамента. —\\xa0Что еще там? — спросил Пилат и нахмурился.',\n",
       " 'Хорошо-с. Я вас немедленно же выпишу отсюда, если вы мне скажете, что вы нормальны. Не докажете, а только скажете. Итак, вы нормальны?',\n",
       " 'У меня опять начались галлюцинации. Рыдания душили Маргариту, она шептала, давясь словами:\\r\\n\\r\\n—\\xa0Нет, нет, нет, не бойся ничего! Я с тобою!',\n",
       " 'Навстречу летящим стремительно летела туча, но еще не брызгала дождем. Они летели над бульваром, видели, как фигурки людей разбегаются, прячась от дождя. Падали первые капли.',\n",
       " '—\\xa0Да. —\\xa0А вот, например, кентурион Марк, его прозвали Крысобоем, — он — добрый? —\\xa0Да, — ответил арестант, — он, правда, несчастливый человек.',\n",
       " '—\\xa0Без тебя бы мы никак не догадались об этом. Уходи. Левий Матвей после этого исчез, а Воланд подозвал к себе Азазелло и приказал ему:\\r\\n\\r\\n—\\xa0Лети к ним и все устрой.',\n",
       " 'Да, он наблюдал за квартирой. Я сам было принял его за рассеянного приват-доцента или влюбленного, томящегося на лестнице, но нет, нет! Что-то сосало мое сердце!',\n",
       " 'Но никто не шел. В печке ревел огонь, в окна хлестал дождь. Тогда случилось последнее.',\n",
       " 'Нашелся хоть один храбрый! Все разбежались, все предали! Идемте, идемте к нему, я не знаю, что делать!',\n",
       " 'Были. Но за ночь их заклеили новыми, и теперь ни одной нет, хоть убей. Откуда взялся этот маг-то самый?']"
      ]
     },
     "execution_count": 11,
     "metadata": {},
     "output_type": "execute_result"
    }
   ],
   "source": [
    "query = 'начальник Иудеи утвердил смертный приговор'\n",
    "query_vector = emb.embed(text=query)\n",
    "# print(query_vector)\n",
    "answer = vector_index.query(\n",
    "    query_vector, top_k=20\n",
    ")\n",
    "print([element.distance for element in answer])\n",
    "[chunks[element.chunk_storage_key] for element in answer]"
   ]
  },
  {
   "cell_type": "code",
   "execution_count": 9,
   "metadata": {},
   "outputs": [
    {
     "ename": "ModuleNotFoundError",
     "evalue": "No module named 'pydantic'",
     "output_type": "error",
     "traceback": [
      "\u001b[1;31m---------------------------------------------------------------------------\u001b[0m",
      "\u001b[1;31mModuleNotFoundError\u001b[0m                       Traceback (most recent call last)",
      "Cell \u001b[1;32mIn[9], line 1\u001b[0m\n\u001b[1;32m----> 1\u001b[0m \u001b[38;5;28;01mfrom\u001b[39;00m\u001b[38;5;250m \u001b[39m\u001b[38;5;21;01mmirage\u001b[39;00m\u001b[38;5;21;01m.\u001b[39;00m\u001b[38;5;21;01minference\u001b[39;00m\u001b[38;5;21;01m.\u001b[39;00m\u001b[38;5;21;01mprompters\u001b[39;00m\u001b[38;5;21;01m.\u001b[39;00m\u001b[38;5;21;01mAPILLM\u001b[39;00m\u001b[38;5;250m \u001b[39m\u001b[38;5;28;01mimport\u001b[39;00m LLM\n\u001b[0;32m      2\u001b[0m llm \u001b[38;5;241m=\u001b[39m LLM()\n\u001b[0;32m      3\u001b[0m llm\u001b[38;5;241m.\u001b[39mdo_request(query\u001b[38;5;241m=\u001b[39mquery,\n\u001b[0;32m      4\u001b[0m                chunk_storage\u001b[38;5;241m=\u001b[39mchunks,\n\u001b[0;32m      5\u001b[0m                indexes\u001b[38;5;241m=\u001b[39m[element\u001b[38;5;241m.\u001b[39mchunk_storage_key \u001b[38;5;28;01mfor\u001b[39;00m element \u001b[38;5;129;01min\u001b[39;00m answer],\n\u001b[0;32m      6\u001b[0m                promt\u001b[38;5;241m=\u001b[39m\u001b[38;5;124m'\u001b[39m\u001b[38;5;124m'\u001b[39m)\n",
      "File \u001b[1;32mc:\\Users\\Bulkin\\MIRAGE\\mirage\\inference\\prompters\\APILLM.py:4\u001b[0m\n\u001b[0;32m      1\u001b[0m \u001b[38;5;28;01mfrom\u001b[39;00m\u001b[38;5;250m \u001b[39m\u001b[38;5;21;01mtyping\u001b[39;00m\u001b[38;5;250m \u001b[39m\u001b[38;5;28;01mimport\u001b[39;00m List, Optional, Self\n\u001b[0;32m      2\u001b[0m \u001b[38;5;28;01mimport\u001b[39;00m\u001b[38;5;250m \u001b[39m\u001b[38;5;21;01mrequests\u001b[39;00m\n\u001b[1;32m----> 4\u001b[0m \u001b[38;5;28;01mfrom\u001b[39;00m\u001b[38;5;250m \u001b[39m\u001b[38;5;21;01mpydantic\u001b[39;00m\u001b[38;5;250m \u001b[39m\u001b[38;5;28;01mimport\u001b[39;00m BaseModel\n\u001b[0;32m      6\u001b[0m \u001b[38;5;28;01mfrom\u001b[39;00m\u001b[38;5;250m \u001b[39m\u001b[38;5;21;01mmirage\u001b[39;00m\u001b[38;5;250m \u001b[39m\u001b[38;5;28;01mimport\u001b[39;00m ChunkStorage\n\u001b[0;32m      8\u001b[0m \u001b[38;5;28;01mclass\u001b[39;00m\u001b[38;5;250m \u001b[39m\u001b[38;5;21;01mLlmRequestParamsDTO\u001b[39;00m(BaseModel):\n",
      "\u001b[1;31mModuleNotFoundError\u001b[0m: No module named 'pydantic'"
     ]
    }
   ],
   "source": [
    "from mirage.inference.prompters.APILLM import LLM\n",
    "llm = LLM()\n",
    "llm.do_request(query=query,\n",
    "               chunk_storage=chunks,\n",
    "               indexes=[element.chunk_storage_key for element in answer],\n",
    "               promt='')"
   ]
  },
  {
   "cell_type": "code",
   "execution_count": null,
   "metadata": {},
   "outputs": [],
   "source": []
  }
 ],
 "metadata": {
  "kernelspec": {
   "display_name": "env",
   "language": "python",
   "name": "python3"
  },
  "language_info": {
   "codemirror_mode": {
    "name": "ipython",
    "version": 3
   },
   "file_extension": ".py",
   "mimetype": "text/x-python",
   "name": "python",
   "nbconvert_exporter": "python",
   "pygments_lexer": "ipython3",
   "version": "3.11.5"
  }
 },
 "nbformat": 4,
 "nbformat_minor": 2
}
