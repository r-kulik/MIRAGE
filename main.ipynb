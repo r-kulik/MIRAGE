{
 "cells": [
  {
   "cell_type": "code",
   "execution_count": 8,
   "metadata": {},
   "outputs": [
    {
     "name": "stdout",
     "output_type": "stream",
     "text": [
      "The autoreload extension is already loaded. To reload it, use:\n",
      "  %reload_ext autoreload\n"
     ]
    }
   ],
   "source": [
    "# In a Jupyter Notebook cell\n",
    "%load_ext autoreload\n",
    "%autoreload 2\n"
   ]
  },
  {
   "cell_type": "code",
   "execution_count": 10,
   "metadata": {},
   "outputs": [
    {
     "name": "stdout",
     "output_type": "stream",
     "text": [
      "1.26.4\n"
     ]
    }
   ],
   "source": [
    "\n",
    "import numpy as np\n",
    "print(np.__version__)\n",
    "from mirage import WordCountingChunkingAlgorithm, FolderRawStorage, WhooshChunkStorage\n",
    "from mirage import HuggingFaceEmbedder, TextNormalizer\n",
    "from mirage import NatashaSentenceChunking, SemanticChunking\n",
    "import os\n",
    "import pickle"
   ]
  },
  {
   "cell_type": "code",
   "execution_count": 11,
   "metadata": {},
   "outputs": [],
   "source": [
    "embedder = HuggingFaceEmbedder(model_name='BAAI/bge-m3', normalizer=True)"
   ]
  },
  {
   "cell_type": "code",
   "execution_count": 12,
   "metadata": {},
   "outputs": [],
   "source": [
    "import logging\n",
    "logging.basicConfig(level=logging.ERROR)\n",
    "\n",
    "\n",
    "documents = FolderRawStorage('data_test')\n",
    " # тут заменить на нужную папку\n",
    "chunks = WhooshChunkStorage(scoring_function=\"BM25F\", normalizer=True)\n",
    "# algorithm = WordCountingChunkingAlgorithm(documents, chunks, words_amount=100)\n"
   ]
  },
  {
   "cell_type": "code",
   "execution_count": 13,
   "metadata": {},
   "outputs": [
    {
     "name": "stdout",
     "output_type": "stream",
     "text": [
      "Splitting text into the sentences\n"
     ]
    },
    {
     "name": "stderr",
     "output_type": "stream",
     "text": [
      "611it [00:00, 50276.02it/s]\n"
     ]
    },
    {
     "name": "stdout",
     "output_type": "stream",
     "text": [
      "creating embeddings of the sentences for semantic grouping\n"
     ]
    },
    {
     "name": "stderr",
     "output_type": "stream",
     "text": [
      "100%|██████████| 611/611 [00:58<00:00, 10.53it/s]\n"
     ]
    },
    {
     "name": "stdout",
     "output_type": "stream",
     "text": [
      "Adding chunks to the storage\n"
     ]
    },
    {
     "name": "stderr",
     "output_type": "stream",
     "text": [
      "100%|██████████| 427/427 [00:02<00:00, 150.76it/s]\n"
     ]
    },
    {
     "data": {
      "text/plain": [
       "1"
      ]
     },
     "execution_count": 13,
     "metadata": {},
     "output_type": "execute_result"
    }
   ],
   "source": [
    "\n",
    "algorithm = SemanticChunking(raw_storage=documents, chunk_storage=chunks, embedder=embedder, threshold=0.5, max_chunk_size=1000)\n",
    "algorithm.execute(visualize=True)"
   ]
  },
  {
   "cell_type": "code",
   "execution_count": 14,
   "metadata": {},
   "outputs": [
    {
     "name": "stdout",
     "output_type": "stream",
     "text": [
      "88\n"
     ]
    },
    {
     "data": {
      "text/plain": [
       "'Этот маленький ребус он послал нам с первой почтой, а сам выехал сюда ближайшим поездом.'"
      ]
     },
     "execution_count": 14,
     "metadata": {},
     "output_type": "execute_result"
    }
   ],
   "source": [
    "import random\n",
    "index = chunks.get_indexes()[random.randint(1, 50)]\n",
    "print(len(chunks[index]))\n",
    "chunks[index]"
   ]
  },
  {
   "cell_type": "code",
   "execution_count": 15,
   "metadata": {},
   "outputs": [
    {
     "name": "stdout",
     "output_type": "stream",
     "text": [
      "Converting ChunkStorage to VectorIndex\n"
     ]
    },
    {
     "name": "stderr",
     "output_type": "stream",
     "text": [
      "100%|██████████| 427/427 [00:43<00:00,  9.85it/s]\n"
     ]
    }
   ],
   "source": [
    "from mirage.index.vector_index.ram_vector_index import L2RAMVectorIndex\n",
    "from mirage import FaissIndexFlatL2, FaissIndexIVFPQR\n",
    "vector_index = FaissIndexIVFPQR(dimensionality=embedder.get_dimensionality())\n",
    "embedder.convert_chunks_to_vector_index(chunks, vector_index, visualize=True)"
   ]
  },
  {
   "cell_type": "code",
   "execution_count": 17,
   "metadata": {},
   "outputs": [
    {
     "name": "stdout",
     "output_type": "stream",
     "text": [
      "[0.8335791230201721, 0.8566122055053711, 0.8726161122322083, 0.8734219670295715, 0.8924689292907715, 0.8948429822921753, 0.929951012134552, 0.9746432304382324, 0.9803217649459839, 0.9977196455001831, 1.003746509552002, 1.0152220726013184, 1.01560640335083, 1.0271902084350586, 1.0438331365585327, 1.0458725690841675, 1.0471690893173218, 1.0567314624786377, 1.0579125881195068, 1.0834579467773438]\n"
     ]
    },
    {
     "data": {
      "text/plain": [
       "['— Она была найдена тяжело раненной возле своего мертвого мужа.',\n",
       " 'Так рассказывают служанки. Он умер, она при смерти.',\n",
       " 'Вы кончили тем, что убили этого благородного человека и довели его жену до самоубийства.',\n",
       " 'Возле окна корчилась его жена, прислонясь головой к стене. Рана ее была ужасна — кровь залила половину лица.',\n",
       " 'Их хозяин лежал посреди комнаты лицом вниз. Он был мертв.',\n",
       " 'Моя жена получила письмо из Америки — на конверте была американская марка. Жена смертельно побледнела, прочла письмо и швырнула в огонь.',\n",
       " '— Если Илей умрет, мне все равно, что будет со мною, — сказал американец.',\n",
       " 'Доктор удалился к своим пациентам.',\n",
       " 'Я увидел, как из-за угла выползла темная согнутая фигура и уселась перед дверью. Схватив револьвер, я рванулся вперед, но жена судорожно обняла меня и удержала на месте. Я пытался оттолкнуть ее, но она вцепилась в меня еще отчаяннее.',\n",
       " 'Он умер мгновенно и безболезненно.',\n",
       " '— Вы трогали убитого? — спросил Холме.',\n",
       " '— Его несомненно закрыла женщина, закрыла инстинктивно…',\n",
       " 'Она смертельно перепугалась. Она ничего не говорит мне, но я вижу в глазах у нее ужас.',\n",
       " 'Окно было закрыто на задвижку изнутри, обе женщины утверждали это с полной уверенностью.',\n",
       " 'Я не могу оставить жену на ночь в одиночестве.',\n",
       " 'Показания обеих женщин были в высшей степени точны.',\n",
       " 'Она выстрелила сначала в него, потом в себя.',\n",
       " '— Вы совершенно правы, сэр: значит, был третий выстрел и, следовательно, был третий человек.',\n",
       " '«ИЛСИ, ГОТОВЬСЯ К СМЕРТИ»!',\n",
       " '— Я стрелял в него, но и он стрелял в меня, — следовательно, это нельзя назвать убийством.']"
      ]
     },
     "execution_count": 17,
     "metadata": {},
     "output_type": "execute_result"
    }
   ],
   "source": [
    "query = 'убитая женщина'\n",
    "query_vector = embedder.embed(text=query)\n",
    "# print(query_vector)\n",
    "answer = vector_index.query(\n",
    "    query_vector, top_k=20\n",
    ")\n",
    "print([element.score for element in answer])\n",
    "[chunks[element.chunk_storage_key] for element in answer]"
   ]
  },
  {
   "cell_type": "code",
   "execution_count": 18,
   "metadata": {},
   "outputs": [
    {
     "name": "stdout",
     "output_type": "stream",
     "text": [
      "7.189961190126932\n"
     ]
    },
    {
     "data": {
      "text/plain": [
       "[QueryResult(score=7.189961190126932, chunk_storage_key='76776b4e-438f-4fc5-98f8-e754a1ac88d4', vector=None),\n",
       " QueryResult(score=4.863961050920773, chunk_storage_key='d6fc642c-4f88-4e29-8b4c-4ea1e506c992', vector=None)]"
      ]
     },
     "execution_count": 18,
     "metadata": {},
     "output_type": "execute_result"
    }
   ],
   "source": [
    "chunks.query('убийство')"
   ]
  },
  {
   "cell_type": "code",
   "execution_count": 23,
   "metadata": {},
   "outputs": [
    {
     "name": "stdout",
     "output_type": "stream",
     "text": [
      "Amount of vectors loaded in quorum: 189193\n",
      "word \"быть\" is presented in word vectors: True\n",
      "set of POS in w2v model: {'PROPN', 'X', 'NOUN', 'VERB', 'ADV', 'INTJ', 'ADJ', 'SYM', 'NUM'}\n",
      "Rules of synonimization: {'ADJ': 0.5, 'VERB': 0.65}\n",
      " For word \"убил\" obtained synonims:\n",
      "[('убивать_VERB', 0.7964877486228943), ('застреливать_VERB', 0.704032838344574), ('убить_ADJ', 0.6715459227561951), ('застрелить_VERB', 0.6328871250152588), ('убивать_NOUN', 0.6270444989204407), ('убитый_ADJ', 0.6136345863342285), ('убивать_ADJ', 0.5941329598426819), ('погибать_VERB', 0.5825400352478027), ('казнять_VERB', 0.573449432849884), ('зарезать_VERB', 0.5693537592887878), ('зарублять_VERB', 0.5649162530899048), ('расстреливать_VERB', 0.5634232759475708), ('убитый_VERB', 0.5592145919799805), ('ранить_VERB', 0.558910608291626), ('зарубить_VERB', 0.5410849452018738), ('избить_VERB', 0.531154990196228), ('застрелиться_VERB', 0.5310904383659363), ('изувечить_VERB', 0.5287972092628479), ('изувечивать_VERB', 0.5250490307807922), ('стрелявший_VERB', 0.5229915380477905)]\n",
      " For word \"эту\" obtained synonims:\n",
      "[('какой-нибудь_ADV', 0.5334228873252869), ('этой-то_ADJ', 0.4791176915168762), ('тот_ADJ', 0.4486929476261139), ('учена_ADJ', 0.44720259308815), ('счастие_NOUN', 0.4420354962348938), ('который_NOUN', 0.4349658787250519), ('который_ADV', 0.4016944468021393), ('романический_ADJ', 0.39855673909187317), ('эта-то_ADV', 0.3941023647785187), ('какой-то_ADV', 0.3939400613307953), ('энергический_ADJ', 0.3899030089378357), ('несчастие_NOUN', 0.3755437135696411), ('благодетельный_ADJ', 0.3751724362373352), ('простототь_NOUN', 0.369256854057312), ('положительно_ADV', 0.3655303418636322), ('беспрестанно_ADV', 0.36162927746772766), ('нимало_ADV', 0.3592618703842163), ('это-то_ADV', 0.35855087637901306), ('ужаснейший_ADJ', 0.35472750663757324), ('своекорыстный_ADJ', 0.35441604256629944)]\n",
      " For word \"красивую\" obtained synonims:\n",
      "[('красивый_PROPN', 0.7363542318344116), ('некрасивый_ADJ', 0.6479063630104065), ('стройный_ADJ', 0.6461432576179504), ('элегантный_ADJ', 0.6456698775291443), ('изящный_ADJ', 0.6344283819198608), ('нарядный_ADJ', 0.6260179281234741), ('красавец_NOUN', 0.6139982342720032), ('миловидный_ADJ', 0.6123967170715332), ('прелестный_ADJ', 0.6123663783073425), ('хорошенький_ADJ', 0.6098748445510864), ('прекрасный_ADJ', 0.6008203029632568), ('статный_ADJ', 0.5975123643875122), ('привлекательный_ADJ', 0.5913320183753967), ('очаровательный_ADJ', 0.5913035273551941), ('симпатичный_ADJ', 0.5828662514686584), ('красавица_NOUN', 0.5805284380912781), ('пышный_ADJ', 0.5766222476959229), ('смуглый_ADJ', 0.5733794569969177), ('стильный_ADJ', 0.5726059079170227), ('изящен_VERB', 0.5704370737075806)]\n",
      " For word \"привлекательную\" obtained synonims:\n",
      "[('симпатичный_ADJ', 0.6088603138923645), ('красивый_ADJ', 0.5913320183753967), ('непривлекательный_ADJ', 0.5885276198387146), ('привлекательно_ADV', 0.5311717987060547), ('заманчивый_ADJ', 0.529874324798584), ('приятный_ADJ', 0.5277220606803894), ('обворожительный_ADJ', 0.5141509771347046), ('оригинальный_ADJ', 0.5075100660324097), ('эротичный_ADJ', 0.5000144839286804), ('эффектный_ADJ', 0.49808818101882935), ('интересный_ADJ', 0.49384060502052307), ('романтичный_ADJ', 0.49280497431755066), ('стильный_ADJ', 0.4918038249015808), ('притягательный_ADJ', 0.49002179503440857), ('соблазнительный_ADJ', 0.489685595035553), ('обаятельный_ADJ', 0.4879958927631378), ('женственный_ADJ', 0.4876433312892914), ('привлекательность_NOUN', 0.48546701669692993), ('привлекательный_VERB', 0.48249220848083496), ('выразительный_ADJ', 0.4817841649055481)]\n",
      "SEARCH QUERY with sim 0.0: кто убил эту красивую и привлекательную женщину?\n",
      "SEARCH QUERY with sim 0.7964877486228943: кто убивать эту красивую и привлекательную женщину?\n",
      "SEARCH QUERY with sim 1.4443941116333008: кто убивать эту некрасивую и привлекательную женщину?\n",
      "SEARCH QUERY with sim 2.0532544255256653: кто убивать эту некрасивую и симпатичную женщину?\n",
      "SEARCH QUERY with sim 2.586677312850952: кто убивать какой-нибудь некрасивую и симпатичную женщину?\n",
      "SEARCH QUERY with sim 2.584914207458496: кто убивать какой-нибудь стройную и симпатичную женщину?\n",
      "SEARCH QUERY with sim 2.58444082736969: кто убивать какой-нибудь элегантную и симпатичную женщину?\n",
      "SEARCH QUERY with sim 2.5731993317604065: кто убивать какой-нибудь изящную и симпатичную женщину?\n",
      "SEARCH QUERY with sim 2.5691490173339844: кто убивать какой-нибудь некрасивую и красивую женщину?\n",
      "SEARCH QUERY with sim 2.5673859119415283: кто убивать какой-нибудь стройную и красивую женщину?\n",
      "SEARCH QUERY with sim 2.566912531852722: кто убивать какой-нибудь элегантную и красивую женщину?\n",
      "SEARCH QUERY with sim 2.5663446187973022: кто убивать какой-нибудь некрасивую и непривлекательный женщину?\n",
      "SEARCH QUERY with sim 2.5647888779640198: кто убивать какой-нибудь нарядную и симпатичную женщину?\n",
      "SEARCH QUERY with sim 2.564581513404846: кто убивать какой-нибудь стройную и непривлекательный женщину?\n",
      "SEARCH QUERY with sim 2.56410813331604: кто убивать какой-нибудь элегантную и непривлекательный женщину?\n",
      "SEARCH QUERY with sim 2.5556710362434387: кто убивать какой-нибудь изящную и красивую женщину?\n",
      "SEARCH QUERY with sim 2.5528666377067566: кто убивать какой-нибудь изящную и непривлекательный женщину?\n",
      "SEARCH QUERY with sim 2.552769184112549: кто убивать какой-нибудь красавец и симпатичную женщину?\n",
      "SEARCH QUERY with sim 2.551167666912079: кто убивать какой-нибудь миловидную и симпатичную женщину?\n",
      "SEARCH QUERY with sim 2.551137328147888: кто убивать какой-нибудь прелестную и симпатичную женщину?\n",
      "SEARCH QUERY with sim 2.548645794391632: кто убивать какой-нибудь хорошенький и симпатичную женщину?\n",
      "SEARCH QUERY with sim 2.547260582447052: кто убивать какой-нибудь нарядную и красивую женщину?\n",
      "SEARCH QUERY with sim 2.54445618391037: кто убивать какой-нибудь нарядную и непривлекательный женщину?\n",
      "SEARCH QUERY with sim 2.5395912528038025: кто убивать какой-нибудь прекрасную и симпатичную женщину?\n",
      "SEARCH QUERY with sim 2.536283314228058: кто убивать какой-нибудь статную и симпатичную женщину?\n"
     ]
    },
    {
     "data": {
      "text/plain": [
       "[QueryResult(score=4.235756319691941, chunk_storage_key='18cb715c-dd8f-45a2-93a0-b40cae5ec09f', vector=None),\n",
       " QueryResult(score=6.308011912347461, chunk_storage_key='b3cfce21-e1d5-4520-8533-b6344f049728', vector=None),\n",
       " QueryResult(score=6.006355784088442, chunk_storage_key='215ee618-aff7-4829-83d9-cc2b831a5f72', vector=None),\n",
       " QueryResult(score=4.06325984511512, chunk_storage_key='dcd5cf3c-8e34-4187-b5e8-fcad76fcd387', vector=None),\n",
       " QueryResult(score=5.0419157615989665, chunk_storage_key='570e6cda-8b72-4bb1-b306-bb81b62a4cc4', vector=None),\n",
       " QueryResult(score=5.194963006640833, chunk_storage_key='5951ef07-7dda-4768-beae-a27d9efb077e', vector=None),\n",
       " QueryResult(score=6.8618212833083625, chunk_storage_key='4330f942-8b47-45be-b307-43ee20669153', vector=None),\n",
       " QueryResult(score=2.467047428704616, chunk_storage_key='586b85b3-e6d1-45d1-8e6b-56b9cb927672', vector=None),\n",
       " QueryResult(score=6.8618212833083625, chunk_storage_key='9c27a6d0-ce9c-4aca-a3a0-71d5dfb97aac', vector=None),\n",
       " QueryResult(score=4.8792679002267425, chunk_storage_key='f8032a38-3a36-4799-829b-e25b623ff702', vector=None),\n",
       " QueryResult(score=6.544851030792073, chunk_storage_key='6dae2380-38a1-4b69-9821-d2d1e030cc86', vector=None),\n",
       " QueryResult(score=7.008904750645987, chunk_storage_key='12ebb40d-49ef-4565-a3f9-8fcdb1a34989', vector=None),\n",
       " QueryResult(score=2.467047428704616, chunk_storage_key='76e2f095-6ce5-4b5a-a899-b43741452bb3', vector=None)]"
      ]
     },
     "execution_count": 23,
     "metadata": {},
     "output_type": "execute_result"
    }
   ],
   "source": [
    "from mirage.inference.quorums.RusVectoresQuorum import RusVectoresQuorum\n",
    "\n",
    "\n",
    "quorum = RusVectoresQuorum(\n",
    "    chunk_storage=chunks, \n",
    "    path_to_model='mirage\\inference\\quorums\\model.bin',\n",
    "    POS_thresholds={\"ADJ\": 0.5, \"VERB\": 0.65},\n",
    "    visualize=True,\n",
    "    max_combinations=25)\n",
    "quorum.query(\"кто убил эту красивую и привлекательную женщину?\")"
   ]
  },
  {
   "cell_type": "code",
   "execution_count": null,
   "metadata": {},
   "outputs": [],
   "source": [
    "from mirage.inference.prompters.APILLM import LLM\n",
    "llm = LLM()\n",
    "llm.do_request(query=query,\n",
    "               chunk_storage=chunks,\n",
    "               indexes=[element.chunk_storage_key for element in answer],\n",
    "               prompt='')"
   ]
  },
  {
   "cell_type": "code",
   "execution_count": null,
   "metadata": {},
   "outputs": [],
   "source": []
  }
 ],
 "metadata": {
  "kernelspec": {
   "display_name": "env",
   "language": "python",
   "name": "python3"
  },
  "language_info": {
   "codemirror_mode": {
    "name": "ipython",
    "version": 3
   },
   "file_extension": ".py",
   "mimetype": "text/x-python",
   "name": "python",
   "nbconvert_exporter": "python",
   "pygments_lexer": "ipython3",
   "version": "3.11.5"
  }
 },
 "nbformat": 4,
 "nbformat_minor": 2
}
