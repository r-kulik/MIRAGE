{
 "cells": [
  {
   "cell_type": "code",
   "execution_count": 2,
   "metadata": {},
   "outputs": [],
   "source": [
    "# In a Jupyter Notebook cell\n",
    "%load_ext autoreload\n",
    "%autoreload 2\n"
   ]
  },
  {
   "cell_type": "code",
   "execution_count": 3,
   "metadata": {},
   "outputs": [
    {
     "name": "stdout",
     "output_type": "stream",
     "text": [
      "1.26.4\n"
     ]
    },
    {
     "name": "stderr",
     "output_type": "stream",
     "text": [
      "c:\\Users\\Bulkin\\MIRAGE\\env\\Lib\\site-packages\\tqdm\\auto.py:21: TqdmWarning: IProgress not found. Please update jupyter and ipywidgets. See https://ipywidgets.readthedocs.io/en/stable/user_install.html\n",
      "  from .autonotebook import tqdm as notebook_tqdm\n"
     ]
    }
   ],
   "source": [
    "\n",
    "import numpy as np\n",
    "print(np.__version__)\n",
    "\n",
    "from mirage import WordCountingChunkingAlgorithm, FolderRawStorage, WhooshChunkStorage\n",
    "from mirage import HuggingFaceEmbedder, TextNormalizer\n",
    "from mirage import NatashaSentenceChunking, SemanticChunking\n",
    "import os\n",
    "import pickle"
   ]
  },
  {
   "cell_type": "code",
   "execution_count": 4,
   "metadata": {},
   "outputs": [],
   "source": [
    "embedder = HuggingFaceEmbedder(model_name='BAAI/bge-m3', normalizer=True)"
   ]
  },
  {
   "cell_type": "code",
   "execution_count": 5,
   "metadata": {},
   "outputs": [],
   "source": [
    "import logging\n",
    "logging.basicConfig(level=logging.ERROR)\n",
    "\n",
    "\n",
    "documents = FolderRawStorage('data_test')\n",
    "chunks = WhooshChunkStorage(scoring_function=\"BM25F\", normalizer=True)\n",
    "# algorithm = WordCountingChunkingAlgorithm(documents, chunks, words_amount=100)\n"
   ]
  },
  {
   "cell_type": "code",
   "execution_count": 6,
   "metadata": {},
   "outputs": [
    {
     "name": "stdout",
     "output_type": "stream",
     "text": [
      "Splitting text into the sentences\n"
     ]
    },
    {
     "name": "stderr",
     "output_type": "stream",
     "text": [
      "611it [00:00, 31855.61it/s]\n"
     ]
    },
    {
     "name": "stdout",
     "output_type": "stream",
     "text": [
      "creating embeddings of the sentences for semantic grouping\n"
     ]
    },
    {
     "name": "stderr",
     "output_type": "stream",
     "text": [
      "100%|██████████| 611/611 [00:42<00:00, 14.28it/s]\n"
     ]
    },
    {
     "name": "stdout",
     "output_type": "stream",
     "text": [
      "Adding chunks to the storage\n"
     ]
    },
    {
     "name": "stderr",
     "output_type": "stream",
     "text": [
      "100%|██████████| 427/427 [00:02<00:00, 171.87it/s]\n"
     ]
    },
    {
     "data": {
      "text/plain": [
       "1"
      ]
     },
     "execution_count": 6,
     "metadata": {},
     "output_type": "execute_result"
    }
   ],
   "source": [
    "\n",
    "algorithm = SemanticChunking(raw_storage=documents, chunk_storage=chunks, embedder=embedder, threshold=0.5, max_chunk_size=1000)\n",
    "algorithm.execute(visualize=True)"
   ]
  },
  {
   "cell_type": "code",
   "execution_count": null,
   "metadata": {},
   "outputs": [],
   "source": []
  },
  {
   "cell_type": "code",
   "execution_count": 7,
   "metadata": {},
   "outputs": [
    {
     "name": "stdout",
     "output_type": "stream",
     "text": [
      "152\n"
     ]
    },
    {
     "data": {
      "text/plain": [
       "'Пожав нам руки, он уже собирался усесться, как вдруг взор его упал на листок с забавными значками, который я только что рассматривал и оставил на столе.'"
      ]
     },
     "execution_count": 7,
     "metadata": {},
     "output_type": "execute_result"
    }
   ],
   "source": [
    "import random\n",
    "index = chunks.get_indexes()[random.randint(1, 50)]\n",
    "print(len(chunks[index]))\n",
    "chunks[index]"
   ]
  },
  {
   "cell_type": "code",
   "execution_count": 8,
   "metadata": {},
   "outputs": [
    {
     "name": "stdout",
     "output_type": "stream",
     "text": [
      "Converting ChunkStorage to VectorIndex\n"
     ]
    },
    {
     "name": "stderr",
     "output_type": "stream",
     "text": [
      "100%|██████████| 427/427 [00:34<00:00, 12.46it/s]\n"
     ]
    }
   ],
   "source": [
    "from mirage.index.vector_index.ram_vector_index import L2RAMVectorIndex\n",
    "from mirage import FaissIndexFlatL2, FaissIndexIVFPQR\n",
    "vector_index = FaissIndexIVFPQR(dimensionality=embedder.get_dimensionality())\n",
    "embedder.convert_chunks_to_vector_index(chunks, vector_index, visualize=True)"
   ]
  },
  {
   "cell_type": "code",
   "execution_count": 11,
   "metadata": {},
   "outputs": [
    {
     "name": "stdout",
     "output_type": "stream",
     "text": [
      "[0.8335791230201721, 0.8566122055053711, 0.8726161122322083, 0.8734219670295715, 0.8924689292907715, 0.8948429822921753, 0.929951012134552, 0.9746432304382324, 0.9803217649459839, 0.9977196455001831, 1.003746509552002, 1.0152220726013184, 1.01560640335083, 1.0271902084350586, 1.0438331365585327, 1.0458725690841675, 1.0471690893173218, 1.0567314624786377, 1.0579125881195068, 1.0834579467773438]\n"
     ]
    },
    {
     "data": {
      "text/plain": [
       "['— Она была найдена тяжело раненной возле своего мертвого мужа.',\n",
       " 'Так рассказывают служанки. Он умер, она при смерти.',\n",
       " 'Вы кончили тем, что убили этого благородного человека и довели его жену до самоубийства.',\n",
       " 'Возле окна корчилась его жена, прислонясь головой к стене. Рана ее была ужасна — кровь залила половину лица.',\n",
       " 'Их хозяин лежал посреди комнаты лицом вниз. Он был мертв.',\n",
       " 'Моя жена получила письмо из Америки — на конверте была американская марка. Жена смертельно побледнела, прочла письмо и швырнула в огонь.',\n",
       " '— Если Илей умрет, мне все равно, что будет со мною, — сказал американец.',\n",
       " 'Доктор удалился к своим пациентам.',\n",
       " 'Я увидел, как из-за угла выползла темная согнутая фигура и уселась перед дверью. Схватив револьвер, я рванулся вперед, но жена судорожно обняла меня и удержала на месте. Я пытался оттолкнуть ее, но она вцепилась в меня еще отчаяннее.',\n",
       " 'Он умер мгновенно и безболезненно.',\n",
       " '— Вы трогали убитого? — спросил Холме.',\n",
       " '— Его несомненно закрыла женщина, закрыла инстинктивно…',\n",
       " 'Она смертельно перепугалась. Она ничего не говорит мне, но я вижу в глазах у нее ужас.',\n",
       " 'Окно было закрыто на задвижку изнутри, обе женщины утверждали это с полной уверенностью.',\n",
       " 'Я не могу оставить жену на ночь в одиночестве.',\n",
       " 'Показания обеих женщин были в высшей степени точны.',\n",
       " 'Она выстрелила сначала в него, потом в себя.',\n",
       " '— Вы совершенно правы, сэр: значит, был третий выстрел и, следовательно, был третий человек.',\n",
       " '«ИЛСИ, ГОТОВЬСЯ К СМЕРТИ»!',\n",
       " '— Я стрелял в него, но и он стрелял в меня, — следовательно, это нельзя назвать убийством.']"
      ]
     },
     "execution_count": 11,
     "metadata": {},
     "output_type": "execute_result"
    }
   ],
   "source": [
    "query = 'убитая женщина'\n",
    "query_vector = embedder.embed(text=query)\n",
    "# print(query_vector)\n",
    "answer = vector_index.query(\n",
    "    query_vector, top_k=20\n",
    ")\n",
    "print([element.distance for element in answer])\n",
    "[chunks[element.chunk_storage_key] for element in answer]"
   ]
  },
  {
   "cell_type": "code",
   "execution_count": 15,
   "metadata": {},
   "outputs": [
    {
     "data": {
      "text/plain": [
       "[ChunkNote(text='Если этот Аб Слени, живущий у Элриджа, действительно убийца и если он удерет, пока я сижу здесь, меня ждут крупные неприятности.', raw_document_index='человечки.txt'),\n",
       " ChunkNote(text='В этом деле есть несколько ^пунктов, которые я еще не в состоянии вам разъяснить. Я в своих открытиях зашел уже так далеко, что будет благоразумнее, если я подожду еще немного, а потом объясню вам все сразу. — Как вам угодно, мистер Холме, лишь бы убийца не ушел от нас.', raw_document_index='человечки.txt')]"
      ]
     },
     "execution_count": 15,
     "metadata": {},
     "output_type": "execute_result"
    }
   ],
   "source": [
    "answer_fulltext = chunks.query(\"убийца\")\n",
    "answer_fulltext"
   ]
  },
  {
   "cell_type": "code",
   "execution_count": null,
   "metadata": {},
   "outputs": [],
   "source": [
    "from mirage.inference.prompters.APILLM import LLM\n",
    "llm = LLM()\n",
    "llm.do_request(query=query,\n",
    "               chunk_storage=chunks,\n",
    "               indexes=[element.chunk_storage_key for element in answer],\n",
    "               prompt='')"
   ]
  },
  {
   "cell_type": "code",
   "execution_count": null,
   "metadata": {},
   "outputs": [],
   "source": []
  }
 ],
 "metadata": {
  "kernelspec": {
   "display_name": "env",
   "language": "python",
   "name": "python3"
  },
  "language_info": {
   "codemirror_mode": {
    "name": "ipython",
    "version": 3
   },
   "file_extension": ".py",
   "mimetype": "text/x-python",
   "name": "python",
   "nbconvert_exporter": "python",
   "pygments_lexer": "ipython3",
   "version": "3.11.5"
  }
 },
 "nbformat": 4,
 "nbformat_minor": 2
}
