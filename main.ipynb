{
 "cells": [
  {
   "cell_type": "code",
   "execution_count": 1,
   "metadata": {},
   "outputs": [],
   "source": [
    "# In a Jupyter Notebook cell\n",
    "%load_ext autoreload\n",
    "%autoreload 2\n",
    "\n",
    "from mirage.index import WordCountingChunkingAlgorithm, FolderRawStorage, SQLiteChunkStorage, RAMChunkStorage\n",
    "from mirage.embedders.TextNormallizer import TextNormallizer\n",
    "import os\n",
    "import pickle\n",
    "\n",
    "# Your code here"
   ]
  },
  {
   "cell_type": "code",
   "execution_count": 9,
   "metadata": {},
   "outputs": [
    {
     "name": "stderr",
     "output_type": "stream",
     "text": [
      "INFO:mirage.index.chunking_algorithms.ChunkingAlgorithm:Chunking of documents\n"
     ]
    },
    {
     "name": "stdout",
     "output_type": "stream",
     "text": [
      "['1.txt.txt', '2.txt.txt', '3.txt.txt', '4.txt.txt', '5.txt.txt']\n",
      "set()\n",
      "entering a main loop\n"
     ]
    },
    {
     "name": "stderr",
     "output_type": "stream",
     "text": [
      "  0%|          | 0/5 [00:00<?, ?it/s]INFO:mirage.index.chunking_algorithms.WordCountingChunkAlgorithm: 90 words are parsed from the document\n",
      "INFO:mirage.index.chunking_algorithms.WordCountingChunkAlgorithm: 89 words are parsed from the document\n",
      "INFO:mirage.index.chunking_algorithms.WordCountingChunkAlgorithm: 90 words are parsed from the document\n",
      "INFO:mirage.index.chunking_algorithms.WordCountingChunkAlgorithm: 87 words are parsed from the document\n",
      "INFO:mirage.index.chunking_algorithms.WordCountingChunkAlgorithm: 91 words are parsed from the document\n",
      "100%|██████████| 5/5 [00:00<00:00, 1666.39it/s]"
     ]
    },
    {
     "name": "stdout",
     "output_type": "stream",
     "text": [
      "7564616747055211180 Самолет летит высоко в небе. Самолеты часто перевозят пассажиров. Самолетный\n",
      "-7729341251079173021 шум слышен издалека. Автомобиль едет по дороге. Автомобили бывают разных\n",
      "-1037449722206109400 цветов. Автомобильный двигатель работает громко. Поезд движется по рельсам. Поезда\n",
      "-5967334848183472705 перевозят грузы и людей. Поездный вокзал всегда busy. Велосипед стоит\n",
      "3801711171415958650 у дома. Велосипеды популярны в городе. Велосипедная прогулка полезна для\n",
      "-5411010187642328620 здоровья. Корабль плывет по морю. Корабли бывают большими и маленькими.\n",
      "3545096870229102315 Корабельная команда работает слаженно. Трамвай едет по городу. Трамваи удобны\n",
      "2201076803617522514 для поездок. Трамвайный маршрут проходит через центр. Автобус остановился на\n",
      "-4075323192343073511 Дерево растет в лесу. Деревья дают тень в жаркий день.\n",
      "-3853568377787044718 Деревянный дом выглядит уютно. Река течет быстро. Реки впадают в\n",
      "-3343117601623064829 моря. Речной берег покрыт песком. Гора возвышается над лесом. Горы\n",
      "4102804506795595554 бывают высокими и низкими. Горный воздух свеж и чист. Цветок\n",
      "-4028457260526165617 растет в саду. Цветы радуют глаз своими красками. Цветочный аромат\n",
      "-5563901824315975393 приятен. Солнце светит ярко. Солнечные лучи греют землю. Солнечный день\n",
      "2063845075358516 идеален для прогулок. Луна светит ночью. Луны бывают полными и\n",
      "-7231964708208903446 Яблоко лежит на столе. Яблоки бывают красными и зелеными. Яблочный\n",
      "-2576100417421471943 сок вкусен и полезен. Хлеб свежий и ароматный. Хлеба пекут\n",
      "-5935941754169491870 в пекарне. Хлебный запах наполняет дом. Молоко налито в стакан.\n",
      "-2342516155956357447 Молоко полезно для здоровья. Молочный коктейль любят дети. Сыр лежит\n",
      "-8321412227538450433 на тарелке. Сыры бывают разных сортов. Сырный вкус нравится многим.\n",
      "-981676778280538775 Рыба плавает в воде. Рыбы бывают морскими и речными. Рыбный\n",
      "-5193473601129871038 суп готовят на обед. Мясо жарится на сковороде. Мясные блюда\n",
      "4273298355494824045 популярны в ресторанах. Мясной аромат привлекает гостей. Овощи лежат в\n",
      "-158060251772435269 Футбол популярен во всем мире. Футболисты играют на поле. Футбольный\n",
      "-5997393429470365487 матч собирает зрителей. Баскетбол играют в зале. Баскетболисты высокие и\n",
      "7126102094813102438 сильные. Баскетбольный мяч летит в кольцо. Теннис играют на корте.\n",
      "7506399502093607316 Теннисисты тренируются каждый день. Теннисный матч длится несколько часов. Бег\n",
      "-8860137309387189021 полезен для здоровья. Бегуны участвуют в марафонах. Беговая дорожка находится\n",
      "-6731132064293021263 в парке. Плавание укрепляет мышцы. Пловцы тренируются в бассейне. Плавательный\n",
      "2309825615648078515 костюм удобен для занятий. Волейбол играют на пляже. Волейболисты прыгают\n",
      "-6763093564301668301 Стол стоит в комнате. Столы бывают деревянными и стеклянными. Столовый\n",
      "-4687030796650732305 прибор лежит на столе. Стул стоит рядом. Стулья удобны для\n",
      "-8738189003624562669 сидения. Стульный дизайн может быть разным. Кровать стоит в спальне.\n",
      "-8714988728118664546 Кровати бывают односпальными и двуспальными. Кроватное белье мягкое и приятное.\n",
      "-7851427390094611189 Окно открыто на улицу. Окна пропускают свет. Оконный вид радует\n",
      "-4848641884431162016 глаз. Дверь ведет в другую комнату. Двери бывают деревянными и\n",
      "-828944634605792206 металлическими. Дверной звонок звучит громко. Лампа светит ярко. Лампы бывают\n",
      "3512162878419568987 настольными и потолочными. Ламповый свет создает уют. Ковер лежит на\n"
     ]
    },
    {
     "name": "stderr",
     "output_type": "stream",
     "text": [
      "\n"
     ]
    },
    {
     "data": {
      "text/plain": [
       "5"
      ]
     },
     "execution_count": 9,
     "metadata": {},
     "output_type": "execute_result"
    }
   ],
   "source": [
    "# if os.path.exists('temp_ram_storage'):\n",
    "#     with open('temp_ram_storage', 'rb') as f:\n",
    "#         chunks = pickle.load(f)\n",
    "# with open('temp_ram_storage', 'wb') as f:\n",
    "#     pickle.dump(chunks, f)\n",
    "# else:\n",
    "# \n",
    "\n",
    "import logging\n",
    "logging.basicConfig(level=logging.DEBUG)\n",
    "\n",
    "\n",
    "documents = FolderRawStorage('data')\n",
    "chunks = RAMChunkStorage()\n",
    "algorithm = WordCountingChunkingAlgorithm(documents, chunks, words_amount=10)\n",
    "algorithm.execute()\n",
    "\n"
   ]
  },
  {
   "cell_type": "code",
   "execution_count": 79,
   "metadata": {},
   "outputs": [
    {
     "name": "stderr",
     "output_type": "stream",
     "text": [
      "INFO:pymorphy2.opencorpora_dict.wrapper:Loading dictionaries from C:\\Users\\sk2va\\AppData\\Local\\Packages\\PythonSoftwareFoundation.Python.3.11_qbz5n2kfra8p0\\LocalCache\\local-packages\\Python311\\site-packages\\pymorphy2_dicts_ru\\data\n",
      "INFO:pymorphy2.opencorpora_dict.wrapper:format: 2.4, revision: 417127, updated: 2020-10-11T15:05:51.070345\n"
     ]
    },
    {
     "name": "stdout",
     "output_type": "stream",
     "text": [
      "-5967334848183472705\n",
      "перевоз груз люд поездн вокза busi велосипед сто\n",
      "перевозят грузы и людей. Поездный вокзал всегда busy. Велосипед стоит\n"
     ]
    }
   ],
   "source": [
    "import random\n",
    "indexes = chunks.get_indexes()\n",
    "normalizer = TextNormallizer(stop_word_remove=True, word_generalization='stem')\n",
    "index = random.choice(list(indexes))\n",
    "print(index)\n",
    "print(normalizer.normalize(chunks[index]))\n",
    "print(chunks[index])\n"
   ]
  },
  {
   "cell_type": "code",
   "execution_count": 80,
   "metadata": {},
   "outputs": [
    {
     "name": "stderr",
     "output_type": "stream",
     "text": [
      "INFO:pymorphy2.opencorpora_dict.wrapper:Loading dictionaries from C:\\Users\\sk2va\\AppData\\Local\\Packages\\PythonSoftwareFoundation.Python.3.11_qbz5n2kfra8p0\\LocalCache\\local-packages\\Python311\\site-packages\\pymorphy2_dicts_ru\\data\n",
      "INFO:pymorphy2.opencorpora_dict.wrapper:format: 2.4, revision: 417127, updated: 2020-10-11T15:05:51.070345\n"
     ]
    }
   ],
   "source": [
    "from mirage.embedders.BowEmbedder import BowEmbedder\n",
    "\n",
    "emb = BowEmbedder(normalizer = True)\n",
    "emb.fit(chunks)"
   ]
  },
  {
   "cell_type": "code",
   "execution_count": 81,
   "metadata": {},
   "outputs": [
    {
     "data": {
      "text/plain": [
       "235"
      ]
     },
     "execution_count": 81,
     "metadata": {},
     "output_type": "execute_result"
    }
   ],
   "source": [
    "emb.get_dimensionality()\n"
   ]
  },
  {
   "cell_type": "code",
   "execution_count": 82,
   "metadata": {},
   "outputs": [
    {
     "name": "stdout",
     "output_type": "stream",
     "text": [
      "Converting ChunkStorage to VectorIndex\n"
     ]
    },
    {
     "name": "stderr",
     "output_type": "stream",
     "text": [
      "100%|██████████| 38/38 [00:00<00:00, 1899.57it/s]\n"
     ]
    }
   ],
   "source": [
    "from mirage.index.vector_index.ram_vector_index import L2RAMVectorIndex\n",
    "\n",
    "vector_index = L2RAMVectorIndex(dimensionality = emb.get_dimensionality())\n",
    "emb.convert_chunks_to_vector_index(chunks, vector_index, visualize=True)\n"
   ]
  },
  {
   "cell_type": "code",
   "execution_count": 95,
   "metadata": {},
   "outputs": [
    {
     "data": {
      "text/plain": [
       "['у дома. Велосипеды популярны в городе. Велосипедная прогулка полезна для',\n",
       " 'для поездок. Трамвайный маршрут проходит через центр. Автобус остановился на',\n",
       " 'Молоко полезно для здоровья. Молочный коктейль любят дети. Сыр лежит',\n",
       " 'сидения. Стульный дизайн может быть разным. Кровать стоит в спальне.',\n",
       " 'перевозят грузы и людей. Поездный вокзал всегда busy. Велосипед стоит']"
      ]
     },
     "execution_count": 95,
     "metadata": {},
     "output_type": "execute_result"
    }
   ],
   "source": [
    "answer = vector_index.query(\n",
    "    emb.embed(\n",
    "        \"какая еда полезна?\"\n",
    "    ), top_k=5\n",
    ")\n",
    "[chunks[answer[i].chunk_storage_key] for i in range(5)]"
   ]
  },
  {
   "cell_type": "code",
   "execution_count": null,
   "metadata": {},
   "outputs": [
    {
     "data": {
      "text/plain": [
       "'торцевым освещением, состоящие из двух или более\\nприборов в общем корпусе, привязные, поясные и плечевые ремни, швартовочное оборудование для\\nгрузов и багажа, включая контейнеры, ящики, поддоны и т.п., применяемые в кабинах для пассажиров и\\nэкипажа, должны иметь скорость горения не выше 60 мм/мин при испытании их на горючесть в\\nгоризонтальном положении в соответствии с относящимися к ним пунктами Приложения F к настоящим\\nНормам или другими эквивалентными методиками.\\n(v) Кроме изоляции электрической проводки и небольших деталей (таких, как кнопки, рукоятки,\\nштурвалы, замки, зажимы, люверсы, прокладки, шкивы и небольшие детали электрооборудования),\\nкоторые мало способствуют распространению пламени, материалы изделий, не оговоренных вподпунктах\\n(d)(3)(i), (ii) или (iv) настоящего параграфа, должны иметь скорость горения'"
      ]
     },
     "execution_count": 37,
     "metadata": {},
     "output_type": "execute_result"
    }
   ],
   "source": []
  }
 ],
 "metadata": {
  "kernelspec": {
   "display_name": "Python 3",
   "language": "python",
   "name": "python3"
  },
  "language_info": {
   "codemirror_mode": {
    "name": "ipython",
    "version": 3
   },
   "file_extension": ".py",
   "mimetype": "text/x-python",
   "name": "python",
   "nbconvert_exporter": "python",
   "pygments_lexer": "ipython3",
   "version": "3.11.9"
  }
 },
 "nbformat": 4,
 "nbformat_minor": 2
}
