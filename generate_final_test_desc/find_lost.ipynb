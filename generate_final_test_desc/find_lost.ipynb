{
 "cells": [
  {
   "cell_type": "code",
   "execution_count": 9,
   "id": "3515e14b",
   "metadata": {},
   "outputs": [],
   "source": [
    "import os\n",
    "import pandas as pd"
   ]
  },
  {
   "cell_type": "code",
   "execution_count": 10,
   "id": "24562562",
   "metadata": {},
   "outputs": [],
   "source": [
    "files = [i[:-13] for i in os.listdir('../indexes')]\n",
    "files = [i.split('_') for i in files]"
   ]
  },
  {
   "cell_type": "code",
   "execution_count": 11,
   "id": "0f6dbc05",
   "metadata": {},
   "outputs": [],
   "source": [
    "df  = pd.DataFrame(files, columns=['Chunk', 'amount', 'inter', 'emb', 'fais'])"
   ]
  },
  {
   "cell_type": "code",
   "execution_count": 12,
   "id": "fdf98066",
   "metadata": {},
   "outputs": [
    {
     "data": {
      "text/plain": [
       "Chunk\n",
       "S    120\n",
       "W    120\n",
       "Name: count, dtype: int64"
      ]
     },
     "execution_count": 12,
     "metadata": {},
     "output_type": "execute_result"
    }
   ],
   "source": [
    "df.Chunk.value_counts()"
   ]
  },
  {
   "cell_type": "code",
   "execution_count": 13,
   "id": "e9ce2a9e",
   "metadata": {},
   "outputs": [
    {
     "data": {
      "text/plain": [
       "amount\n",
       "16      24\n",
       "2       24\n",
       "32      24\n",
       "4       24\n",
       "8       24\n",
       "1024    24\n",
       "128     24\n",
       "2048    24\n",
       "256     24\n",
       "512     24\n",
       "Name: count, dtype: int64"
      ]
     },
     "execution_count": 13,
     "metadata": {},
     "output_type": "execute_result"
    }
   ],
   "source": [
    "df.amount.value_counts()"
   ]
  },
  {
   "cell_type": "code",
   "execution_count": 14,
   "id": "24921784",
   "metadata": {},
   "outputs": [
    {
     "data": {
      "text/plain": [
       "inter\n",
       "0.1     80\n",
       "0.25    80\n",
       "0.5     80\n",
       "Name: count, dtype: int64"
      ]
     },
     "execution_count": 14,
     "metadata": {},
     "output_type": "execute_result"
    }
   ],
   "source": [
    "df.inter.value_counts()"
   ]
  },
  {
   "cell_type": "code",
   "execution_count": 15,
   "id": "2022c3a3",
   "metadata": {},
   "outputs": [
    {
     "data": {
      "text/plain": [
       "emb\n",
       "BAAI          60\n",
       "DeepPavlov    60\n",
       "intfloat      60\n",
       "thenlper      60\n",
       "Name: count, dtype: int64"
      ]
     },
     "execution_count": 15,
     "metadata": {},
     "output_type": "execute_result"
    }
   ],
   "source": [
    "df.emb.value_counts()"
   ]
  },
  {
   "cell_type": "code",
   "execution_count": 16,
   "id": "72b0a8d1",
   "metadata": {},
   "outputs": [
    {
     "data": {
      "text/plain": [
       "True"
      ]
     },
     "execution_count": 16,
     "metadata": {},
     "output_type": "execute_result"
    }
   ],
   "source": [
    "['S', '16', '0.1', 'BAAI', 'ip'] in files"
   ]
  },
  {
   "cell_type": "code",
   "execution_count": null,
   "id": "54da412b",
   "metadata": {},
   "outputs": [],
   "source": []
  }
 ],
 "metadata": {
  "kernelspec": {
   "display_name": "Python 3",
   "language": "python",
   "name": "python3"
  },
  "language_info": {
   "codemirror_mode": {
    "name": "ipython",
    "version": 3
   },
   "file_extension": ".py",
   "mimetype": "text/x-python",
   "name": "python",
   "nbconvert_exporter": "python",
   "pygments_lexer": "ipython3",
   "version": "3.12.0"
  }
 },
 "nbformat": 4,
 "nbformat_minor": 5
}
