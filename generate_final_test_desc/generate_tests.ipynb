{
 "cells": [
  {
   "cell_type": "code",
   "execution_count": 1,
   "metadata": {},
   "outputs": [],
   "source": [
    "import pandas as pd\n",
    "from itertools import product"
   ]
  },
  {
   "cell_type": "code",
   "execution_count": 2,
   "metadata": {},
   "outputs": [],
   "source": [
    "import inspect, re\n",
    "\n",
    "def varname(p):\n",
    "  for line in inspect.getframeinfo(inspect.currentframe().f_back)[3]:\n",
    "    m = re.search(r'\\bvarname\\s*\\(\\s*([A-Za-z_][A-Za-z0-9_]*)\\s*\\)', line)\n",
    "    if m:\n",
    "      return m.group(1)"
   ]
  },
  {
   "cell_type": "code",
   "execution_count": 3,
   "metadata": {},
   "outputs": [
    {
     "data": {
      "text/plain": [
       "['ChunkStorage',\n",
       " 'ChunkingAlgorithm',\n",
       " 'Embedder',\n",
       " 'FAISS Vector',\n",
       " 'Query',\n",
       " 'Reranker',\n",
       " 'TextNormalize']"
      ]
     },
     "execution_count": 3,
     "metadata": {},
     "output_type": "execute_result"
    }
   ],
   "source": [
    "df = pd.read_excel('TestList.xlsx')\n",
    "segments = sorted(list(set(df.Segment.to_list())))\n",
    "segments"
   ]
  },
  {
   "cell_type": "markdown",
   "metadata": {},
   "source": [
    "### ChunkStorage"
   ]
  },
  {
   "cell_type": "code",
   "execution_count": 4,
   "metadata": {},
   "outputs": [],
   "source": [
    "scoring_function = ['BM25F']\n",
    "K1 = [1, 1.2, 1.5, 2.0]\n",
    "B = [0.5, 0.75, 1, 1.25]\n",
    "\n",
    "WhooshChunkStorage = [\n",
    "    {\n",
    "        'scoring_function': sf,\n",
    "        'K1': k1,\n",
    "        'B': b\n",
    "    }\n",
    "    for sf, k1, b in product(scoring_function, K1, B)\n",
    "]\n",
    "ChunkStorage = [{\n",
    "    'method': varname(WhooshChunkStorage),\n",
    "    'params': i\n",
    "    } for i in WhooshChunkStorage]"
   ]
  },
  {
   "cell_type": "markdown",
   "metadata": {},
   "source": [
    "### ChunkingAlgorithm"
   ]
  },
  {
   "cell_type": "markdown",
   "metadata": {},
   "source": [
    "Word count"
   ]
  },
  {
   "cell_type": "code",
   "execution_count": 5,
   "metadata": {},
   "outputs": [],
   "source": [
    "word_amount = [128, 256, 512, 1024, 2048]\n",
    "overlay = [0.1, 0.25, 0.5]\n",
    "\n",
    "WordCountingChunkingAlgorithm = [\n",
    "    {\n",
    "        'words_amount': wa,\n",
    "        'overlap': o\n",
    "    }\n",
    "    for wa, o in product(word_amount, overlay) \n",
    "]"
   ]
  },
  {
   "cell_type": "markdown",
   "metadata": {},
   "source": [
    "Sentence count"
   ]
  },
  {
   "cell_type": "code",
   "execution_count": 6,
   "metadata": {},
   "outputs": [],
   "source": [
    "sentence_amount = [2, 4, 8, 16, 32]\n",
    "overlay = [0.1, 0.25, 0.5]\n",
    "\n",
    "SentenceChunkingAlgorithm = [\n",
    "    {\n",
    "        'sentences_in_chunk': sa,\n",
    "        'overlap': o\n",
    "    }\n",
    "    for sa, o in product(sentence_amount, overlay)\n",
    "]"
   ]
  },
  {
   "cell_type": "code",
   "execution_count": 7,
   "metadata": {},
   "outputs": [],
   "source": [
    "ChunkingAlgorithm = [{\n",
    "    'method': varname(WordCountingChunkingAlgorithm),\n",
    "    'params': i\n",
    "    } for i in WordCountingChunkingAlgorithm] + [{\n",
    "        \n",
    "    'method': varname(SentenceChunkingAlgorithm),\n",
    "    'params': i\n",
    "    } for i in SentenceChunkingAlgorithm]\n"
   ]
  },
  {
   "cell_type": "markdown",
   "metadata": {},
   "source": [
    "### Embedder"
   ]
  },
  {
   "cell_type": "code",
   "execution_count": 8,
   "metadata": {},
   "outputs": [],
   "source": [
    "# model = [\"BAAI/bge-m3\", 'SFR-Embedding-Mistral', 'mxbai-embed-large-v1']\n",
    "model = ['intfloat/e5-small-v2', \"BAAI/bge-m3\", 'thenlper/gte-base', 'DeepPavlov/rubert-base-cased-sentence']\n",
    "HuggingFaceEmbedder = [{'model': i} for i in model]"
   ]
  },
  {
   "cell_type": "code",
   "execution_count": 9,
   "metadata": {},
   "outputs": [],
   "source": [
    "Embedder = [{     \n",
    "    'method': varname(HuggingFaceEmbedder),\n",
    "    'params': i\n",
    "    } for i in HuggingFaceEmbedder]\n",
    "            "
   ]
  },
  {
   "cell_type": "markdown",
   "metadata": {},
   "source": [
    "### FAISS Vector"
   ]
  },
  {
   "cell_type": "code",
   "execution_count": 10,
   "metadata": {},
   "outputs": [],
   "source": [
    "FAISS_Vector = [{\n",
    "    'method': 'FaissIndexFlatL2',\n",
    "    'params': None}] +[{\n",
    "        \n",
    "    'method': 'FaissIndexFlatIP',\n",
    "    'params': None}]"
   ]
  },
  {
   "cell_type": "markdown",
   "metadata": {},
   "source": [
    "### LLM"
   ]
  },
  {
   "cell_type": "code",
   "execution_count": 11,
   "metadata": {},
   "outputs": [],
   "source": [
    "model = ['7b', '8b', '12b']\n",
    "LLM = [{'model': i} for i in model]\n",
    "LLM = [{\n",
    "    'method': varname(LLM),\n",
    "    'params': i\n",
    "    } for i in LLM]"
   ]
  },
  {
   "cell_type": "markdown",
   "metadata": {},
   "source": [
    "### Create final tets file"
   ]
  },
  {
   "cell_type": "code",
   "execution_count": 12,
   "metadata": {},
   "outputs": [],
   "source": [
    "test_combinations = [{\n",
    "    # varname(ChunkStorage): i[0],\n",
    "    varname(ChunkingAlgorithm): i[0],\n",
    "    varname(Embedder): i[1],\n",
    "    # varname(FAISS_Vector): i[2],\n",
    "    # varname(LLM): i[3]\n",
    "}\n",
    "for i in product( ChunkingAlgorithm, Embedder)]"
   ]
  },
  {
   "cell_type": "code",
   "execution_count": 13,
   "metadata": {},
   "outputs": [
    {
     "data": {
      "text/plain": [
       "120"
      ]
     },
     "execution_count": 13,
     "metadata": {},
     "output_type": "execute_result"
    }
   ],
   "source": [
    "len(test_combinations)"
   ]
  },
  {
   "cell_type": "code",
   "execution_count": 14,
   "metadata": {},
   "outputs": [],
   "source": [
    "import json\n",
    "with open('test_combinations.json', 'w', encoding='utf-8') as file:\n",
    "    file.write(json.dumps(test_combinations, indent=4))"
   ]
  },
  {
   "cell_type": "code",
   "execution_count": 15,
   "metadata": {},
   "outputs": [],
   "source": [
    "import sys\n",
    "sys.path.append('..')"
   ]
  },
  {
   "cell_type": "code",
   "execution_count": 16,
   "metadata": {},
   "outputs": [
    {
     "ename": "ModuleNotFoundError",
     "evalue": "No module named 'pydantic'",
     "output_type": "error",
     "traceback": [
      "\u001b[1;31m---------------------------------------------------------------------------\u001b[0m",
      "\u001b[1;31mModuleNotFoundError\u001b[0m                       Traceback (most recent call last)",
      "Cell \u001b[1;32mIn[16], line 1\u001b[0m\n\u001b[1;32m----> 1\u001b[0m \u001b[38;5;28;01mimport\u001b[39;00m \u001b[38;5;21;01mmirage\u001b[39;00m\n\u001b[0;32m      2\u001b[0m \u001b[38;5;28;01mimport\u001b[39;00m \u001b[38;5;21;01minspect\u001b[39;00m\n\u001b[0;32m      4\u001b[0m \u001b[38;5;28mprint\u001b[39m(\u001b[38;5;28mtype\u001b[39m(WordCountingChunkingAlgorithm\u001b[38;5;241m.\u001b[39m\u001b[38;5;18m__qualname__\u001b[39m))\n",
      "File \u001b[1;32mc:\\Users\\evgen\\Desktop\\MIRAGE\\generate_final_test_desc\\..\\mirage\\__init__.py:1\u001b[0m\n\u001b[1;32m----> 1\u001b[0m \u001b[38;5;28;01mfrom\u001b[39;00m \u001b[38;5;21;01m.\u001b[39;00m\u001b[38;5;21;01mindex\u001b[39;00m \u001b[38;5;28;01mimport\u001b[39;00m \u001b[38;5;241m*\u001b[39m\n\u001b[0;32m      2\u001b[0m \u001b[38;5;28;01mfrom\u001b[39;00m \u001b[38;5;21;01m.\u001b[39;00m\u001b[38;5;21;01membedders\u001b[39;00m \u001b[38;5;28;01mimport\u001b[39;00m \u001b[38;5;241m*\u001b[39m\n\u001b[0;32m      3\u001b[0m \u001b[38;5;28;01mfrom\u001b[39;00m \u001b[38;5;21;01m.\u001b[39;00m\u001b[38;5;21;01minference\u001b[39;00m \u001b[38;5;28;01mimport\u001b[39;00m \u001b[38;5;241m*\u001b[39m\n",
      "File \u001b[1;32mc:\\Users\\evgen\\Desktop\\MIRAGE\\generate_final_test_desc\\..\\mirage\\index\\__init__.py:2\u001b[0m\n\u001b[1;32m----> 2\u001b[0m \u001b[38;5;28;01mfrom\u001b[39;00m \u001b[38;5;21;01m.\u001b[39;00m\u001b[38;5;21;01mchunk_storages\u001b[39;00m \u001b[38;5;28;01mimport\u001b[39;00m \u001b[38;5;241m*\u001b[39m\n\u001b[0;32m      3\u001b[0m \u001b[38;5;28;01mfrom\u001b[39;00m \u001b[38;5;21;01m.\u001b[39;00m\u001b[38;5;21;01mraw_storages\u001b[39;00m \u001b[38;5;28;01mimport\u001b[39;00m \u001b[38;5;241m*\u001b[39m\n\u001b[0;32m      4\u001b[0m \u001b[38;5;28;01mfrom\u001b[39;00m \u001b[38;5;21;01m.\u001b[39;00m\u001b[38;5;21;01mchunking_algorithms\u001b[39;00m \u001b[38;5;28;01mimport\u001b[39;00m \u001b[38;5;241m*\u001b[39m\n",
      "File \u001b[1;32mc:\\Users\\evgen\\Desktop\\MIRAGE\\generate_final_test_desc\\..\\mirage\\index\\chunk_storages\\__init__.py:1\u001b[0m\n\u001b[1;32m----> 1\u001b[0m \u001b[38;5;28;01mfrom\u001b[39;00m \u001b[38;5;21;01m.\u001b[39;00m\u001b[38;5;21;01mChunkStorage\u001b[39;00m \u001b[38;5;28;01mimport\u001b[39;00m ChunkStorage\n\u001b[0;32m      2\u001b[0m \u001b[38;5;28;01mfrom\u001b[39;00m \u001b[38;5;21;01m.\u001b[39;00m\u001b[38;5;21;01mWhooshChunkStorage\u001b[39;00m \u001b[38;5;28;01mimport\u001b[39;00m WhooshChunkStorage\n",
      "File \u001b[1;32mc:\\Users\\evgen\\Desktop\\MIRAGE\\generate_final_test_desc\\..\\mirage\\index\\chunk_storages\\ChunkStorage.py:4\u001b[0m\n\u001b[0;32m      2\u001b[0m \u001b[38;5;28;01mimport\u001b[39;00m \u001b[38;5;21;01mtyping\u001b[39;00m\n\u001b[0;32m      3\u001b[0m \u001b[38;5;28;01mfrom\u001b[39;00m \u001b[38;5;21;01mtyping\u001b[39;00m \u001b[38;5;28;01mimport\u001b[39;00m Callable, Generator, List, Literal\n\u001b[1;32m----> 4\u001b[0m \u001b[38;5;28;01mfrom\u001b[39;00m \u001b[38;5;21;01mpydantic\u001b[39;00m \u001b[38;5;28;01mimport\u001b[39;00m BaseModel\n\u001b[0;32m      6\u001b[0m \u001b[38;5;28;01mfrom\u001b[39;00m \u001b[38;5;21;01mmirage\u001b[39;00m\u001b[38;5;21;01m.\u001b[39;00m\u001b[38;5;21;01mindex\u001b[39;00m \u001b[38;5;28;01mimport\u001b[39;00m QueryResult\n\u001b[0;32m      9\u001b[0m \u001b[38;5;28;01mclass\u001b[39;00m \u001b[38;5;21;01mChunkNote\u001b[39;00m(BaseModel):\n",
      "\u001b[1;31mModuleNotFoundError\u001b[0m: No module named 'pydantic'"
     ]
    }
   ],
   "source": [
    "import mirage\n",
    "import inspect\n",
    "\n",
    "print(type(WordCountingChunkingAlgorithm.__qualname__))\n",
    "class_translator: dict[str, type] = {\n",
    "    name : cls for name, cls in inspect.getmembers(\n",
    "        sys.modules['mirage']\n",
    "    ) if inspect.isclass(cls)\n",
    "}\n"
   ]
  },
  {
   "cell_type": "code",
   "execution_count": null,
   "metadata": {},
   "outputs": [
    {
     "data": {
      "text/plain": [
       "<module 'mirage' from 'c:\\\\Users\\\\Bulkin\\\\MIRAGE\\\\generate_final_test_desc\\\\..\\\\mirage\\\\__init__.py'>"
      ]
     },
     "execution_count": 14,
     "metadata": {},
     "output_type": "execute_result"
    }
   ],
   "source": [
    "sys.modules['mirage']"
   ]
  },
  {
   "cell_type": "code",
   "execution_count": null,
   "metadata": {},
   "outputs": [
    {
     "data": {
      "text/plain": [
       "{'ABC': abc.ABC,\n",
       " 'Any': typing.Any,\n",
       " 'BaseModel': pydantic.main.BaseModel,\n",
       " 'BaselineIndex': mirage.index.BaselineIndex.BaselineIndex,\n",
       " 'BowEmbedder': mirage.embedders.BowEmbedder.BowEmbedder,\n",
       " 'ChunkNote': mirage.index.chunk_storages.ChunkStorage.ChunkNote,\n",
       " 'ChunkStorage': mirage.index.chunk_storages.ChunkStorage.ChunkStorage,\n",
       " 'ChunkingAlgorithm': mirage.index.chunking_algorithms.ChunkingAlgorithm.ChunkingAlgorithm,\n",
       " 'Embedder': mirage.embedders.Embedder.Embedder,\n",
       " 'EmbedderIsNotTrainedException': mirage.embedders.Embedder.EmbedderIsNotTrainedException,\n",
       " 'FaissIndexFlatIP': mirage.index.vector_index.FaissVectorIndex.FaissIndexFlatIP,\n",
       " 'FaissIndexFlatL2': mirage.index.vector_index.FaissVectorIndex.FaissIndexFlatL2,\n",
       " 'FaissIndexHNSWFlat': mirage.index.vector_index.FaissVectorIndex.FaissIndexHNSWFlat,\n",
       " 'FaissIndexIVFFlat': mirage.index.vector_index.FaissVectorIndex.FaissIndexIVFFlat,\n",
       " 'FaissIndexIVFPQ': mirage.index.vector_index.FaissVectorIndex.FaissIndexIVFPQ,\n",
       " 'FaissIndexIVFPQR': mirage.index.vector_index.FaissVectorIndex.FaissIndexIVFPQR,\n",
       " 'FaissIndexIVFScalarQuantizer': mirage.index.vector_index.FaissVectorIndex.FaissIndexIVFScalarQuantizer,\n",
       " 'FaissIndexLSH': mirage.index.vector_index.FaissVectorIndex.FaissIndexLSH,\n",
       " 'FaissIndexPQ': mirage.index.vector_index.FaissVectorIndex.FaissIndexPQ,\n",
       " 'FaissIndexScalarQuantizer': mirage.index.vector_index.FaissVectorIndex.FaissIndexScalarQuantizer,\n",
       " 'FolderRawStorage': mirage.index.raw_storages.FolderRawStorage.FolderRawStorage,\n",
       " 'HuggingFaceEmbedder': mirage.embedders.HuggingFaceEmbedder.HuggingFaceEmbedder,\n",
       " 'KeyedVectors': gensim.models.keyedvectors.KeyedVectors,\n",
       " 'L2RAMVectorIndex': mirage.index.vector_index.ram_vector_index.L2RAMVectorIndex.L2RAMVectorIndex,\n",
       " 'L2Reranker': mirage.inference.rerankers.L2Reranker.L2Reranker,\n",
       " 'LinearCombinationReranker': mirage.inference.rerankers.LinearCombinationReranker.LinearCombinationReranker,\n",
       " 'MirageIndex': mirage.index.MirageIndex.MirageIndex,\n",
       " 'NatashaSentenceChunking': mirage.index.chunking_algorithms.NatashaSentenсeChunking.NatashaSentenceChunking,\n",
       " 'QueryResult': mirage.index.QueryResult.QueryResult,\n",
       " 'RAMVectorIndex': mirage.index.vector_index.ram_vector_index.RAMVectorIndex.RAMVectorIndex,\n",
       " 'RawStorage': mirage.index.raw_storages.RawStorage.RawStorage,\n",
       " 'Reranker': mirage.inference.rerankers.Reranker.Reranker,\n",
       " 'RusVectoresQuorum': mirage.inference.quorums.RusVectoresQuorum.RusVectoresQuorum,\n",
       " 'SemanticChunking': mirage.index.chunking_algorithms.SemanticChunking.SemanticChunking,\n",
       " 'TextNormalizer': mirage.embedders.TextNormalizer.TextNormalizer,\n",
       " 'TfIdfEmbedder': mirage.embedders.TfIdfEmbedder.TfIdfEmbedder,\n",
       " 'VectorIndex': mirage.index.vector_index.VectorIndex.VectorIndex,\n",
       " 'VectorKeyPair': mirage.index.vector_index.VectorIndex.VectorKeyPair,\n",
       " 'WeightedProductReranker': mirage.inference.rerankers.WeightedProductReranker.WeightedProductReranker,\n",
       " 'WhooshChunkStorage': mirage.index.chunk_storages.WhooshChunkStorage.WhooshChunkStorage,\n",
       " 'WordCountingChunkingAlgorithm': mirage.index.chunking_algorithms.WordCountingChunkingAlgorithm.WordCountingChunkingAlgorithm,\n",
       " 'ZScoreLinearCombinationReranker': mirage.inference.rerankers.ZScoreLinearCombinationReranker.ZScoreLinearCombinationReranker}"
      ]
     },
     "execution_count": 18,
     "metadata": {},
     "output_type": "execute_result"
    }
   ],
   "source": [
    "class_translator"
   ]
  },
  {
   "cell_type": "code",
   "execution_count": null,
   "metadata": {},
   "outputs": [
    {
     "ename": "TypeError",
     "evalue": "WordCountingChunkingAlgorithm.__init__() got an unexpected keyword argument 'word_amount'",
     "output_type": "error",
     "traceback": [
      "\u001b[1;31m---------------------------------------------------------------------------\u001b[0m",
      "\u001b[1;31mTypeError\u001b[0m                                 Traceback (most recent call last)",
      "Cell \u001b[1;32mIn[36], line 2\u001b[0m\n\u001b[0;32m      1\u001b[0m chunking_cls \u001b[38;5;241m=\u001b[39m class_translator[a[\u001b[38;5;241m0\u001b[39m][\u001b[38;5;124m'\u001b[39m\u001b[38;5;124mChunkingAlgorithm\u001b[39m\u001b[38;5;124m'\u001b[39m][\u001b[38;5;124m'\u001b[39m\u001b[38;5;124mmethod\u001b[39m\u001b[38;5;124m'\u001b[39m]]\n\u001b[1;32m----> 2\u001b[0m \u001b[43mchunking_cls\u001b[49m\u001b[43m(\u001b[49m\u001b[38;5;241;43m*\u001b[39;49m\u001b[38;5;241;43m*\u001b[39;49m\u001b[43ma\u001b[49m\u001b[43m[\u001b[49m\u001b[38;5;241;43m0\u001b[39;49m\u001b[43m]\u001b[49m\u001b[43m[\u001b[49m\u001b[38;5;124;43m'\u001b[39;49m\u001b[38;5;124;43mChunkingAlgorithm\u001b[39;49m\u001b[38;5;124;43m'\u001b[39;49m\u001b[43m]\u001b[49m\u001b[43m[\u001b[49m\u001b[38;5;124;43m'\u001b[39;49m\u001b[38;5;124;43mparams\u001b[39;49m\u001b[38;5;124;43m'\u001b[39;49m\u001b[43m]\u001b[49m\u001b[43m)\u001b[49m\n\u001b[0;32m      3\u001b[0m c\n",
      "\u001b[1;31mTypeError\u001b[0m: WordCountingChunkingAlgorithm.__init__() got an unexpected keyword argument 'word_amount'"
     ]
    }
   ],
   "source": [
    "chunking_cls = class_translator[a[0]['ChunkingAlgorithm']['method']]\n",
    "chunking_cls(**a[0]['ChunkingAlgorithm']['params'])\n"
   ]
  },
  {
   "cell_type": "code",
   "execution_count": null,
   "metadata": {},
   "outputs": [
    {
     "data": {
      "text/plain": [
       "[('ABC', abc.ABC),\n",
       " ('Any', typing.Any),\n",
       " ('BaseModel', pydantic.main.BaseModel),\n",
       " ('BaselineIndex', mirage.index.BaselineIndex.BaselineIndex),\n",
       " ('BowEmbedder', mirage.embedders.BowEmbedder.BowEmbedder),\n",
       " ('Callable', typing.Callable),\n",
       " ('ChunkNote', mirage.index.chunk_storages.ChunkStorage.ChunkNote),\n",
       " ('ChunkStorage', mirage.index.chunk_storages.ChunkStorage.ChunkStorage),\n",
       " ('ChunkingAlgorithm',\n",
       "  mirage.index.chunking_algorithms.ChunkingAlgorithm.ChunkingAlgorithm),\n",
       " ('Dict', typing.Dict),\n",
       " ('Embedder', mirage.embedders.Embedder.Embedder),\n",
       " ('EmbedderIsNotTrainedException',\n",
       "  mirage.embedders.Embedder.EmbedderIsNotTrainedException),\n",
       " ('FaissIndexFlatIP',\n",
       "  mirage.index.vector_index.FaissVectorIndex.FaissIndexFlatIP),\n",
       " ('FaissIndexFlatL2',\n",
       "  mirage.index.vector_index.FaissVectorIndex.FaissIndexFlatL2),\n",
       " ('FaissIndexHNSWFlat',\n",
       "  mirage.index.vector_index.FaissVectorIndex.FaissIndexHNSWFlat),\n",
       " ('FaissIndexIVFFlat',\n",
       "  mirage.index.vector_index.FaissVectorIndex.FaissIndexIVFFlat),\n",
       " ('FaissIndexIVFPQ',\n",
       "  mirage.index.vector_index.FaissVectorIndex.FaissIndexIVFPQ),\n",
       " ('FaissIndexIVFPQR',\n",
       "  mirage.index.vector_index.FaissVectorIndex.FaissIndexIVFPQR),\n",
       " ('FaissIndexIVFScalarQuantizer',\n",
       "  mirage.index.vector_index.FaissVectorIndex.FaissIndexIVFScalarQuantizer),\n",
       " ('FaissIndexLSH', mirage.index.vector_index.FaissVectorIndex.FaissIndexLSH),\n",
       " ('FaissIndexPQ', mirage.index.vector_index.FaissVectorIndex.FaissIndexPQ),\n",
       " ('FaissIndexScalarQuantizer',\n",
       "  mirage.index.vector_index.FaissVectorIndex.FaissIndexScalarQuantizer),\n",
       " ('FaissVectorIndex',\n",
       "  <module 'mirage.index.vector_index.FaissVectorIndex' from 'c:\\\\Users\\\\Bulkin\\\\MIRAGE\\\\generate_final_test_desc\\\\..\\\\mirage\\\\index\\\\vector_index\\\\FaissVectorIndex.py'>),\n",
       " ('FolderRawStorage',\n",
       "  mirage.index.raw_storages.FolderRawStorage.FolderRawStorage),\n",
       " ('Generator', typing.Generator),\n",
       " ('HuggingFaceEmbedder',\n",
       "  mirage.embedders.HuggingFaceEmbedder.HuggingFaceEmbedder),\n",
       " ('KeyedVectors', gensim.models.keyedvectors.KeyedVectors),\n",
       " ('L2RAMVectorIndex',\n",
       "  mirage.index.vector_index.ram_vector_index.L2RAMVectorIndex.L2RAMVectorIndex),\n",
       " ('L2Reranker', mirage.inference.rerankers.L2Reranker.L2Reranker),\n",
       " ('LinearCombinationReranker',\n",
       "  mirage.inference.rerankers.LinearCombinationReranker.LinearCombinationReranker),\n",
       " ('List', typing.List),\n",
       " ('Literal', typing.Literal),\n",
       " ('MirageIndex', mirage.index.MirageIndex.MirageIndex),\n",
       " ('NatashaSentenceChunking',\n",
       "  mirage.index.chunking_algorithms.NatashaSentenсeChunking.NatashaSentenceChunking),\n",
       " ('NatashaSentenсeChunking',\n",
       "  <module 'mirage.index.chunking_algorithms.NatashaSentenсeChunking' from 'c:\\\\Users\\\\Bulkin\\\\MIRAGE\\\\generate_final_test_desc\\\\..\\\\mirage\\\\index\\\\chunking_algorithms\\\\NatashaSentenсeChunking.py'>),\n",
       " ('Optional', typing.Optional),\n",
       " ('QueryResult', mirage.index.QueryResult.QueryResult),\n",
       " ('RAMVectorIndex',\n",
       "  mirage.index.vector_index.ram_vector_index.RAMVectorIndex.RAMVectorIndex),\n",
       " ('RawStorage', mirage.index.raw_storages.RawStorage.RawStorage),\n",
       " ('Reranker', mirage.inference.rerankers.Reranker.Reranker),\n",
       " ('RusVectoresQuorum',\n",
       "  mirage.inference.quorums.RusVectoresQuorum.RusVectoresQuorum),\n",
       " ('Self', typing.Self),\n",
       " ('SemanticChunking',\n",
       "  mirage.index.chunking_algorithms.SemanticChunking.SemanticChunking),\n",
       " ('Set', typing.Set),\n",
       " ('TextNormalizer', mirage.embedders.TextNormalizer.TextNormalizer),\n",
       " ('TfIdfEmbedder', mirage.embedders.TfIdfEmbedder.TfIdfEmbedder),\n",
       " ('Tuple', typing.Tuple),\n",
       " ('VectorIndex', mirage.index.vector_index.VectorIndex.VectorIndex),\n",
       " ('VectorKeyPair', mirage.index.vector_index.VectorIndex.VectorKeyPair),\n",
       " ('WeightedProductReranker',\n",
       "  mirage.inference.rerankers.WeightedProductReranker.WeightedProductReranker),\n",
       " ('WhooshChunkStorage',\n",
       "  mirage.index.chunk_storages.WhooshChunkStorage.WhooshChunkStorage),\n",
       " ('WordCountingChunkingAlgorithm',\n",
       "  mirage.index.chunking_algorithms.WordCountingChunkingAlgorithm.WordCountingChunkingAlgorithm),\n",
       " ('ZScoreLinearCombinationReranker',\n",
       "  mirage.inference.rerankers.ZScoreLinearCombinationReranker.ZScoreLinearCombinationReranker),\n",
       " ('__builtins__',\n",
       "  {'__name__': 'builtins',\n",
       "   '__doc__': \"Built-in functions, types, exceptions, and other objects.\\n\\nThis module provides direct access to all 'built-in'\\nidentifiers of Python; for example, builtins.len is\\nthe full name for the built-in function len().\\n\\nThis module is not normally accessed explicitly by most\\napplications, but can be useful in modules that provide\\nobjects with the same name as a built-in value, but in\\nwhich the built-in of that name is also needed.\",\n",
       "   '__package__': '',\n",
       "   '__loader__': _frozen_importlib.BuiltinImporter,\n",
       "   '__spec__': ModuleSpec(name='builtins', loader=<class '_frozen_importlib.BuiltinImporter'>, origin='built-in'),\n",
       "   '__build_class__': <function __build_class__>,\n",
       "   '__import__': <function __import__(name, globals=None, locals=None, fromlist=(), level=0)>,\n",
       "   'abs': <function abs(x, /)>,\n",
       "   'all': <function all(iterable, /)>,\n",
       "   'any': <function any(iterable, /)>,\n",
       "   'ascii': <function ascii(obj, /)>,\n",
       "   'bin': <function bin(number, /)>,\n",
       "   'breakpoint': <function breakpoint>,\n",
       "   'callable': <function callable(obj, /)>,\n",
       "   'chr': <function chr(i, /)>,\n",
       "   'compile': <function compile(source, filename, mode, flags=0, dont_inherit=False, optimize=-1, *, _feature_version=-1)>,\n",
       "   'delattr': <function delattr(obj, name, /)>,\n",
       "   'dir': <function dir>,\n",
       "   'divmod': <function divmod(x, y, /)>,\n",
       "   'eval': <function eval(source, globals=None, locals=None, /)>,\n",
       "   'exec': <function exec(source, globals=None, locals=None, /, *, closure=None)>,\n",
       "   'format': <function format(value, format_spec='', /)>,\n",
       "   'getattr': <function getattr>,\n",
       "   'globals': <function globals()>,\n",
       "   'hasattr': <function hasattr(obj, name, /)>,\n",
       "   'hash': <function hash(obj, /)>,\n",
       "   'hex': <function hex(number, /)>,\n",
       "   'id': <function id(obj, /)>,\n",
       "   'input': <bound method Kernel.raw_input of <ipykernel.ipkernel.IPythonKernel object at 0x0000028753140510>>,\n",
       "   'isinstance': <function isinstance(obj, class_or_tuple, /)>,\n",
       "   'issubclass': <function issubclass(cls, class_or_tuple, /)>,\n",
       "   'iter': <function iter>,\n",
       "   'aiter': <function aiter(async_iterable, /)>,\n",
       "   'len': <function len(obj, /)>,\n",
       "   'locals': <function locals()>,\n",
       "   'max': <function max>,\n",
       "   'min': <function min>,\n",
       "   'next': <function next>,\n",
       "   'anext': <function anext>,\n",
       "   'oct': <function oct(number, /)>,\n",
       "   'ord': <function ord(c, /)>,\n",
       "   'pow': <function pow(base, exp, mod=None)>,\n",
       "   'print': <function print(*args, sep=' ', end='\\n', file=None, flush=False)>,\n",
       "   'repr': <function repr(obj, /)>,\n",
       "   'round': <function round(number, ndigits=None)>,\n",
       "   'setattr': <function setattr(obj, name, value, /)>,\n",
       "   'sorted': <function sorted(iterable, /, *, key=None, reverse=False)>,\n",
       "   'sum': <function sum(iterable, /, start=0)>,\n",
       "   'vars': <function vars>,\n",
       "   'None': None,\n",
       "   'Ellipsis': Ellipsis,\n",
       "   'NotImplemented': NotImplemented,\n",
       "   'False': False,\n",
       "   'True': True,\n",
       "   'bool': bool,\n",
       "   'memoryview': memoryview,\n",
       "   'bytearray': bytearray,\n",
       "   'bytes': bytes,\n",
       "   'classmethod': classmethod,\n",
       "   'complex': complex,\n",
       "   'dict': dict,\n",
       "   'enumerate': enumerate,\n",
       "   'filter': filter,\n",
       "   'float': float,\n",
       "   'frozenset': frozenset,\n",
       "   'property': property,\n",
       "   'int': int,\n",
       "   'list': list,\n",
       "   'map': map,\n",
       "   'object': object,\n",
       "   'range': range,\n",
       "   'reversed': reversed,\n",
       "   'set': set,\n",
       "   'slice': slice,\n",
       "   'staticmethod': staticmethod,\n",
       "   'str': str,\n",
       "   'super': super,\n",
       "   'tuple': tuple,\n",
       "   'type': type,\n",
       "   'zip': zip,\n",
       "   '__debug__': True,\n",
       "   'BaseException': BaseException,\n",
       "   'BaseExceptionGroup': BaseExceptionGroup,\n",
       "   'Exception': Exception,\n",
       "   'GeneratorExit': GeneratorExit,\n",
       "   'KeyboardInterrupt': KeyboardInterrupt,\n",
       "   'SystemExit': SystemExit,\n",
       "   'ArithmeticError': ArithmeticError,\n",
       "   'AssertionError': AssertionError,\n",
       "   'AttributeError': AttributeError,\n",
       "   'BufferError': BufferError,\n",
       "   'EOFError': EOFError,\n",
       "   'ImportError': ImportError,\n",
       "   'LookupError': LookupError,\n",
       "   'MemoryError': MemoryError,\n",
       "   'NameError': NameError,\n",
       "   'OSError': OSError,\n",
       "   'ReferenceError': ReferenceError,\n",
       "   'RuntimeError': RuntimeError,\n",
       "   'StopAsyncIteration': StopAsyncIteration,\n",
       "   'StopIteration': StopIteration,\n",
       "   'SyntaxError': SyntaxError,\n",
       "   'SystemError': SystemError,\n",
       "   'TypeError': TypeError,\n",
       "   'ValueError': ValueError,\n",
       "   'Warning': Warning,\n",
       "   'FloatingPointError': FloatingPointError,\n",
       "   'OverflowError': OverflowError,\n",
       "   'ZeroDivisionError': ZeroDivisionError,\n",
       "   'BytesWarning': BytesWarning,\n",
       "   'DeprecationWarning': DeprecationWarning,\n",
       "   'EncodingWarning': EncodingWarning,\n",
       "   'FutureWarning': FutureWarning,\n",
       "   'ImportWarning': ImportWarning,\n",
       "   'PendingDeprecationWarning': PendingDeprecationWarning,\n",
       "   'ResourceWarning': ResourceWarning,\n",
       "   'RuntimeWarning': RuntimeWarning,\n",
       "   'SyntaxWarning': SyntaxWarning,\n",
       "   'UnicodeWarning': UnicodeWarning,\n",
       "   'UserWarning': UserWarning,\n",
       "   'BlockingIOError': BlockingIOError,\n",
       "   'ChildProcessError': ChildProcessError,\n",
       "   'ConnectionError': ConnectionError,\n",
       "   'FileExistsError': FileExistsError,\n",
       "   'FileNotFoundError': FileNotFoundError,\n",
       "   'InterruptedError': InterruptedError,\n",
       "   'IsADirectoryError': IsADirectoryError,\n",
       "   'NotADirectoryError': NotADirectoryError,\n",
       "   'PermissionError': PermissionError,\n",
       "   'ProcessLookupError': ProcessLookupError,\n",
       "   'TimeoutError': TimeoutError,\n",
       "   'IndentationError': IndentationError,\n",
       "   'IndexError': IndexError,\n",
       "   'KeyError': KeyError,\n",
       "   'ModuleNotFoundError': ModuleNotFoundError,\n",
       "   'NotImplementedError': NotImplementedError,\n",
       "   'RecursionError': RecursionError,\n",
       "   'UnboundLocalError': UnboundLocalError,\n",
       "   'UnicodeError': UnicodeError,\n",
       "   'BrokenPipeError': BrokenPipeError,\n",
       "   'ConnectionAbortedError': ConnectionAbortedError,\n",
       "   'ConnectionRefusedError': ConnectionRefusedError,\n",
       "   'ConnectionResetError': ConnectionResetError,\n",
       "   'TabError': TabError,\n",
       "   'UnicodeDecodeError': UnicodeDecodeError,\n",
       "   'UnicodeEncodeError': UnicodeEncodeError,\n",
       "   'UnicodeTranslateError': UnicodeTranslateError,\n",
       "   'ExceptionGroup': ExceptionGroup,\n",
       "   'EnvironmentError': OSError,\n",
       "   'IOError': OSError,\n",
       "   'WindowsError': OSError,\n",
       "   'open': <function io.open(file, mode='r', buffering=-1, encoding=None, errors=None, newline=None, closefd=True, opener=None)>,\n",
       "   'copyright': Copyright (c) 2001-2023 Python Software Foundation.\n",
       "   All Rights Reserved.\n",
       "   \n",
       "   Copyright (c) 2000 BeOpen.com.\n",
       "   All Rights Reserved.\n",
       "   \n",
       "   Copyright (c) 1995-2001 Corporation for National Research Initiatives.\n",
       "   All Rights Reserved.\n",
       "   \n",
       "   Copyright (c) 1991-1995 Stichting Mathematisch Centrum, Amsterdam.\n",
       "   All Rights Reserved.,\n",
       "   'credits':     Thanks to CWI, CNRI, BeOpen.com, Zope Corporation and a cast of thousands\n",
       "       for supporting Python development.  See www.python.org for more information.,\n",
       "   'license': Type license() to see the full license text,\n",
       "   'help': Type help() for interactive help, or help(object) for help about object.,\n",
       "   'execfile': <function _pydev_bundle._pydev_execfile.execfile(file, glob=None, loc=None)>,\n",
       "   'runfile': <function _pydev_bundle.pydev_umd.runfile(filename, args=None, wdir=None, namespace=None)>,\n",
       "   '__IPYTHON__': True,\n",
       "   'display': <function IPython.core.display_functions.display(*objs, include=None, exclude=None, metadata=None, transient=None, display_id=None, raw=False, clear=False, **kwargs)>,\n",
       "   '__pybind11_internals_v4_mingw_libstdcpp_cxxabi1014__': <capsule object NULL at 0x000002877EC0FB70>,\n",
       "   'get_ipython': <bound method InteractiveShell.get_ipython of <ipykernel.zmqshell.ZMQInteractiveShell object at 0x00000287545BF690>>}),\n",
       " ('__cached__',\n",
       "  'c:\\\\Users\\\\Bulkin\\\\MIRAGE\\\\generate_final_test_desc\\\\..\\\\mirage\\\\__pycache__\\\\__init__.cpython-311.pyc'),\n",
       " ('__doc__', None),\n",
       " ('__file__',\n",
       "  'c:\\\\Users\\\\Bulkin\\\\MIRAGE\\\\generate_final_test_desc\\\\..\\\\mirage\\\\__init__.py'),\n",
       " ('__loader__',\n",
       "  <_frozen_importlib_external.SourceFileLoader at 0x28754beedd0>),\n",
       " ('__name__', 'mirage'),\n",
       " ('__package__', 'mirage'),\n",
       " ('__path__',\n",
       "  ['c:\\\\Users\\\\Bulkin\\\\MIRAGE\\\\generate_final_test_desc\\\\..\\\\mirage']),\n",
       " ('__spec__',\n",
       "  ModuleSpec(name='mirage', loader=<_frozen_importlib_external.SourceFileLoader object at 0x0000028754BEEDD0>, origin='c:\\\\Users\\\\Bulkin\\\\MIRAGE\\\\generate_final_test_desc\\\\..\\\\mirage\\\\__init__.py', submodule_search_locations=['c:\\\\Users\\\\Bulkin\\\\MIRAGE\\\\generate_final_test_desc\\\\..\\\\mirage'])),\n",
       " ('abstractmethod', <function abc.abstractmethod(funcobj)>),\n",
       " ('caching',\n",
       "  <module 'mirage.inference.caching' from 'c:\\\\Users\\\\Bulkin\\\\MIRAGE\\\\generate_final_test_desc\\\\..\\\\mirage\\\\inference\\\\caching\\\\__init__.py'>),\n",
       " ('chunk_storages',\n",
       "  <module 'mirage.index.chunk_storages' from 'c:\\\\Users\\\\Bulkin\\\\MIRAGE\\\\generate_final_test_desc\\\\..\\\\mirage\\\\index\\\\chunk_storages\\\\__init__.py'>),\n",
       " ('chunking_algorithms',\n",
       "  <module 'mirage.index.chunking_algorithms' from 'c:\\\\Users\\\\Bulkin\\\\MIRAGE\\\\generate_final_test_desc\\\\..\\\\mirage\\\\index\\\\chunking_algorithms\\\\__init__.py'>),\n",
       " ('embedders',\n",
       "  <module 'mirage.embedders' from 'c:\\\\Users\\\\Bulkin\\\\MIRAGE\\\\generate_final_test_desc\\\\..\\\\mirage\\\\embedders\\\\__init__.py'>),\n",
       " ('faiss',\n",
       "  <module 'faiss' from 'c:\\\\Users\\\\Bulkin\\\\MIRAGE\\\\env\\\\Lib\\\\site-packages\\\\faiss\\\\__init__.py'>),\n",
       " ('final', <function typing.final(f)>),\n",
       " ('heappop', <function _heapq.heappop(heap, /)>),\n",
       " ('heappush', <function _heapq.heappush(heap, item, /)>),\n",
       " ('index',\n",
       "  <module 'mirage.index' from 'c:\\\\Users\\\\Bulkin\\\\MIRAGE\\\\generate_final_test_desc\\\\..\\\\mirage\\\\index\\\\__init__.py'>),\n",
       " ('inference',\n",
       "  <module 'mirage.inference' from 'c:\\\\Users\\\\Bulkin\\\\MIRAGE\\\\generate_final_test_desc\\\\..\\\\mirage\\\\inference\\\\__init__.py'>),\n",
       " ('mean', <function mean at 0x000002876C3F8570>),\n",
       " ('namedtuple',\n",
       "  <function collections.namedtuple(typename, field_names, *, rename=False, defaults=None, module=None)>),\n",
       " ('np',\n",
       "  <module 'numpy' from 'c:\\\\Users\\\\Bulkin\\\\MIRAGE\\\\env\\\\Lib\\\\site-packages\\\\numpy\\\\__init__.py'>),\n",
       " ('prompters',\n",
       "  <module 'mirage.inference.prompters' from 'c:\\\\Users\\\\Bulkin\\\\MIRAGE\\\\generate_final_test_desc\\\\..\\\\mirage\\\\inference\\\\prompters\\\\__init__.py'>),\n",
       " ('pymorphy3',\n",
       "  <module 'pymorphy3' from 'c:\\\\Users\\\\Bulkin\\\\MIRAGE\\\\env\\\\Lib\\\\site-packages\\\\pymorphy3\\\\__init__.py'>),\n",
       " ('quorums',\n",
       "  <module 'mirage.inference.quorums' from 'c:\\\\Users\\\\Bulkin\\\\MIRAGE\\\\generate_final_test_desc\\\\..\\\\mirage\\\\inference\\\\quorums\\\\__init__.py'>),\n",
       " ('ram_vector_index',\n",
       "  <module 'mirage.index.vector_index.ram_vector_index' from 'c:\\\\Users\\\\Bulkin\\\\MIRAGE\\\\generate_final_test_desc\\\\..\\\\mirage\\\\index\\\\vector_index\\\\ram_vector_index\\\\__init__.py'>),\n",
       " ('raw_storages',\n",
       "  <module 'mirage.index.raw_storages' from 'c:\\\\Users\\\\Bulkin\\\\MIRAGE\\\\generate_final_test_desc\\\\..\\\\mirage\\\\index\\\\raw_storages\\\\__init__.py'>),\n",
       " ('rerankers',\n",
       "  <module 'mirage.inference.rerankers' from 'c:\\\\Users\\\\Bulkin\\\\MIRAGE\\\\generate_final_test_desc\\\\..\\\\mirage\\\\inference\\\\rerankers\\\\__init__.py'>),\n",
       " ('sqrt', <function math.sqrt(x, /)>),\n",
       " ('std', <function std at 0x000002876C3F8730>),\n",
       " ('vector_index',\n",
       "  <module 'mirage.index.vector_index' from 'c:\\\\Users\\\\Bulkin\\\\MIRAGE\\\\generate_final_test_desc\\\\..\\\\mirage\\\\index\\\\vector_index\\\\__init__.py'>),\n",
       " ('zipfile',\n",
       "  <module 'zipfile' from 'C:\\\\Users\\\\Bulkin\\\\anaconda3\\\\Lib\\\\zipfile.py'>)]"
      ]
     },
     "execution_count": 16,
     "metadata": {},
     "output_type": "execute_result"
    }
   ],
   "source": [
    "inspect.getmembers(\n",
    "        sys.modules['mirage']\n",
    "    )"
   ]
  }
 ],
 "metadata": {
  "kernelspec": {
   "display_name": "Python 3",
   "language": "python",
   "name": "python3"
  },
  "language_info": {
   "codemirror_mode": {
    "name": "ipython",
    "version": 3
   },
   "file_extension": ".py",
   "mimetype": "text/x-python",
   "name": "python",
   "nbconvert_exporter": "python",
   "pygments_lexer": "ipython3",
   "version": "3.12.0"
  }
 },
 "nbformat": 4,
 "nbformat_minor": 2
}
