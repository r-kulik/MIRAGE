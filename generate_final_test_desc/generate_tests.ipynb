{
 "cells": [
  {
   "cell_type": "code",
   "execution_count": 1,
   "metadata": {},
   "outputs": [],
   "source": [
    "import pandas as pd\n",
    "from itertools import product"
   ]
  },
  {
   "cell_type": "code",
   "execution_count": 2,
   "metadata": {},
   "outputs": [],
   "source": [
    "import inspect, re\n",
    "\n",
    "def varname(p):\n",
    "  for line in inspect.getframeinfo(inspect.currentframe().f_back)[3]:\n",
    "    m = re.search(r'\\bvarname\\s*\\(\\s*([A-Za-z_][A-Za-z0-9_]*)\\s*\\)', line)\n",
    "    if m:\n",
    "      return m.group(1)"
   ]
  },
  {
   "cell_type": "code",
   "execution_count": 3,
   "metadata": {},
   "outputs": [
    {
     "data": {
      "text/plain": [
       "['ChunkStorage',\n",
       " 'ChunkingAlgorithm',\n",
       " 'Embedder',\n",
       " 'FAISS Vector',\n",
       " 'Query',\n",
       " 'Reranker',\n",
       " 'TextNormalize']"
      ]
     },
     "execution_count": 3,
     "metadata": {},
     "output_type": "execute_result"
    }
   ],
   "source": [
    "df = pd.read_excel('TestList.xlsx')\n",
    "segments = sorted(list(set(df.Segment.to_list())))\n",
    "segments"
   ]
  },
  {
   "cell_type": "markdown",
   "metadata": {},
   "source": [
    "### ChunkStorage"
   ]
  },
  {
   "cell_type": "code",
   "execution_count": 4,
   "metadata": {},
   "outputs": [],
   "source": [
    "scoring_function = ['BM25F']\n",
    "K1 = [1, 1.2, 1.5, 2.0]\n",
    "B = [0.5, 0.75, 1, 1.25]\n",
    "\n",
    "WhooshChunkStorage = [\n",
    "    {\n",
    "        'scoring_function': sf,\n",
    "        'K1': k1,\n",
    "        'B': b\n",
    "    }\n",
    "    for sf, k1, b in product(scoring_function, K1, B)\n",
    "]\n",
    "ChunkStorage = [{\n",
    "    'method': varname(WhooshChunkStorage),\n",
    "    'params': i\n",
    "    } for i in WhooshChunkStorage]"
   ]
  },
  {
   "cell_type": "markdown",
   "metadata": {},
   "source": [
    "### ChunkingAlgorithm"
   ]
  },
  {
   "cell_type": "markdown",
   "metadata": {},
   "source": [
    "Word count"
   ]
  },
  {
   "cell_type": "code",
   "execution_count": 5,
   "metadata": {},
   "outputs": [],
   "source": [
    "word_amount = [128, 256, 512, 1024, 2048]\n",
    "overlay = [0.1, 0.25, 0.5]\n",
    "\n",
    "WordCountingChunkingAlgorithm = [\n",
    "    {\n",
    "        'word_amount': wa,\n",
    "        'overlay': o\n",
    "    }\n",
    "    for wa, o in product(word_amount, overlay)\n",
    "]"
   ]
  },
  {
   "cell_type": "markdown",
   "metadata": {},
   "source": [
    "Sentence count"
   ]
  },
  {
   "cell_type": "code",
   "execution_count": 6,
   "metadata": {},
   "outputs": [],
   "source": [
    "sentence_amount = [2, 4, 8, 16, 32]\n",
    "overlay = [0.1, 0.25, 0.5]\n",
    "\n",
    "SentenceChunkingAlgorithm = [\n",
    "    {\n",
    "        'sentence_amount': sa,\n",
    "        'overlay': o\n",
    "    }\n",
    "    for sa, o in product(sentence_amount, overlay)\n",
    "]"
   ]
  },
  {
   "cell_type": "code",
   "execution_count": 7,
   "metadata": {},
   "outputs": [],
   "source": [
    "ChunkingAlgorithm = [{\n",
    "    'method': varname(WordCountingChunkingAlgorithm),\n",
    "    'params': i\n",
    "    } for i in WordCountingChunkingAlgorithm] + [{\n",
    "        \n",
    "    'method': varname(SentenceChunkingAlgorithm),\n",
    "    'params': i\n",
    "    } for i in SentenceChunkingAlgorithm]\n"
   ]
  },
  {
   "cell_type": "markdown",
   "metadata": {},
   "source": [
    "### Embedder"
   ]
  },
  {
   "cell_type": "code",
   "execution_count": 8,
   "metadata": {},
   "outputs": [],
   "source": [
    "model = ['BAAI/LLM-Embedder', 'SFR-Embedding-Mistral', 'mxbai-embed-large-v1', 'Alibaba-NLP/gte-large-en-v1.5']\n",
    "\n",
    "HuggingFaceEmbedder = [{'model': i} for i in model]"
   ]
  },
  {
   "cell_type": "code",
   "execution_count": 9,
   "metadata": {},
   "outputs": [],
   "source": [
    "Embedder = [{\n",
    "    'method': 'BoWEmbedder',\n",
    "    'params': None}] +[{\n",
    "        \n",
    "    'method': 'TfidfEmbedder',\n",
    "    'params': None}] + [{\n",
    "        \n",
    "    'method': varname(HuggingFaceEmbedder),\n",
    "    'params': i\n",
    "    } for i in HuggingFaceEmbedder]\n",
    "            "
   ]
  },
  {
   "cell_type": "markdown",
   "metadata": {},
   "source": [
    "### FAISS Vector"
   ]
  },
  {
   "cell_type": "code",
   "execution_count": 10,
   "metadata": {},
   "outputs": [],
   "source": [
    "FAISS_Vector = [{\n",
    "    'method': 'FaissIndexFlatL2',\n",
    "    'params': None}] +[{\n",
    "        \n",
    "    'method': 'FaissIndexFlatIP',\n",
    "    'params': None}]"
   ]
  },
  {
   "cell_type": "markdown",
   "metadata": {},
   "source": [
    "### LLM"
   ]
  },
  {
   "cell_type": "code",
   "execution_count": 11,
   "metadata": {},
   "outputs": [],
   "source": [
    "model = ['7b', '8b', '12b']\n",
    "LLM = [{'model': i} for i in model]\n",
    "LLM = [{\n",
    "    'method': varname(LLM),\n",
    "    'params': i\n",
    "    } for i in LLM]"
   ]
  },
  {
   "cell_type": "markdown",
   "metadata": {},
   "source": [
    "### Create final tets file"
   ]
  },
  {
   "cell_type": "code",
   "execution_count": 12,
   "metadata": {},
   "outputs": [
    {
     "data": {
      "text/plain": [
       "1080"
      ]
     },
     "execution_count": 12,
     "metadata": {},
     "output_type": "execute_result"
    }
   ],
   "source": [
    "len([{\n",
    "    # varname(ChunkStorage): i[0],\n",
    "    varname(ChunkingAlgorithm): i[0],\n",
    "    varname(Embedder): i[1],\n",
    "    varname(FAISS_Vector): i[2],\n",
    "    varname(LLM): i[3]\n",
    "}\n",
    "for i in product( ChunkingAlgorithm, Embedder, FAISS_Vector, LLM)])"
   ]
  },
  {
   "cell_type": "code",
   "execution_count": null,
   "metadata": {},
   "outputs": [],
   "source": []
  }
 ],
 "metadata": {
  "kernelspec": {
   "display_name": "Python 3",
   "language": "python",
   "name": "python3"
  },
  "language_info": {
   "codemirror_mode": {
    "name": "ipython",
    "version": 3
   },
   "file_extension": ".py",
   "mimetype": "text/x-python",
   "name": "python",
   "nbconvert_exporter": "python",
   "pygments_lexer": "ipython3",
   "version": "3.12.2"
  }
 },
 "nbformat": 4,
 "nbformat_minor": 2
}
