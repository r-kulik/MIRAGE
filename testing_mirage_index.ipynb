{
 "cells": [
  {
   "cell_type": "code",
   "execution_count": 45,
   "metadata": {},
   "outputs": [
    {
     "name": "stdout",
     "output_type": "stream",
     "text": [
      "The autoreload extension is already loaded. To reload it, use:\n",
      "  %reload_ext autoreload\n"
     ]
    }
   ],
   "source": [
    "%load_ext autoreload\n",
    "%autoreload 2\n"
   ]
  },
  {
   "cell_type": "code",
   "execution_count": 69,
   "metadata": {},
   "outputs": [
    {
     "name": "stdout",
     "output_type": "stream",
     "text": [
      "object_passed = None, its type = <class 'NoneType'>abstract = <class 'mirage.index.raw_storages.RawStorage.RawStorage'>, default = <mirage.index.raw_storages.FolderRawStorage.FolderRawStorage object at 0x000002937D9DB2D0>\n",
      "object_passed = None, its type = <class 'NoneType'>abstract = <class 'mirage.index.chunk_storages.ChunkStorage.ChunkStorage'>, default = <mirage.index.chunk_storages.RAMChunkStorage.RAMChunkStorage object at 0x000002937D9DA7D0>\n",
      "object_passed = None, its type = <class 'NoneType'>abstract = <class 'mirage.index.chunking_algorithms.ChunkingAlgorithm.ChunkingAlgorithm'>, default = <mirage.index.chunking_algorithms.WordCountingChunkAlgorithm.WordCountingChunkingAlgorithm object at 0x000002937D9D9910>\n",
      "object_passed = <mirage.embedders.TfIdfEmbedder.TfIdfEmbedder object at 0x000002937D9D8510>, its type = <class 'mirage.embedders.TfIdfEmbedder.TfIdfEmbedder'>abstract = <class 'mirage.embedders.Embedder.Embedder'>, default = <mirage.embedders.BowEmbedder.BowEmbedder object at 0x000002937D9D8810>\n",
      "object_passed = None, its type = <class 'NoneType'>abstract = <class 'mirage.index.vector_index.VectorIndex.VectorIndex'>, default = <mirage.index.vector_index.ram_vector_index.L2RAMVectorIndex.L2RAMVectorIndex object at 0x0000029381977050>\n",
      "Performing chunking algorithm\n",
      "Processed 5 documents\n",
      "Training an embedder...\n",
      "Embedder trained\n",
      "Converting chunks to vectors\n",
      "Converting ChunkStorage to VectorIndex\n"
     ]
    },
    {
     "name": "stderr",
     "output_type": "stream",
     "text": [
      "100%|██████████| 37/37 [00:00<00:00, 3698.95it/s]"
     ]
    },
    {
     "name": "stdout",
     "output_type": "stream",
     "text": [
      "Creation of index has been done\n"
     ]
    },
    {
     "name": "stderr",
     "output_type": "stream",
     "text": [
      "\n"
     ]
    }
   ],
   "source": [
    "from mirage import BaselineIndex\n",
    "from mirage.embedders import TfIdfEmbedder\n",
    "\n",
    "\n",
    "idx = BaselineIndex(\n",
    "    data_folder='data',\n",
    "    words_amount_in_chunk=10,\n",
    "    normalizer=True,\n",
    "    visualize=True\n",
    ")\n",
    "idx.create_index()\n",
    "answers = idx.query('самолет', top_k = 10)"
   ]
  },
  {
   "cell_type": "code",
   "execution_count": 65,
   "metadata": {},
   "outputs": [
    {
     "data": {
      "text/plain": [
       "QueryResult(distance=0.9994769898751303; vector=[0.         0.         0.         0.         0.         0.\n",
       " 0.         0.         0.         0.         0.         0.\n",
       " 0.         0.29624155 0.         0.         0.         0.\n",
       " 0.         0.         0.         0.         0.         0.\n",
       " 0.         0.         0.         0.         0.         0.\n",
       " 0.         0.         0.         0.         0.         0.\n",
       " 0.         0.         0.         0.         0.         0.\n",
       " 0.         0.         0.         0.34621525 0.         0.\n",
       " 0.         0.         0.         0.         0.         0.\n",
       " 0.         0.         0.         0.         0.         0.\n",
       " 0.         0.         0.         0.         0.         0.\n",
       " 0.         0.         0.         0.         0.         0.\n",
       " 0.         0.         0.         0.         0.         0.\n",
       " 0.         0.         0.         0.         0.         0.\n",
       " 0.         0.         0.         0.         0.         0.\n",
       " 0.         0.         0.         0.23873881 0.         0.\n",
       " 0.         0.         0.34621525 0.         0.         0.\n",
       " 0.         0.         0.         0.         0.         0.\n",
       " 0.         0.         0.         0.         0.         0.\n",
       " 0.         0.         0.         0.         0.         0.\n",
       " 0.         0.         0.         0.         0.         0.\n",
       " 0.         0.         0.         0.         0.         0.\n",
       " 0.         0.         0.         0.         0.34621525 0.\n",
       " 0.         0.         0.         0.         0.         0.\n",
       " 0.         0.         0.         0.         0.         0.\n",
       " 0.         0.         0.         0.         0.         0.\n",
       " 0.         0.         0.         0.34621525 0.         0.\n",
       " 0.         0.         0.         0.         0.         0.\n",
       " 0.         0.         0.         0.         0.         0.\n",
       " 0.         0.50052287 0.25026144 0.25026144 0.         0.\n",
       " 0.         0.         0.         0.         0.         0.\n",
       " 0.         0.         0.         0.         0.         0.\n",
       " 0.         0.         0.         0.         0.         0.\n",
       " 0.         0.         0.         0.         0.         0.\n",
       " 0.         0.         0.         0.         0.         0.\n",
       " 0.         0.         0.         0.         0.         0.\n",
       " 0.         0.         0.         0.         0.         0.\n",
       " 0.         0.         0.         0.         0.         0.\n",
       " 0.         0.         0.         0.         0.         0.\n",
       " 0.         0.         0.         0.         0.        ]; chunk_storage_key=-5631822601544766310)"
      ]
     },
     "execution_count": 65,
     "metadata": {},
     "output_type": "execute_result"
    }
   ],
   "source": []
  }
 ],
 "metadata": {
  "kernelspec": {
   "display_name": "Python 3",
   "language": "python",
   "name": "python3"
  },
  "language_info": {
   "codemirror_mode": {
    "name": "ipython",
    "version": 3
   },
   "file_extension": ".py",
   "mimetype": "text/x-python",
   "name": "python",
   "nbconvert_exporter": "python",
   "pygments_lexer": "ipython3",
   "version": "3.11.9"
  }
 },
 "nbformat": 4,
 "nbformat_minor": 2
}
