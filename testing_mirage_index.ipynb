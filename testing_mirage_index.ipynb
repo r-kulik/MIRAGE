{
 "cells": [
  {
   "cell_type": "code",
   "execution_count": 1,
   "metadata": {},
   "outputs": [],
   "source": [
    "%load_ext autoreload\n",
    "%autoreload 2\n"
   ]
  },
  {
   "cell_type": "code",
   "execution_count": 2,
   "metadata": {},
   "outputs": [
    {
     "name": "stdout",
     "output_type": "stream",
     "text": [
      "['1.txt.txt', '2.txt.txt', '3.txt.txt', '4.txt.txt', '5.txt.txt']\n",
      "Самолет летит высоко. Самолеты шумят в небе. Самолетный шум громкий. Самолет летит быстро. Самолеты перевозят людей. Самолетный двигатель работает. Самолет летит далеко. Самолеты шумят громко. Самолетный полет красивый. Самолет летит высоко. Самолеты шумят в небе. Самолетный шум громкий. Самолет летит быстро. Самолеты перевозят людей. Самолетный двигатель работает. Самолет летит далеко. Самолеты шумят громко. Самолетный полет красивый. Самолет летит высоко. Самолеты шумят в небе. Самолетный шум громкий. Самолет летит быстро. Самолеты перевозят людей. Самолетный двигатель работает. Самолет летит далеко. Самолеты шумят громко. Самолетный полет красивый.\n",
      "False\n",
      "False\n"
     ]
    }
   ],
   "source": [
    "from mirage import FolderRawStorage\n",
    "\n",
    "storage = FolderRawStorage(\"data\")\n",
    "storage.save(\"storage.mirage\")\n",
    "storage2 = FolderRawStorage.load(\"storage.mirage\")\n",
    "print(storage2.get_indexes())\n",
    "print(storage2['1.txt.txt'])\n",
    "print(storage2 == storage)\n",
    "print(storage2 is storage)"
   ]
  }
 ],
 "metadata": {
  "kernelspec": {
   "display_name": "Python 3",
   "language": "python",
   "name": "python3"
  },
  "language_info": {
   "codemirror_mode": {
    "name": "ipython",
    "version": 3
   },
   "file_extension": ".py",
   "mimetype": "text/x-python",
   "name": "python",
   "nbconvert_exporter": "python",
   "pygments_lexer": "ipython3",
   "version": "3.11.9"
  }
 },
 "nbformat": 4,
 "nbformat_minor": 2
}
