{
 "cells": [
  {
   "cell_type": "code",
   "execution_count": 13,
   "id": "cd64c6b3",
   "metadata": {},
   "outputs": [
    {
     "name": "stdout",
     "output_type": "stream",
     "text": [
      "The autoreload extension is already loaded. To reload it, use:\n",
      "  %reload_ext autoreload\n"
     ]
    }
   ],
   "source": [
    "%load_ext autoreload\n",
    "%autoreload 2"
   ]
  },
  {
   "cell_type": "code",
   "execution_count": 54,
   "id": "3b2f83f6",
   "metadata": {},
   "outputs": [],
   "source": [
    "from mirage import RusVectoresQuorum, MirageIndex"
   ]
  },
  {
   "cell_type": "code",
   "execution_count": 55,
   "id": "e2fe1700",
   "metadata": {},
   "outputs": [
    {
     "name": "stderr",
     "output_type": "stream",
     "text": [
      "\u001b[32m2025-05-02 17:22:25.730\u001b[0m | \u001b[1mINFO    \u001b[0m | \u001b[36mmirage.index.MirageIndex\u001b[0m:\u001b[36mload\u001b[0m:\u001b[36m84\u001b[0m - \u001b[1mLoading Mirage index from indexes\\S_8_0.5_BAAI_ip.mirage_index...\u001b[0m\n",
      "\u001b[32m2025-05-02 17:22:26.532\u001b[0m | \u001b[1mINFO    \u001b[0m | \u001b[36mmirage.index.MirageIndex\u001b[0m:\u001b[36mload\u001b[0m:\u001b[36m127\u001b[0m - \u001b[1mMirage index loaded from indexes\\S_8_0.5_BAAI_ip.mirage_index.\u001b[0m\n"
     ]
    }
   ],
   "source": [
    "index_filename = 'indexes\\S_8_0.5_BAAI_ip.mirage_index'\n",
    "mirage_index = MirageIndex.load(index_filename)"
   ]
  },
  {
   "cell_type": "code",
   "execution_count": 60,
   "id": "98443839",
   "metadata": {},
   "outputs": [],
   "source": [
    "quorum = RusVectoresQuorum(\n",
    "    chunk_storage=mirage_index.chunk_storage,\n",
    "    path_to_model='mirage\\inference\\quorums\\model.bin',\n",
    ")\n",
    "vctor = quorum.word_vectors.get_vector('корабль_NOUN')"
   ]
  },
  {
   "cell_type": "code",
   "execution_count": 61,
   "id": "0c65d446",
   "metadata": {},
   "outputs": [
    {
     "data": {
      "text/plain": [
       "(300,)"
      ]
     },
     "execution_count": 61,
     "metadata": {},
     "output_type": "execute_result"
    }
   ],
   "source": [
    "vctor.shape"
   ]
  },
  {
   "cell_type": "code",
   "execution_count": 63,
   "id": "97c5768e",
   "metadata": {},
   "outputs": [
    {
     "data": {
      "text/plain": [
       "[QueryResult(score=7.70315427603711, chunk_storage_key='0e62b5e8-45c4-4955-b049-f609c2238ed6', vector=None),\n",
       " QueryResult(score=7.538553562525616, chunk_storage_key='344339c5-9686-48a3-bab3-cc193b0ceac2', vector=None),\n",
       " QueryResult(score=7.094604685246018, chunk_storage_key='d5552233-4a92-4a4d-9bba-35de44627799', vector=None),\n",
       " QueryResult(score=6.824574642422766, chunk_storage_key='fc49e5eb-211e-45e2-8ebb-1dbe003a047b', vector=None),\n",
       " QueryResult(score=6.824574642422766, chunk_storage_key='84ff4ac1-31f4-4caa-bf06-c5a56606c683', vector=None),\n",
       " QueryResult(score=6.73643791870789, chunk_storage_key='91b6eb91-be56-4cd2-b269-cb0d8dd0b6fd', vector=None),\n",
       " QueryResult(score=6.279354643675023, chunk_storage_key='8be0beef-7772-472e-a6fc-1c4d49bde078', vector=None),\n",
       " QueryResult(score=5.814805779336874, chunk_storage_key='1b2340e9-7c8e-4c6c-86fb-c67d5744f0a4', vector=None),\n",
       " QueryResult(score=5.814805779336874, chunk_storage_key='1eee6fdf-c8fc-4e95-b1cc-c21a95488d65', vector=None),\n",
       " QueryResult(score=5.814805779336874, chunk_storage_key='0ca3a3ff-1cb5-4854-9519-7c881227a487', vector=None)]"
      ]
     },
     "execution_count": 63,
     "metadata": {},
     "output_type": "execute_result"
    }
   ],
   "source": [
    "quorum.query(\n",
    "    'красивая женщина'\n",
    ")"
   ]
  }
 ],
 "metadata": {
  "kernelspec": {
   "display_name": "env",
   "language": "python",
   "name": "python3"
  },
  "language_info": {
   "codemirror_mode": {
    "name": "ipython",
    "version": 3
   },
   "file_extension": ".py",
   "mimetype": "text/x-python",
   "name": "python",
   "nbconvert_exporter": "python",
   "pygments_lexer": "ipython3",
   "version": "3.11.5"
  }
 },
 "nbformat": 4,
 "nbformat_minor": 5
}
