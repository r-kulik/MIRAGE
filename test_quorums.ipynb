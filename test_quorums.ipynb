{
 "cells": [
  {
   "cell_type": "code",
   "execution_count": 1,
   "metadata": {},
   "outputs": [],
   "source": [
    "%load_ext autoreload\n",
    "%autoreload 2"
   ]
  },
  {
   "cell_type": "code",
   "execution_count": 2,
   "metadata": {},
   "outputs": [
    {
     "name": "stderr",
     "output_type": "stream",
     "text": [
      "c:\\Users\\Bulkin\\MIRAGE\\env\\Lib\\site-packages\\tqdm\\auto.py:21: TqdmWarning: IProgress not found. Please update jupyter and ipywidgets. See https://ipywidgets.readthedocs.io/en/stable/user_install.html\n",
      "  from .autonotebook import tqdm as notebook_tqdm\n"
     ]
    },
    {
     "name": "stdout",
     "output_type": "stream",
     "text": [
      "c:\\Users\\Bulkin\\MIRAGE\n",
      "Splitting text into the sentences\n"
     ]
    },
    {
     "name": "stderr",
     "output_type": "stream",
     "text": [
      "611it [00:00, 76373.71it/s]\n"
     ]
    },
    {
     "name": "stdout",
     "output_type": "stream",
     "text": [
      "creating embeddings of the sentences for semantic grouping\n"
     ]
    },
    {
     "name": "stderr",
     "output_type": "stream",
     "text": [
      "100%|██████████| 611/611 [00:13<00:00, 43.88it/s]\n"
     ]
    },
    {
     "name": "stdout",
     "output_type": "stream",
     "text": [
      "Adding chunks to the storage\n"
     ]
    },
    {
     "name": "stderr",
     "output_type": "stream",
     "text": [
      "100%|██████████| 69/69 [00:01<00:00, 65.22it/s]\n"
     ]
    },
    {
     "data": {
      "text/plain": [
       "1"
      ]
     },
     "execution_count": 2,
     "metadata": {},
     "output_type": "execute_result"
    }
   ],
   "source": [
    "import os\n",
    "from mirage.index.chunk_storages import WhooshChunkStorage\n",
    "from mirage.index.chunking_algorithms import SemanticChunking\n",
    "from mirage.index.raw_storages import FolderRawStorage\n",
    "from mirage.embedders import HuggingFaceEmbedder as HFE\n",
    "\n",
    "embedder = HFE(model_name='sentence-transformers/distilbert-base-nli-stsb-quora-ranking', normalizer=True)\n",
    "\n",
    "print(os.path.abspath(os.getcwd()))\n",
    "documents = FolderRawStorage('data_test')\n",
    "chunks = WhooshChunkStorage(scoring_function=\"BM25F\", normalizer=True)\n",
    "algorithm = SemanticChunking(raw_storage=documents, chunk_storage=chunks, embedder=embedder, threshold=0.5, max_chunk_size=1000)\n",
    "algorithm.execute(visualize=True)"
   ]
  },
  {
   "cell_type": "code",
   "execution_count": null,
   "metadata": {},
   "outputs": [
    {
     "name": "stdout",
     "output_type": "stream",
     "text": [
      "Я ДАУН\n"
     ]
    }
   ],
   "source": [
    "from mirage.inference.quorums import RusVectoresQuorum\n",
    "\n",
    "\n",
    "quorum=RusVectoresQuorum(\n",
    "    chunk_storage=chunks,\n",
    "    path_to_model=\"mirage\\inference\\quorums\\model.bin\"\n",
    ")"
   ]
  },
  {
   "cell_type": "code",
   "execution_count": 25,
   "metadata": {},
   "outputs": [
    {
     "name": "stdout",
     "output_type": "stream",
     "text": [
      "==================================\n",
      "FIND SYNONIMS FOR WORD кто\n",
      "NPRO <class 'pymorphy3.tagset._select_grammeme_from.__init__.<locals>.TypedGrammeme'>\n",
      "==================================\n",
      "FIND SYNONIMS FOR WORD убил\n",
      "VERB <class 'pymorphy3.tagset._select_grammeme_from.__init__.<locals>.TypedGrammeme'>\n",
      "parsed lemma: убить_VERB\n",
      "does lemma belong to word vectors: True\n",
      "убивать_VERB убил\n"
     ]
    },
    {
     "ename": "TypeError",
     "evalue": "'<=' not supported between instances of 'OpencorporaTag' and 'frozenset'",
     "output_type": "error",
     "traceback": [
      "\u001b[1;31m---------------------------------------------------------------------------\u001b[0m",
      "\u001b[1;31mTypeError\u001b[0m                                 Traceback (most recent call last)",
      "Cell \u001b[1;32mIn[25], line 1\u001b[0m\n\u001b[1;32m----> 1\u001b[0m \u001b[43mquorum\u001b[49m\u001b[38;5;241;43m.\u001b[39;49m\u001b[43mquery\u001b[49m\u001b[43m(\u001b[49m\u001b[38;5;124;43m'\u001b[39;49m\u001b[38;5;124;43mкто убил женщину\u001b[39;49m\u001b[38;5;124;43m'\u001b[39;49m\u001b[43m)\u001b[49m\n",
      "File \u001b[1;32mc:\\Users\\Bulkin\\MIRAGE\\mirage\\inference\\quorums\\RusVectoresQuorum.py:68\u001b[0m, in \u001b[0;36mRusVectoresQuorum.query\u001b[1;34m(self, text)\u001b[0m\n\u001b[0;32m     66\u001b[0m \u001b[38;5;28;01mfor\u001b[39;00m idx, word \u001b[38;5;129;01min\u001b[39;00m \u001b[38;5;28menumerate\u001b[39m(words):\n\u001b[0;32m     67\u001b[0m     pos \u001b[38;5;241m=\u001b[39m \u001b[38;5;28mself\u001b[39m\u001b[38;5;241m.\u001b[39m_get_pos(word)\n\u001b[1;32m---> 68\u001b[0m     syns \u001b[38;5;241m=\u001b[39m \u001b[38;5;28;43mself\u001b[39;49m\u001b[38;5;241;43m.\u001b[39;49m\u001b[43m_get_synonyms\u001b[49m\u001b[43m(\u001b[49m\u001b[43mword\u001b[49m\u001b[43m,\u001b[49m\u001b[43m \u001b[49m\u001b[43mpos\u001b[49m\u001b[43m)\u001b[49m\n\u001b[0;32m     69\u001b[0m     \u001b[38;5;28;01mif\u001b[39;00m syns:\n\u001b[0;32m     70\u001b[0m         replaceable\u001b[38;5;241m.\u001b[39mappend((idx, syns))\n",
      "File \u001b[1;32mc:\\Users\\Bulkin\\MIRAGE\\mirage\\inference\\quorums\\RusVectoresQuorum.py:56\u001b[0m, in \u001b[0;36mRusVectoresQuorum._get_synonyms\u001b[1;34m(self, word, pos)\u001b[0m\n\u001b[0;32m     54\u001b[0m     \u001b[38;5;28;01mcontinue\u001b[39;00m\n\u001b[0;32m     55\u001b[0m \u001b[38;5;28mprint\u001b[39m(syn, word)\n\u001b[1;32m---> 56\u001b[0m inflected \u001b[38;5;241m=\u001b[39m \u001b[38;5;28;43mself\u001b[39;49m\u001b[38;5;241;43m.\u001b[39;49m\u001b[43m_inflect_synonym\u001b[49m\u001b[43m(\u001b[49m\u001b[43msyn\u001b[49m\u001b[43m,\u001b[49m\u001b[43m \u001b[49m\u001b[43mword\u001b[49m\u001b[43m)\u001b[49m\n\u001b[0;32m     57\u001b[0m \u001b[38;5;28;01mif\u001b[39;00m inflected \u001b[38;5;129;01mnot\u001b[39;00m \u001b[38;5;129;01min\u001b[39;00m seen:\n\u001b[0;32m     58\u001b[0m     seen\u001b[38;5;241m.\u001b[39madd(inflected)\n",
      "File \u001b[1;32mc:\\Users\\Bulkin\\MIRAGE\\mirage\\inference\\quorums\\RusVectoresQuorum.py:30\u001b[0m, in \u001b[0;36mRusVectoresQuorum._inflect_synonym\u001b[1;34m(self, synonym, original_word)\u001b[0m\n\u001b[0;32m     28\u001b[0m tags \u001b[38;5;241m=\u001b[39m parsed_original\u001b[38;5;241m.\u001b[39mtag\n\u001b[0;32m     29\u001b[0m parsed_syn \u001b[38;5;241m=\u001b[39m \u001b[38;5;28mself\u001b[39m\u001b[38;5;241m.\u001b[39mmorph\u001b[38;5;241m.\u001b[39mparse(synonym)[\u001b[38;5;241m0\u001b[39m]\n\u001b[1;32m---> 30\u001b[0m inflected \u001b[38;5;241m=\u001b[39m \u001b[43mparsed_syn\u001b[49m\u001b[38;5;241;43m.\u001b[39;49m\u001b[43minflect\u001b[49m\u001b[43m(\u001b[49m\u001b[43mtags\u001b[49m\u001b[43m)\u001b[49m\n\u001b[0;32m     31\u001b[0m \u001b[38;5;28;01mreturn\u001b[39;00m inflected\u001b[38;5;241m.\u001b[39mword \u001b[38;5;28;01mif\u001b[39;00m inflected \u001b[38;5;28;01melse\u001b[39;00m synonym\n",
      "File \u001b[1;32mc:\\Users\\Bulkin\\MIRAGE\\env\\Lib\\site-packages\\pymorphy3\\analyzer.py:38\u001b[0m, in \u001b[0;36mParse.inflect\u001b[1;34m(self, required_grammemes)\u001b[0m\n\u001b[0;32m     37\u001b[0m \u001b[38;5;28;01mdef\u001b[39;00m\u001b[38;5;250m \u001b[39m\u001b[38;5;21minflect\u001b[39m(\u001b[38;5;28mself\u001b[39m, required_grammemes: Set[\u001b[38;5;28mstr\u001b[39m]) \u001b[38;5;241m-\u001b[39m\u001b[38;5;241m>\u001b[39m Union[\u001b[38;5;124m\"\u001b[39m\u001b[38;5;124mParse\u001b[39m\u001b[38;5;124m\"\u001b[39m, \u001b[38;5;28;01mNone\u001b[39;00m]:\n\u001b[1;32m---> 38\u001b[0m     res \u001b[38;5;241m=\u001b[39m \u001b[38;5;28;43mself\u001b[39;49m\u001b[38;5;241;43m.\u001b[39;49m\u001b[43m_morph\u001b[49m\u001b[38;5;241;43m.\u001b[39;49m\u001b[43m_inflect\u001b[49m\u001b[43m(\u001b[49m\u001b[38;5;28;43mself\u001b[39;49m\u001b[43m,\u001b[49m\u001b[43m \u001b[49m\u001b[43mrequired_grammemes\u001b[49m\u001b[43m)\u001b[49m\n\u001b[0;32m     39\u001b[0m     \u001b[38;5;28;01mreturn\u001b[39;00m \u001b[38;5;28;01mNone\u001b[39;00m \u001b[38;5;28;01mif\u001b[39;00m \u001b[38;5;129;01mnot\u001b[39;00m res \u001b[38;5;28;01melse\u001b[39;00m res[\u001b[38;5;241m0\u001b[39m]\n",
      "File \u001b[1;32mc:\\Users\\Bulkin\\MIRAGE\\env\\Lib\\site-packages\\pymorphy3\\analyzer.py:387\u001b[0m, in \u001b[0;36mMorphAnalyzer._inflect\u001b[1;34m(self, form, required_grammemes)\u001b[0m\n\u001b[0;32m    386\u001b[0m \u001b[38;5;28;01mdef\u001b[39;00m\u001b[38;5;250m \u001b[39m\u001b[38;5;21m_inflect\u001b[39m(\u001b[38;5;28mself\u001b[39m, form: Parse, required_grammemes: Set[\u001b[38;5;28mstr\u001b[39m]):\n\u001b[1;32m--> 387\u001b[0m     possible_results \u001b[38;5;241m=\u001b[39m \u001b[43m[\u001b[49m\u001b[43mf\u001b[49m\u001b[43m \u001b[49m\u001b[38;5;28;43;01mfor\u001b[39;49;00m\u001b[43m \u001b[49m\u001b[43mf\u001b[49m\u001b[43m \u001b[49m\u001b[38;5;129;43;01min\u001b[39;49;00m\u001b[43m \u001b[49m\u001b[38;5;28;43mself\u001b[39;49m\u001b[38;5;241;43m.\u001b[39;49m\u001b[43mget_lexeme\u001b[49m\u001b[43m(\u001b[49m\u001b[43mform\u001b[49m\u001b[43m)\u001b[49m\n\u001b[0;32m    388\u001b[0m \u001b[43m                        \u001b[49m\u001b[38;5;28;43;01mif\u001b[39;49;00m\u001b[43m \u001b[49m\u001b[43mrequired_grammemes\u001b[49m\u001b[43m \u001b[49m\u001b[38;5;241;43m<\u001b[39;49m\u001b[38;5;241;43m=\u001b[39;49m\u001b[43m \u001b[49m\u001b[43mf\u001b[49m\u001b[43m[\u001b[49m\u001b[38;5;241;43m1\u001b[39;49m\u001b[43m]\u001b[49m\u001b[38;5;241;43m.\u001b[39;49m\u001b[43mgrammemes\u001b[49m\u001b[43m]\u001b[49m\n\u001b[0;32m    390\u001b[0m     \u001b[38;5;28;01mif\u001b[39;00m \u001b[38;5;129;01mnot\u001b[39;00m possible_results:\n\u001b[0;32m    391\u001b[0m         required_grammemes \u001b[38;5;241m=\u001b[39m \u001b[38;5;28mself\u001b[39m\u001b[38;5;241m.\u001b[39mTagClass\u001b[38;5;241m.\u001b[39mfix_rare_cases(required_grammemes)\n",
      "File \u001b[1;32mc:\\Users\\Bulkin\\MIRAGE\\env\\Lib\\site-packages\\pymorphy3\\analyzer.py:388\u001b[0m, in \u001b[0;36m<listcomp>\u001b[1;34m(.0)\u001b[0m\n\u001b[0;32m    386\u001b[0m \u001b[38;5;28;01mdef\u001b[39;00m\u001b[38;5;250m \u001b[39m\u001b[38;5;21m_inflect\u001b[39m(\u001b[38;5;28mself\u001b[39m, form: Parse, required_grammemes: Set[\u001b[38;5;28mstr\u001b[39m]):\n\u001b[0;32m    387\u001b[0m     possible_results \u001b[38;5;241m=\u001b[39m [f \u001b[38;5;28;01mfor\u001b[39;00m f \u001b[38;5;129;01min\u001b[39;00m \u001b[38;5;28mself\u001b[39m\u001b[38;5;241m.\u001b[39mget_lexeme(form)\n\u001b[1;32m--> 388\u001b[0m                         \u001b[38;5;28;01mif\u001b[39;00m \u001b[43mrequired_grammemes\u001b[49m\u001b[43m \u001b[49m\u001b[38;5;241;43m<\u001b[39;49m\u001b[38;5;241;43m=\u001b[39;49m\u001b[43m \u001b[49m\u001b[43mf\u001b[49m\u001b[43m[\u001b[49m\u001b[38;5;241;43m1\u001b[39;49m\u001b[43m]\u001b[49m\u001b[38;5;241;43m.\u001b[39;49m\u001b[43mgrammemes\u001b[49m]\n\u001b[0;32m    390\u001b[0m     \u001b[38;5;28;01mif\u001b[39;00m \u001b[38;5;129;01mnot\u001b[39;00m possible_results:\n\u001b[0;32m    391\u001b[0m         required_grammemes \u001b[38;5;241m=\u001b[39m \u001b[38;5;28mself\u001b[39m\u001b[38;5;241m.\u001b[39mTagClass\u001b[38;5;241m.\u001b[39mfix_rare_cases(required_grammemes)\n",
      "\u001b[1;31mTypeError\u001b[0m: '<=' not supported between instances of 'OpencorporaTag' and 'frozenset'"
     ]
    }
   ],
   "source": [
    "quorum.query('кто убил женщину')"
   ]
  }
 ],
 "metadata": {
  "kernelspec": {
   "display_name": "env",
   "language": "python",
   "name": "python3"
  },
  "language_info": {
   "codemirror_mode": {
    "name": "ipython",
    "version": 3
   },
   "file_extension": ".py",
   "mimetype": "text/x-python",
   "name": "python",
   "nbconvert_exporter": "python",
   "pygments_lexer": "ipython3",
   "version": "3.11.5"
  }
 },
 "nbformat": 4,
 "nbformat_minor": 2
}
