{
 "cells": [
  {
   "cell_type": "code",
   "execution_count": 1,
   "metadata": {},
   "outputs": [
    {
     "name": "stderr",
     "output_type": "stream",
     "text": [
      "c:\\Users\\User\\Desktop\\Диплом\\MIRAGE\\env\\Lib\\site-packages\\tqdm\\auto.py:21: TqdmWarning: IProgress not found. Please update jupyter and ipywidgets. See https://ipywidgets.readthedocs.io/en/stable/user_install.html\n",
      "  from .autonotebook import tqdm as notebook_tqdm\n"
     ]
    }
   ],
   "source": [
    "import os \n",
    "import numpy as np\n",
    "from datasets import load_dataset\n",
    "import shutil"
   ]
  },
  {
   "cell_type": "code",
   "execution_count": 2,
   "metadata": {},
   "outputs": [],
   "source": [
    "ds = load_dataset(\"rungalileo/ragbench\", \"cuad\")"
   ]
  },
  {
   "cell_type": "code",
   "execution_count": 3,
   "metadata": {},
   "outputs": [],
   "source": [
    "ids_train = []\n",
    "for i in range(len(ds['train'])):\n",
    "    ids_train.append(ds['train'][i]['id'].split('__')[0])\n",
    "ids_train = set(list(ids_train))"
   ]
  },
  {
   "cell_type": "code",
   "execution_count": 4,
   "metadata": {},
   "outputs": [],
   "source": [
    "ar = []\n",
    "for op in [f'cuad_full/{i}' for i in os.listdir('cuad_full')]:\n",
    "    with open(op, 'r') as f:\n",
    "        if op.split('/')[1][:-4] in ids_train:\n",
    "            try:\n",
    "                ar.append([op, f.read().count(' ')])\n",
    "            except:\n",
    "                pass"
   ]
  },
  {
   "cell_type": "code",
   "execution_count": 5,
   "metadata": {},
   "outputs": [],
   "source": [
    "ar2 = []\n",
    "for op in [f'../data_txt/{i}' for i in os.listdir('../data_txt')]:\n",
    "    with open(op, 'r') as f:\n",
    "        try:\n",
    "            ar2.append([op, f.read().count(' ')])\n",
    "        except:\n",
    "            pass"
   ]
  },
  {
   "cell_type": "code",
   "execution_count": 6,
   "metadata": {},
   "outputs": [],
   "source": [
    "len_arr = [i[1] for i in sorted(ar2, key=lambda x: x[1])]\n",
    "doc_len = [i[1] for i in sorted(ar, key=lambda x: x[1])]"
   ]
  },
  {
   "cell_type": "code",
   "execution_count": 7,
   "metadata": {},
   "outputs": [],
   "source": [
    "docs = np.array(doc_len)\n",
    "cuad_index = []\n",
    "for i in len_arr:\n",
    "    cuad_index.append((np.abs(docs - i)).argmin())"
   ]
  },
  {
   "cell_type": "code",
   "execution_count": 8,
   "metadata": {},
   "outputs": [],
   "source": [
    "final = [ar[i][0].split('/')[1][:-4] for i in range(len(ar)) if i in cuad_index]"
   ]
  },
  {
   "cell_type": "code",
   "execution_count": 9,
   "metadata": {},
   "outputs": [],
   "source": [
    "for i in final:\n",
    "    shutil.copy(os.path.join('cuad_full', f'{i}.txt'), os.path.join('cuad_cut', f'{i}.txt'))"
   ]
  },
  {
   "cell_type": "code",
   "execution_count": 10,
   "metadata": {},
   "outputs": [],
   "source": [
    "a = []\n",
    "for i in range(len(ds['train'])):\n",
    "    o = ds['train'][i]['id'].split('__')[0]\n",
    "    if o in final:\n",
    "        a.append(ds['train'][i]['id'].split('__')[0])"
   ]
  },
  {
   "cell_type": "code",
   "execution_count": 11,
   "metadata": {},
   "outputs": [
    {
     "data": {
      "text/plain": [
       "80"
      ]
     },
     "execution_count": 11,
     "metadata": {},
     "output_type": "execute_result"
    }
   ],
   "source": [
    "len(a)"
   ]
  },
  {
   "cell_type": "code",
   "execution_count": null,
   "metadata": {},
   "outputs": [],
   "source": []
  }
 ],
 "metadata": {
  "kernelspec": {
   "display_name": "env",
   "language": "python",
   "name": "python3"
  },
  "language_info": {
   "codemirror_mode": {
    "name": "ipython",
    "version": 3
   },
   "file_extension": ".py",
   "mimetype": "text/x-python",
   "name": "python",
   "nbconvert_exporter": "python",
   "pygments_lexer": "ipython3",
   "version": "3.12.2"
  }
 },
 "nbformat": 4,
 "nbformat_minor": 2
}
