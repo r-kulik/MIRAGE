{
 "cells": [
  {
   "cell_type": "code",
   "execution_count": 1,
   "id": "e69933c3",
   "metadata": {},
   "outputs": [],
   "source": [
    "import pandas as pd"
   ]
  },
  {
   "cell_type": "code",
   "execution_count": 2,
   "id": "3c53faf8",
   "metadata": {},
   "outputs": [],
   "source": [
    "df = pd.read_pickle('E:/final_final.pkl')"
   ]
  },
  {
   "cell_type": "code",
   "execution_count": 5,
   "id": "8a411e8f",
   "metadata": {},
   "outputs": [],
   "source": [
    "dfb = df[df.dataset=='bench']\n",
    "dfc = df[df.dataset=='cuad']"
   ]
  },
  {
   "cell_type": "code",
   "execution_count": 18,
   "id": "93e58e4e",
   "metadata": {},
   "outputs": [
    {
     "data": {
      "application/vnd.microsoft.datawrangler.viewer.v0+json": {
       "columns": [
        {
         "name": "file",
         "rawType": "object",
         "type": "string"
        },
        {
         "name": "correctness",
         "rawType": "int64",
         "type": "integer"
        }
       ],
       "conversionMethod": "pd.DataFrame",
       "ref": "a7f32d59-1f67-4b0f-b232-355450557cf6",
       "rows": [
        [
         "E:/indexes2/17_W_256_0.25_BAAI_l2.mirage_index",
         "40"
        ],
        [
         "E:/indexes2/95_S_8_0.5_DeepPavlov_l2.mirage_index",
         "39"
        ],
        [
         "E:/indexes2/82_S_4_0.5_thenlper_l2.mirage_index",
         "38"
        ],
        [
         "E:/indexes2/16_W_256_0.25_intfloat_l2.mirage_index",
         "37"
        ],
        [
         "E:/indexes2/12_W_256_0.1_intfloat_l2.mirage_index",
         "37"
        ],
        [
         "E:/indexes2/68_S_2_0.5_intfloat_l2.mirage_index",
         "35"
        ],
        [
         "E:/indexes2/18_W_256_0.25_thenlper_l2.mirage_index",
         "35"
        ],
        [
         "E:/indexes2/23_W_256_0.5_DeepPavlov_l2.mirage_index",
         "34"
        ],
        [
         "E:/indexes2/2_W_128_0.1_thenlper_l2.mirage_index",
         "34"
        ],
        [
         "E:/indexes2/64_S_2_0.25_intfloat_l2.mirage_index",
         "34"
        ],
        [
         "E:/indexes2/9_W_128_0.5_BAAI_l2.mirage_index",
         "34"
        ],
        [
         "E:/indexes2/8_W_128_0.5_intfloat_l2.mirage_index",
         "34"
        ],
        [
         "E:/indexes2/28_W_512_0.25_intfloat_l2.mirage_index",
         "33"
        ],
        [
         "E:/indexes2/29_W_512_0.25_BAAI_l2.mirage_index",
         "33"
        ],
        [
         "E:/indexes2/90_S_8_0.25_thenlper_l2.mirage_index",
         "33"
        ],
        [
         "E:/indexes2/15_W_256_0.1_DeepPavlov_l2.mirage_index",
         "33"
        ],
        [
         "E:/indexes2/22_W_256_0.5_thenlper_l2.mirage_index",
         "33"
        ],
        [
         "E:/indexes2/87_S_8_0.1_DeepPavlov_l2.mirage_index",
         "33"
        ],
        [
         "E:/indexes2/71_S_2_0.5_DeepPavlov_l2.mirage_index",
         "33"
        ],
        [
         "E:/indexes2/5_W_128_0.25_BAAI_l2.mirage_index",
         "33"
        ],
        [
         "E:/indexes2/83_S_4_0.5_DeepPavlov_l2.mirage_index",
         "33"
        ],
        [
         "E:/indexes2/77_S_4_0.25_BAAI_l2.mirage_index",
         "33"
        ],
        [
         "E:/indexes2/30_W_512_0.25_thenlper_l2.mirage_index",
         "32"
        ],
        [
         "E:/indexes2/33_W_512_0.5_BAAI_l2.mirage_index",
         "32"
        ],
        [
         "E:/indexes2/3_W_128_0.1_DeepPavlov_l2.mirage_index",
         "32"
        ],
        [
         "E:/indexes2/21_W_256_0.5_BAAI_l2.mirage_index",
         "32"
        ],
        [
         "E:/indexes2/1_W_128_0.1_BAAI_l2.mirage_index",
         "32"
        ],
        [
         "E:/indexes2/79_S_4_0.25_DeepPavlov_l2.mirage_index",
         "32"
        ],
        [
         "E:/indexes2/70_S_2_0.5_thenlper_l2.mirage_index",
         "32"
        ],
        [
         "E:/indexes2/0_W_128_0.1_intfloat_l2.mirage_index",
         "32"
        ],
        [
         "E:/indexes2/13_W_256_0.1_BAAI_l2.mirage_index",
         "32"
        ],
        [
         "E:/indexes2/14_W_256_0.1_thenlper_l2.mirage_index",
         "32"
        ],
        [
         "E:/indexes2/93_S_8_0.5_BAAI_l2.mirage_index",
         "31"
        ],
        [
         "E:/indexes2/101_S_16_0.25_BAAI_l2.mirage_index",
         "31"
        ],
        [
         "E:/indexes2/107_S_16_0.5_DeepPavlov_l2.mirage_index",
         "31"
        ],
        [
         "E:/indexes2/80_S_4_0.5_intfloat_l2.mirage_index",
         "31"
        ],
        [
         "E:/indexes2/73_S_4_0.1_BAAI_l2.mirage_index",
         "31"
        ],
        [
         "E:/indexes2/84_S_8_0.1_intfloat_l2.mirage_index",
         "31"
        ],
        [
         "E:/indexes2/62_S_2_0.1_thenlper_l2.mirage_index",
         "31"
        ],
        [
         "E:/indexes2/88_S_8_0.25_intfloat_l2.mirage_index",
         "31"
        ],
        [
         "E:/indexes2/89_S_8_0.25_BAAI_l2.mirage_index",
         "31"
        ],
        [
         "E:/indexes2/113_S_32_0.25_BAAI_l2.mirage_index",
         "31"
        ],
        [
         "E:/indexes2/91_S_8_0.25_DeepPavlov_l2.mirage_index",
         "31"
        ],
        [
         "E:/indexes2/35_W_512_0.5_DeepPavlov_l2.mirage_index",
         "31"
        ],
        [
         "E:/indexes2/34_W_512_0.5_thenlper_l2.mirage_index",
         "31"
        ],
        [
         "E:/indexes2/78_S_4_0.25_thenlper_l2.mirage_index",
         "31"
        ],
        [
         "E:/indexes2/67_S_2_0.25_DeepPavlov_l2.mirage_index",
         "31"
        ],
        [
         "E:/indexes2/72_S_4_0.1_intfloat_l2.mirage_index",
         "31"
        ],
        [
         "E:/indexes2/20_W_256_0.5_intfloat_l2.mirage_index",
         "31"
        ],
        [
         "E:/indexes2/6_W_128_0.25_thenlper_l2.mirage_index",
         "30"
        ]
       ],
       "shape": {
        "columns": 1,
        "rows": 120
       }
      },
      "text/html": [
       "<div>\n",
       "<style scoped>\n",
       "    .dataframe tbody tr th:only-of-type {\n",
       "        vertical-align: middle;\n",
       "    }\n",
       "\n",
       "    .dataframe tbody tr th {\n",
       "        vertical-align: top;\n",
       "    }\n",
       "\n",
       "    .dataframe thead th {\n",
       "        text-align: right;\n",
       "    }\n",
       "</style>\n",
       "<table border=\"1\" class=\"dataframe\">\n",
       "  <thead>\n",
       "    <tr style=\"text-align: right;\">\n",
       "      <th></th>\n",
       "      <th>correctness</th>\n",
       "    </tr>\n",
       "    <tr>\n",
       "      <th>file</th>\n",
       "      <th></th>\n",
       "    </tr>\n",
       "  </thead>\n",
       "  <tbody>\n",
       "    <tr>\n",
       "      <th>E:/indexes2/17_W_256_0.25_BAAI_l2.mirage_index</th>\n",
       "      <td>40</td>\n",
       "    </tr>\n",
       "    <tr>\n",
       "      <th>E:/indexes2/95_S_8_0.5_DeepPavlov_l2.mirage_index</th>\n",
       "      <td>39</td>\n",
       "    </tr>\n",
       "    <tr>\n",
       "      <th>E:/indexes2/82_S_4_0.5_thenlper_l2.mirage_index</th>\n",
       "      <td>38</td>\n",
       "    </tr>\n",
       "    <tr>\n",
       "      <th>E:/indexes2/16_W_256_0.25_intfloat_l2.mirage_index</th>\n",
       "      <td>37</td>\n",
       "    </tr>\n",
       "    <tr>\n",
       "      <th>E:/indexes2/12_W_256_0.1_intfloat_l2.mirage_index</th>\n",
       "      <td>37</td>\n",
       "    </tr>\n",
       "    <tr>\n",
       "      <th>...</th>\n",
       "      <td>...</td>\n",
       "    </tr>\n",
       "    <tr>\n",
       "      <th>E:/indexes2/55_W_2048_0.25_DeepPavlov_l2.mirage_index</th>\n",
       "      <td>12</td>\n",
       "    </tr>\n",
       "    <tr>\n",
       "      <th>E:/indexes2/51_W_2048_0.1_DeepPavlov_l2.mirage_index</th>\n",
       "      <td>11</td>\n",
       "    </tr>\n",
       "    <tr>\n",
       "      <th>E:/indexes2/47_W_1024_0.5_DeepPavlov_l2.mirage_index</th>\n",
       "      <td>11</td>\n",
       "    </tr>\n",
       "    <tr>\n",
       "      <th>E:/indexes2/116_S_32_0.5_intfloat_l2.mirage_index</th>\n",
       "      <td>10</td>\n",
       "    </tr>\n",
       "    <tr>\n",
       "      <th>E:/indexes2/43_W_1024_0.25_DeepPavlov_l2.mirage_index</th>\n",
       "      <td>8</td>\n",
       "    </tr>\n",
       "  </tbody>\n",
       "</table>\n",
       "<p>120 rows × 1 columns</p>\n",
       "</div>"
      ],
      "text/plain": [
       "                                                    correctness\n",
       "file                                                           \n",
       "E:/indexes2/17_W_256_0.25_BAAI_l2.mirage_index               40\n",
       "E:/indexes2/95_S_8_0.5_DeepPavlov_l2.mirage_index            39\n",
       "E:/indexes2/82_S_4_0.5_thenlper_l2.mirage_index              38\n",
       "E:/indexes2/16_W_256_0.25_intfloat_l2.mirage_index           37\n",
       "E:/indexes2/12_W_256_0.1_intfloat_l2.mirage_index            37\n",
       "...                                                         ...\n",
       "E:/indexes2/55_W_2048_0.25_DeepPavlov_l2.mirage...           12\n",
       "E:/indexes2/51_W_2048_0.1_DeepPavlov_l2.mirage_...           11\n",
       "E:/indexes2/47_W_1024_0.5_DeepPavlov_l2.mirage_...           11\n",
       "E:/indexes2/116_S_32_0.5_intfloat_l2.mirage_index            10\n",
       "E:/indexes2/43_W_1024_0.25_DeepPavlov_l2.mirage...            8\n",
       "\n",
       "[120 rows x 1 columns]"
      ]
     },
     "execution_count": 18,
     "metadata": {},
     "output_type": "execute_result"
    }
   ],
   "source": [
    "pd.DataFrame(dfc.groupby('file')['correctness'].sum().sort_values(ascending=False))"
   ]
  },
  {
   "cell_type": "code",
   "execution_count": null,
   "id": "36118f5a",
   "metadata": {},
   "outputs": [
    {
     "ename": "SyntaxError",
     "evalue": "invalid decimal literal (2637107917.py, line 1)",
     "output_type": "error",
     "traceback": [
      "  \u001b[36mCell\u001b[39m\u001b[36m \u001b[39m\u001b[32mIn[16]\u001b[39m\u001b[32m, line 1\u001b[39m\n\u001b[31m    \u001b[39m\u001b[31mE:/indexes1/S_16_0.5_BAAI_l2.mirage_index\u001b[39m\n                        ^\n\u001b[31mSyntaxError\u001b[39m\u001b[31m:\u001b[39m invalid decimal literal\n"
     ]
    }
   ],
   "source": [
    "S_16_0.5_BAAI\n",
    "\n",
    "S_8_0.5_thenlper\n",
    "\n",
    "S_16_0.5_DeepPavlov\n",
    "\n",
    "S_16_0.5_intfloat\n",
    "\n",
    "S_32_0.5_BAAI"
   ]
  },
  {
   "cell_type": "code",
   "execution_count": null,
   "id": "b1c84088",
   "metadata": {},
   "outputs": [],
   "source": [
    "W_256_0.25_BAAI\n",
    "\n",
    "S_8_0.5_DeepPavlov\n",
    "\n",
    "S_4_0.5_thenlper\n",
    "\n",
    "W_256_0.25_intfloat\n",
    "\n",
    "W_256_0.1_intfloat"
   ]
  }
 ],
 "metadata": {
  "kernelspec": {
   "display_name": "env",
   "language": "python",
   "name": "python3"
  },
  "language_info": {
   "codemirror_mode": {
    "name": "ipython",
    "version": 3
   },
   "file_extension": ".py",
   "mimetype": "text/x-python",
   "name": "python",
   "nbconvert_exporter": "python",
   "pygments_lexer": "ipython3",
   "version": "3.12.0"
  }
 },
 "nbformat": 4,
 "nbformat_minor": 5
}
