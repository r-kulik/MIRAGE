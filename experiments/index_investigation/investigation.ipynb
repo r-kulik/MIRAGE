{
 "cells": [
  {
   "cell_type": "code",
   "execution_count": 1,
   "id": "b9806c13",
   "metadata": {},
   "outputs": [],
   "source": [
    "%load_ext autoreload\n",
    "%autoreload 2\n",
    "import os\n",
    "os.chdir('..\\\\..')"
   ]
  },
  {
   "cell_type": "code",
   "execution_count": 29,
   "id": "4b4f5327",
   "metadata": {},
   "outputs": [
    {
     "name": "stderr",
     "output_type": "stream",
     "text": [
      "\u001b[32m2025-05-01 21:36:48.318\u001b[0m | \u001b[1mINFO    \u001b[0m | \u001b[36mmirage.index.MirageIndex\u001b[0m:\u001b[36mload\u001b[0m:\u001b[36m84\u001b[0m - \u001b[1mLoading Mirage index from indexes\\S_32_0.25_intfloat_ip.mirage_index...\u001b[0m\n",
      "\u001b[32m2025-05-01 21:36:48.529\u001b[0m | \u001b[1mINFO    \u001b[0m | \u001b[36mmirage.index.MirageIndex\u001b[0m:\u001b[36mload\u001b[0m:\u001b[36m127\u001b[0m - \u001b[1mMirage index loaded from indexes\\S_32_0.25_intfloat_ip.mirage_index.\u001b[0m\n"
     ]
    }
   ],
   "source": [
    "from experiments.index_investigation.investigator import IndexInvestigator\n",
    "from mirage.index.MirageIndex import MirageIndex\n",
    "from faiss import IndexFlatL2\n",
    "index_file = 'indexes\\S_32_0.25_intfloat_ip.mirage_index'\n",
    "mirage_index = MirageIndex.load(index_file)"
   ]
  },
  {
   "cell_type": "code",
   "execution_count": 32,
   "id": "a930420a",
   "metadata": {},
   "outputs": [],
   "source": [
    "investigator = IndexInvestigator(mirage_index=mirage_index)"
   ]
  },
  {
   "cell_type": "code",
   "execution_count": 34,
   "id": "b0272dd7",
   "metadata": {},
   "outputs": [
    {
     "data": {
      "text/plain": [
       "IndexInvestigationResultDTO(vector_variance=0.08217217779048695, silhouette_score_euclidian=0.0, silhouette_score_cosine=0.0, EID=0.0, redundancy=0.0, LOFs=[0.0, 0.0, 0.0], mean_LOF=0.0, std_LOF=0.0)"
      ]
     },
     "execution_count": 34,
     "metadata": {},
     "output_type": "execute_result"
    }
   ],
   "source": [
    "investigator.process()"
   ]
  }
 ],
 "metadata": {
  "kernelspec": {
   "display_name": "env",
   "language": "python",
   "name": "python3"
  },
  "language_info": {
   "codemirror_mode": {
    "name": "ipython",
    "version": 3
   },
   "file_extension": ".py",
   "mimetype": "text/x-python",
   "name": "python",
   "nbconvert_exporter": "python",
   "pygments_lexer": "ipython3",
   "version": "3.11.5"
  }
 },
 "nbformat": 4,
 "nbformat_minor": 5
}
