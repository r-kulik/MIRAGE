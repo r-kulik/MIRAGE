{
 "cells": [
  {
   "cell_type": "code",
   "execution_count": 161,
   "metadata": {},
   "outputs": [],
   "source": [
    "import pandas as pd\n",
    "import json \n",
    "import os"
   ]
  },
  {
   "cell_type": "code",
   "execution_count": 162,
   "metadata": {},
   "outputs": [],
   "source": [
    "bs = [f'bench_json/{i}' for i in os.listdir('bench_json')]"
   ]
  },
  {
   "cell_type": "code",
   "execution_count": 163,
   "metadata": {},
   "outputs": [
    {
     "data": {
      "text/plain": [
       "['bench_json/1.json',\n",
       " 'bench_json/10.json',\n",
       " 'bench_json/11.json',\n",
       " 'bench_json/12.json',\n",
       " 'bench_json/13.json',\n",
       " 'bench_json/14.json',\n",
       " 'bench_json/15.json',\n",
       " 'bench_json/16.json',\n",
       " 'bench_json/2.json',\n",
       " 'bench_json/3.json',\n",
       " 'bench_json/4.json',\n",
       " 'bench_json/5.json',\n",
       " 'bench_json/6.json',\n",
       " 'bench_json/7.json',\n",
       " 'bench_json/8.json',\n",
       " 'bench_json/9.json']"
      ]
     },
     "execution_count": 163,
     "metadata": {},
     "output_type": "execute_result"
    }
   ],
   "source": [
    "bs"
   ]
  },
  {
   "cell_type": "code",
   "execution_count": 164,
   "metadata": {},
   "outputs": [],
   "source": [
    "datas = []\n",
    "for b in bs:\n",
    "    with open(b, 'r', encoding='utf-8') as f:\n",
    "        datas.append(json.load(f))\n",
    "datas = sum(datas, [])"
   ]
  },
  {
   "cell_type": "code",
   "execution_count": 166,
   "metadata": {},
   "outputs": [],
   "source": [
    "df = pd.DataFrame(datas)"
   ]
  },
  {
   "cell_type": "code",
   "execution_count": 168,
   "metadata": {},
   "outputs": [],
   "source": [
    "df.to_pickle('bench-df.pkl')"
   ]
  },
  {
   "cell_type": "code",
   "execution_count": null,
   "metadata": {},
   "outputs": [
    {
     "data": {
      "text/plain": [
       "'\\nТы получил документ. Тебе необходимо задать по нему 5 вопросов и вывод сделать ввиде словаря:\\n[{\\n\"\"doc\":  name of file,\\n\"question\": paste one of 5 question here,\\n\"response\": answer to question,\\n\"rel_sent\": all sentences relevant for this question it shold be plain text like \" \".join([arr_of_sent])\\n}, {}, {}, {}, {}]\\n'"
      ]
     },
     "execution_count": 130,
     "metadata": {},
     "output_type": "execute_result"
    }
   ],
   "source": [
    "\"\"\"\n",
    "Ты получил документ. Тебе необходимо задать по нему 5 вопросов и вывод сделать ввиде словаря:\n",
    "[{\n",
    "\"\"doc\":  name of file,\n",
    "\"question\": paste one of 5 question here,\n",
    "\"response\": answer to question,\n",
    "\"rel_sent\": all sentences relevant for this question it shold be plain text like \" \".join([arr_of_sent])\n",
    "}, {}, {}, {}, {}]\n",
    "\"\"\""
   ]
  },
  {
   "cell_type": "code",
   "execution_count": null,
   "metadata": {},
   "outputs": [],
   "source": [
    "0/0"
   ]
  },
  {
   "cell_type": "code",
   "execution_count": 157,
   "metadata": {},
   "outputs": [],
   "source": [
    "with open('../data_txt/ФАП-437.txt', 'r', encoding='UTF-16') as f:\n",
    "    larg = f.read()"
   ]
  },
  {
   "cell_type": "code",
   "execution_count": 158,
   "metadata": {},
   "outputs": [],
   "source": [
    "l = len(larg.split(' '))"
   ]
  },
  {
   "cell_type": "code",
   "execution_count": 160,
   "metadata": {},
   "outputs": [],
   "source": [
    "with open(r'C:\\Users\\User\\Desktop\\data_txt\\ФАП-437.txt','w', encoding='UTF-16') as f:\n",
    "    f.write(' '.join(larg.split(' ')[(l//7) *3:(l//7)*4:]))"
   ]
  },
  {
   "cell_type": "code",
   "execution_count": null,
   "metadata": {},
   "outputs": [
    {
     "data": {
      "text/plain": [
       "'UTF-16'"
      ]
     },
     "execution_count": 134,
     "metadata": {},
     "output_type": "execute_result"
    }
   ],
   "source": [
    "import chardet    \n",
    "rawdata = open('../data_txt/ФАП-437.txt', 'rb').read()\n",
    "result = chardet.detect(rawdata)\n",
    "result['encoding']"
   ]
  },
  {
   "cell_type": "code",
   "execution_count": null,
   "metadata": {},
   "outputs": [],
   "source": []
  }
 ],
 "metadata": {
  "kernelspec": {
   "display_name": "env",
   "language": "python",
   "name": "python3"
  },
  "language_info": {
   "codemirror_mode": {
    "name": "ipython",
    "version": 3
   },
   "file_extension": ".py",
   "mimetype": "text/x-python",
   "name": "python",
   "nbconvert_exporter": "python",
   "pygments_lexer": "ipython3",
   "version": "3.12.2"
  }
 },
 "nbformat": 4,
 "nbformat_minor": 2
}
