{
 "cells": [
  {
   "cell_type": "code",
   "execution_count": 1,
   "id": "39aadde0",
   "metadata": {},
   "outputs": [],
   "source": [
    "import pandas as pd"
   ]
  },
  {
   "cell_type": "code",
   "execution_count": 2,
   "id": "7c6461e7",
   "metadata": {},
   "outputs": [],
   "source": [
    "questions = pd.read_pickle('bench-df.pkl').reset_index()"
   ]
  },
  {
   "cell_type": "code",
   "execution_count": 3,
   "id": "8d72798d",
   "metadata": {},
   "outputs": [],
   "source": [
    "index_metrics = pd.read_pickle(r'E:\\indres\\bench1.pkl')"
   ]
  },
  {
   "cell_type": "code",
   "execution_count": 4,
   "id": "7683ac23",
   "metadata": {},
   "outputs": [],
   "source": [
    "retriv_result = pd.read_pickle(r'E:\\results\\bench_rel.pkl')"
   ]
  },
  {
   "cell_type": "code",
   "execution_count": 5,
   "id": "41fa6d81",
   "metadata": {},
   "outputs": [],
   "source": [
    "r_q = pd.merge(retriv_result, questions, left_on='question', right_on='index')"
   ]
  },
  {
   "cell_type": "code",
   "execution_count": 6,
   "id": "6c713e66",
   "metadata": {},
   "outputs": [],
   "source": [
    "final = pd.merge(r_q, index_metrics, on='file')"
   ]
  },
  {
   "cell_type": "code",
   "execution_count": 13,
   "id": "6dd4ff38",
   "metadata": {},
   "outputs": [],
   "source": [
    "pd.DataFrame(final.iloc[5151]).transpose().to_pickle('df_to_show.pkl')"
   ]
  },
  {
   "cell_type": "code",
   "execution_count": 7,
   "id": "51bc7376",
   "metadata": {},
   "outputs": [],
   "source": [
    "# import numpy as np\n",
    "# import pandas as pd\n",
    "# import matplotlib.pyplot as plt\n",
    "# import seaborn as sns\n",
    "\n",
    "# def plot_correlation_matrix(df):\n",
    "#     \"\"\"\n",
    "#     Plot a beautiful correlation matrix for all numeric columns in a DataFrame.\n",
    "    \n",
    "#     Parameters:\n",
    "#         df (pd.DataFrame): Input dataframe containing numeric columns\n",
    "#     \"\"\"\n",
    "#     # Calculate correlation matrix for numeric columns only\n",
    "#     numeric_df = df.select_dtypes(include=[np.number])\n",
    "#     corr = numeric_df.corr()\n",
    "    \n",
    "#     # Set up the matplotlib figure\n",
    "#     plt.figure(figsize=(12, 10))\n",
    "    \n",
    "#     # Generate a mask for the upper triangle\n",
    "#     mask = np.triu(np.ones_like(corr, dtype=bool))\n",
    "    \n",
    "#     # Create heatmap with magma colormap\n",
    "#     sns.heatmap(corr, \n",
    "#                 mask=mask,\n",
    "#                 cmap='magma',\n",
    "#                 vmin=-1, vmax=1,\n",
    "#                 center=0,\n",
    "#                 annot=True,\n",
    "#                 fmt='.2f',\n",
    "#                 linewidths=0.5,\n",
    "#                 cbar_kws={'shrink': 0.8},\n",
    "#                 square=True)\n",
    "    \n",
    "#     # Add title and adjust layout\n",
    "#     plt.title('Correlation Matrix of Numeric Features', \n",
    "#               fontsize=16, pad=20)\n",
    "#     plt.xticks(rotation=45, ha='right', fontsize=10)\n",
    "#     plt.yticks(fontsize=10)\n",
    "    \n",
    "#     # Make the plot tight\n",
    "#     plt.tight_layout()\n",
    "    \n",
    "#     # Show the plot\n",
    "#     plt.show()\n",
    "\n",
    "# # Example usage:\n",
    "# # plot_correlation_matrix(final[final['file'].str.contains('DeepPavlov')])\n",
    "# plot_correlation_matrix(final)"
   ]
  },
  {
   "cell_type": "code",
   "execution_count": null,
   "id": "e4ee6f4e",
   "metadata": {},
   "outputs": [],
   "source": []
  }
 ],
 "metadata": {
  "kernelspec": {
   "display_name": "env",
   "language": "python",
   "name": "python3"
  },
  "language_info": {
   "codemirror_mode": {
    "name": "ipython",
    "version": 3
   },
   "file_extension": ".py",
   "mimetype": "text/x-python",
   "name": "python",
   "nbconvert_exporter": "python",
   "pygments_lexer": "ipython3",
   "version": "3.12.0"
  }
 },
 "nbformat": 4,
 "nbformat_minor": 5
}
