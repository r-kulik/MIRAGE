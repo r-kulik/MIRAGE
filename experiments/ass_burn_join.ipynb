{
 "cells": [
  {
   "cell_type": "code",
   "execution_count": 1,
   "id": "39aadde0",
   "metadata": {},
   "outputs": [],
   "source": [
    "import pandas as pd"
   ]
  },
  {
   "cell_type": "code",
   "execution_count": 44,
   "id": "c4cdd505",
   "metadata": {},
   "outputs": [],
   "source": [
    "q1 = pd.read_pickle('bench-df.pkl').reset_index()\n",
    "i1 = pd.read_pickle(r'E:\\indres\\bench1.pkl')\n",
    "r1 = pd.read_pickle(r'E:\\results\\bench_rel.pkl')\n",
    "r1 = r1[r1.file.str.contains('_l2')]"
   ]
  },
  {
   "cell_type": "code",
   "execution_count": 45,
   "id": "e307b75c",
   "metadata": {},
   "outputs": [],
   "source": [
    "r_q1 = pd.merge(r1, q1, left_on='question', right_on='index')\n",
    "final1 = pd.merge(r_q1, i1, on='file')\n",
    "final1.drop(['rel_sent_y', 'index'], axis=1, inplace=True)"
   ]
  },
  {
   "cell_type": "code",
   "execution_count": 46,
   "id": "ac054871",
   "metadata": {},
   "outputs": [],
   "source": [
    "final1.columns = ['file', 'question_id', 'texts', 'rel_sent', 'relevance', 'cc', 'cr',\n",
    "       'doc', 'question', 'response', 'vector_variance',\n",
    "       'silhouette_score_euclidian', 'silhouette_score_cosine', 'EID',\n",
    "       'redundancy', 'LOFs', 'mean_LOF', 'std_LOF']"
   ]
  },
  {
   "cell_type": "code",
   "execution_count": 47,
   "id": "b6b16009",
   "metadata": {},
   "outputs": [],
   "source": [
    "final1['dataset'] = 'bench'"
   ]
  },
  {
   "cell_type": "code",
   "execution_count": 48,
   "id": "fe32e190",
   "metadata": {},
   "outputs": [],
   "source": [
    "q2 = pd.read_pickle('cuad-df.pkl').reset_index()\n",
    "i2 = pd.read_pickle(r'E:\\indres\\bench2.pkl')\n",
    "r2 = pd.read_pickle(r'E:\\results\\bench2_rel.pkl')\n",
    "r2 = r2[r2.file.str.contains('_l2')]"
   ]
  },
  {
   "cell_type": "code",
   "execution_count": 49,
   "id": "3a9e64df",
   "metadata": {},
   "outputs": [],
   "source": [
    "r_q2 = pd.merge(r2, q2, left_on='question', right_on='index')\n",
    "final2 = pd.merge(r_q2, i2, on='file')\n",
    "final2.drop(['rel_sent_y', 'index'], axis=1, inplace=True)"
   ]
  },
  {
   "cell_type": "code",
   "execution_count": 50,
   "id": "a7f1afda",
   "metadata": {},
   "outputs": [],
   "source": [
    "final2.columns = ['file', 'question_id', 'texts', 'rel_sent', 'relevance', 'cc', 'cr',\n",
    "       'doc', 'question', 'response', 'vector_variance',\n",
    "       'silhouette_score_euclidian', 'silhouette_score_cosine', 'EID',\n",
    "       'redundancy', 'LOFs', 'mean_LOF', 'std_LOF']"
   ]
  },
  {
   "cell_type": "code",
   "execution_count": 51,
   "id": "8015442b",
   "metadata": {},
   "outputs": [],
   "source": [
    "final2['dataset'] = 'cuad'"
   ]
  },
  {
   "cell_type": "code",
   "execution_count": 52,
   "id": "1bfc5394",
   "metadata": {},
   "outputs": [],
   "source": [
    "final = pd.concat([final1, final2])"
   ]
  },
  {
   "cell_type": "code",
   "execution_count": 54,
   "id": "113ccb93",
   "metadata": {},
   "outputs": [],
   "source": [
    "final.to_pickle(r'E:\\final.pkl')"
   ]
  },
  {
   "cell_type": "code",
   "execution_count": 8,
   "id": "6dd4ff38",
   "metadata": {},
   "outputs": [],
   "source": [
    "# pd.DataFrame(final.iloc[5151]).transpose().to_pickle('df_to_show.pkl')"
   ]
  },
  {
   "cell_type": "code",
   "execution_count": 9,
   "id": "932311ca",
   "metadata": {},
   "outputs": [],
   "source": [
    "final.to_pickle(r'E:\\final1.pkl')"
   ]
  },
  {
   "cell_type": "code",
   "execution_count": 10,
   "id": "51bc7376",
   "metadata": {},
   "outputs": [],
   "source": [
    "# import numpy as np\n",
    "# import pandas as pd\n",
    "# import matplotlib.pyplot as plt\n",
    "# import seaborn as sns\n",
    "\n",
    "# def plot_correlation_matrix(df):\n",
    "#     \"\"\"\n",
    "#     Plot a beautiful correlation matrix for all numeric columns in a DataFrame.\n",
    "    \n",
    "#     Parameters:\n",
    "#         df (pd.DataFrame): Input dataframe containing numeric columns\n",
    "#     \"\"\"\n",
    "#     # Calculate correlation matrix for numeric columns only\n",
    "#     numeric_df = df.select_dtypes(include=[np.number])\n",
    "#     corr = numeric_df.corr()\n",
    "    \n",
    "#     # Set up the matplotlib figure\n",
    "#     plt.figure(figsize=(12, 10))\n",
    "    \n",
    "#     # Generate a mask for the upper triangle\n",
    "#     mask = np.triu(np.ones_like(corr, dtype=bool))\n",
    "    \n",
    "#     # Create heatmap with magma colormap\n",
    "#     sns.heatmap(corr, \n",
    "#                 mask=mask,\n",
    "#                 cmap='magma',\n",
    "#                 vmin=-1, vmax=1,\n",
    "#                 center=0,\n",
    "#                 annot=True,\n",
    "#                 fmt='.2f',\n",
    "#                 linewidths=0.5,\n",
    "#                 cbar_kws={'shrink': 0.8},\n",
    "#                 square=True)\n",
    "    \n",
    "#     # Add title and adjust layout\n",
    "#     plt.title('Correlation Matrix of Numeric Features', \n",
    "#               fontsize=16, pad=20)\n",
    "#     plt.xticks(rotation=45, ha='right', fontsize=10)\n",
    "#     plt.yticks(fontsize=10)\n",
    "    \n",
    "#     # Make the plot tight\n",
    "#     plt.tight_layout()\n",
    "    \n",
    "#     # Show the plot\n",
    "#     plt.show()\n",
    "\n",
    "# # Example usage:\n",
    "# # plot_correlation_matrix(final[final['file'].str.contains('DeepPavlov')])\n",
    "# plot_correlation_matrix(final)"
   ]
  },
  {
   "cell_type": "code",
   "execution_count": null,
   "id": "e4ee6f4e",
   "metadata": {},
   "outputs": [],
   "source": []
  }
 ],
 "metadata": {
  "kernelspec": {
   "display_name": "env",
   "language": "python",
   "name": "python3"
  },
  "language_info": {
   "codemirror_mode": {
    "name": "ipython",
    "version": 3
   },
   "file_extension": ".py",
   "mimetype": "text/x-python",
   "name": "python",
   "nbconvert_exporter": "python",
   "pygments_lexer": "ipython3",
   "version": "3.12.0"
  }
 },
 "nbformat": 4,
 "nbformat_minor": 5
}
