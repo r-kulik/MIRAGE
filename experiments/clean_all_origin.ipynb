{
 "cells": [
  {
   "cell_type": "code",
   "execution_count": 1,
   "id": "b14e015a",
   "metadata": {},
   "outputs": [],
   "source": [
    "import pandas as pd"
   ]
  },
  {
   "cell_type": "code",
   "execution_count": 2,
   "id": "59041496",
   "metadata": {},
   "outputs": [],
   "source": [
    "df = pd.read_pickle('E:/fulltext.pkl')"
   ]
  },
  {
   "cell_type": "code",
   "execution_count": 3,
   "id": "0a6f9e62",
   "metadata": {},
   "outputs": [],
   "source": [
    "inb = pd.read_pickle('E:/indres/bench1_1.pkl')\n",
    "inb.file = inb.file.apply(lambda x: x.split('/')[-1][:-16])\n",
    "\n",
    "inc = pd.read_pickle('E:/indres/bench2_1.pkl')\n",
    "inc.file = inc.file.apply(lambda x: x[x.index('_')+1:-16])"
   ]
  },
  {
   "cell_type": "code",
   "execution_count": 4,
   "id": "d8453feb",
   "metadata": {},
   "outputs": [],
   "source": [
    "dfb = df[df.dataset=='bench']\n",
    "dfb = pd.merge(dfb, inb, on='file').drop_duplicates(subset=['file', 'c', 'k1', 'question_id']).reset_index(drop=True)"
   ]
  },
  {
   "cell_type": "code",
   "execution_count": 5,
   "id": "13666a2a",
   "metadata": {},
   "outputs": [],
   "source": [
    "dfc = df[df.dataset=='cuad']\n",
    "dfc = pd.merge(dfc, inc, on='file').drop_duplicates(subset=['file', 'c', 'k1', 'question_id']).reset_index(drop=True)"
   ]
  },
  {
   "cell_type": "code",
   "execution_count": 8,
   "id": "5dc9b734",
   "metadata": {},
   "outputs": [],
   "source": [
    "pd.concat([dfb, dfc]).reset_index(drop=True).to_pickle('E:/fulltext.pkl')"
   ]
  },
  {
   "cell_type": "code",
   "execution_count": 67,
   "id": "6af2e27d",
   "metadata": {},
   "outputs": [
    {
     "ename": "ZeroDivisionError",
     "evalue": "division by zero",
     "output_type": "error",
     "traceback": [
      "\u001b[31m---------------------------------------------------------------------------\u001b[39m",
      "\u001b[31mZeroDivisionError\u001b[39m                         Traceback (most recent call last)",
      "\u001b[36mCell\u001b[39m\u001b[36m \u001b[39m\u001b[32mIn[67]\u001b[39m\u001b[32m, line 1\u001b[39m\n\u001b[32m----> \u001b[39m\u001b[32m1\u001b[39m \u001b[32;43m0\u001b[39;49m\u001b[43m/\u001b[49m\u001b[32;43m0\u001b[39;49m\n",
      "\u001b[31mZeroDivisionError\u001b[39m: division by zero"
     ]
    }
   ],
   "source": [
    "0/0"
   ]
  },
  {
   "cell_type": "code",
   "execution_count": 47,
   "id": "8df41836",
   "metadata": {},
   "outputs": [],
   "source": [
    "df.drop(['EID', 'redundancy'], axis=1, inplace=True)"
   ]
  },
  {
   "cell_type": "code",
   "execution_count": 60,
   "id": "8aad5d63",
   "metadata": {},
   "outputs": [],
   "source": [
    "inb = pd.read_pickle('E:/indres/bench1_1.pkl')[['file', 'EID', 'redundancy', 'dim']]\n",
    "inc = pd.read_pickle('E:/indres/bench2_1.pkl')[['file', 'EID', 'redundancy', 'dim']]\n",
    "ind = pd.concat([inb, inc])"
   ]
  },
  {
   "cell_type": "code",
   "execution_count": 64,
   "id": "4beadfd1",
   "metadata": {},
   "outputs": [],
   "source": [
    "pd.merge(df, ind, on='file').to_pickle('E:/base.pkl')"
   ]
  },
  {
   "cell_type": "code",
   "execution_count": null,
   "id": "9b749ab1",
   "metadata": {},
   "outputs": [],
   "source": []
  }
 ],
 "metadata": {
  "kernelspec": {
   "display_name": "env",
   "language": "python",
   "name": "python3"
  },
  "language_info": {
   "codemirror_mode": {
    "name": "ipython",
    "version": 3
   },
   "file_extension": ".py",
   "mimetype": "text/x-python",
   "name": "python",
   "nbconvert_exporter": "python",
   "pygments_lexer": "ipython3",
   "version": "3.12.0"
  }
 },
 "nbformat": 4,
 "nbformat_minor": 5
}
