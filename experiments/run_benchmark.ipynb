{
 "cells": [
  {
   "cell_type": "code",
   "execution_count": 117,
   "metadata": {},
   "outputs": [
    {
     "name": "stdout",
     "output_type": "stream",
     "text": [
      "The autoreload extension is already loaded. To reload it, use:\n",
      "  %reload_ext autoreload\n"
     ]
    }
   ],
   "source": [
    "\n",
    "# In a Jupyter Notebook cell\n",
    "%load_ext autoreload\n",
    "%autoreload 2\n",
    "\n",
    "import numpy as np\n",
    "\n",
    "from mirage import WordCountingChunkingAlgorithm, FolderRawStorage, SQLiteChunkStorage, RAMChunkStorage\n",
    "from mirage import HuggingFaceEmbedder, TextNormalizer, BowEmbedder\n",
    "from mirage import NatashaSentenceChunking, SemanticChunking\n",
    "from mirage import FaissIndexFlatL2\n",
    "from sklearn.metrics.pairwise import euclidean_distances\n",
    "from sklearn.metrics.pairwise import cosine_distances\n",
    "\n",
    "import os\n",
    "import pickle"
   ]
  },
  {
   "cell_type": "code",
   "execution_count": 118,
   "metadata": {},
   "outputs": [
    {
     "data": {
      "text/plain": [
       "1"
      ]
     },
     "execution_count": 118,
     "metadata": {},
     "output_type": "execute_result"
    }
   ],
   "source": [
    "import logging\n",
    "logging.basicConfig(level=logging.ERROR)\n",
    "\n",
    "\n",
    "documents = FolderRawStorage('../data_test')\n",
    "chunks = RAMChunkStorage()\n",
    "\n",
    "algorithm = NatashaSentenceChunking(raw_storage=documents, chunk_storage=chunks, sentences_in_chunk=1)\n",
    "algorithm.execute(visualize=True)"
   ]
  },
  {
   "cell_type": "code",
   "execution_count": 119,
   "metadata": {},
   "outputs": [
    {
     "data": {
      "text/plain": [
       "1024"
      ]
     },
     "execution_count": 119,
     "metadata": {},
     "output_type": "execute_result"
    }
   ],
   "source": [
    "emb = HuggingFaceEmbedder(normalizer = True, model_name='Alibaba-NLP/gte-large-en-v1.5')\n",
    "emb.fit(chunks)\n",
    "emb.get_dimensionality()"
   ]
  },
  {
   "cell_type": "code",
   "execution_count": 120,
   "metadata": {},
   "outputs": [
    {
     "name": "stdout",
     "output_type": "stream",
     "text": [
      "Converting ChunkStorage to VectorIndex\n"
     ]
    },
    {
     "name": "stderr",
     "output_type": "stream",
     "text": [
      "100%|██████████| 28/28 [00:41<00:00,  1.48s/it]\n"
     ]
    }
   ],
   "source": [
    "vector_index = FaissIndexFlatL2(dimensionality=emb.get_dimensionality())\n",
    "emb.convert_chunks_to_vector_index(chunks, vector_index, visualize=True)"
   ]
  },
  {
   "cell_type": "code",
   "execution_count": 121,
   "metadata": {},
   "outputs": [],
   "source": [
    "import json \n",
    "\n",
    "path = '../benchmark/QnA/'\n",
    "benchmarks = []\n",
    "\n",
    "for p in os.listdir(path):\n",
    "    \n",
    "    with open(path+p, 'r', encoding='utf-8') as bench:\n",
    "        benchmarks.append(json.load(bench))"
   ]
  },
  {
   "cell_type": "code",
   "execution_count": 128,
   "metadata": {},
   "outputs": [
    {
     "data": {
      "text/plain": [
       "['05b257686f3d6de816d7dddca3d8f57f8664dfbf.json',\n",
       " '0a4bf58fddd5217dd59fe4745625d6f210e78933.json',\n",
       " '1124a091b19d2d65af973e5d746178bde7040ea7.json',\n",
       " '1cdefdec84e7af71afb3411b90fe182526dfbe89.json',\n",
       " '38cffc0daa9cd352f25022017358300a006dfcb0.json',\n",
       " '3c333a1896d4c5488730c3ed006636e951cb74f3.json',\n",
       " '3e2e41bd4b1789e812a75a130a55cdd26c8e6c89.json',\n",
       " '3ebe0752a720ccde058167dcfb8bf6423ebe1acb.json',\n",
       " '4c277e63d1a10ab20cfc08b757efb2300d430273.json',\n",
       " '52b1784797088460ad26e109cd2ab6741dce0040.json',\n",
       " '608e61359b3f171743de8af70324f1a0e38cbf24.json',\n",
       " '687af6709d98d4223fd48e92db7f8e3190d4c263.json',\n",
       " '6e3a5cec7dc8e1b2648156e7878f5ee0552e6835.json',\n",
       " '779d7348c1ffd41c35c1e9831e9aea4fedcaa3f4.json',\n",
       " '7b42b7e455f72c82d3c5a9de8e970d3a3ceb79db.json',\n",
       " '7c620c28c2f97e2b6d643bc16c0745c5b1b3ed25.json',\n",
       " '8f09b49d917771f6f2894c90c00029a3fa636c6a.json',\n",
       " '990537108b7a93132e78ee1abaafe95b9942f77c.json',\n",
       " 'a4c1749bb374bbe410dfeeb15c54da198c54564c.json',\n",
       " 'c18513dd4de81e48d061af9f14eac2679249ce23.json',\n",
       " 'd4e2a90252dd00b923760897e75fa0aba5db1b37.json',\n",
       " 'e4137c6a4dd531f919bdbda32fea3b2d0fcc0b98.json',\n",
       " 'e9121ee595b6cac6f31507222568a78514a4674c.json',\n",
       " 'ea263d40d0ea21b177c490228fbf4c6fad92cd7a.json',\n",
       " 'f33f97a50191c5949a54dae0a5dfe57148f4198f.json']"
      ]
     },
     "execution_count": 128,
     "metadata": {},
     "output_type": "execute_result"
    }
   ],
   "source": [
    "os.listdir(path)"
   ]
  },
  {
   "cell_type": "code",
   "execution_count": 122,
   "metadata": {},
   "outputs": [],
   "source": [
    "bow_embedder = BowEmbedder(normalizer=True)\n",
    "bow_embedder.fit(chunks=chunks)\n",
    "def bow_score(str1, str2):\n",
    "    v1 = bow_embedder.embed(str1).reshape(1, -1)\n",
    "    v2 = bow_embedder.embed(str2).reshape(1, -1)\n",
    "    return euclidean_distances(v1, v2)[0][0]"
   ]
  },
  {
   "cell_type": "code",
   "execution_count": 123,
   "metadata": {},
   "outputs": [
    {
     "data": {
      "text/plain": [
       "351"
      ]
     },
     "execution_count": 123,
     "metadata": {},
     "output_type": "execute_result"
    }
   ],
   "source": [
    "bow_embedder.get_dimensionality()"
   ]
  },
  {
   "cell_type": "code",
   "execution_count": 124,
   "metadata": {},
   "outputs": [
    {
     "data": {
      "text/plain": [
       "[21.236760581595302,\n",
       " 152.22680447279973,\n",
       " 43.22036556994862,\n",
       " 22.9128784747792,\n",
       " 28.053520278211074,\n",
       " 29.086079144497972,\n",
       " 28.089143810376278,\n",
       " 20.97617696340303,\n",
       " 26.324893162176366,\n",
       " 46.281745861624536,\n",
       " 48.55924216871593,\n",
       " 145.59876373101525,\n",
       " 23.83275057562597,\n",
       " 20.346989949375804,\n",
       " 152.22680447279973,\n",
       " 26.324893162176366,\n",
       " 23.45207879911715,\n",
       " 23.83275057562597,\n",
       " 154.7966407904254,\n",
       " 26.962937525425527,\n",
       " 20.346989949375804,\n",
       " 48.55924216871593,\n",
       " 154.26600403199663,\n",
       " 46.281745861624536,\n",
       " 24.310491562286437]"
      ]
     },
     "execution_count": 124,
     "metadata": {},
     "output_type": "execute_result"
    }
   ],
   "source": [
    "def get_chunks(query: str):\n",
    "    query_vector = emb.embed(text=query)\n",
    "    answer = vector_index.query(query_vector, top_k=1)\n",
    "    return \" \".join([chunks[element.chunk_storage_key] for element in answer])\n",
    "\n",
    "scores = []\n",
    "for b in  benchmarks:\n",
    "    chunk_real = b['ideal_context']\n",
    "    chunk_model = get_chunks(b['question'])\n",
    "    scores.append(bow_score(chunk_model, chunk_real))\n",
    "scores"
   ]
  },
  {
   "cell_type": "code",
   "execution_count": 125,
   "metadata": {},
   "outputs": [],
   "source": [
    "import pandas as pd\n",
    "df = pd.Series(scores)\n"
   ]
  },
  {
   "cell_type": "code",
   "execution_count": 126,
   "metadata": {},
   "outputs": [
    {
     "data": {
      "text/plain": [
       "count     25.000000\n",
       "mean      54.324268\n",
       "std       50.600909\n",
       "min       20.346990\n",
       "25%       23.832751\n",
       "50%       28.053520\n",
       "75%       48.559242\n",
       "max      154.796641\n",
       "dtype: float64"
      ]
     },
     "execution_count": 126,
     "metadata": {},
     "output_type": "execute_result"
    }
   ],
   "source": [
    "df.describe()"
   ]
  },
  {
   "cell_type": "code",
   "execution_count": 127,
   "metadata": {},
   "outputs": [
    {
     "data": {
      "image/png": "[encoded data removed]",
      "text/plain": [
       "<Figure size 800x600 with 1 Axes>"
      ]
     },
     "metadata": {},
     "output_type": "display_data"
    }
   ],
   "source": [
    "import matplotlib.pyplot as plt\n",
    "plt.figure(figsize=(8, 6))\n",
    "plt.hist(df, bins=25, edgecolor='black', alpha=0.7)\n",
    "plt.title('Distribution of Scores')\n",
    "plt.xlabel('Scores')\n",
    "plt.ylabel('Frequency')\n",
    "plt.grid(axis='y', linestyle='--', alpha=0.7)\n",
    "plt.show()"
   ]
  },
  {
   "cell_type": "code",
   "execution_count": null,
   "metadata": {},
   "outputs": [],
   "source": []
  }
 ],
 "metadata": {
  "kernelspec": {
   "display_name": "env",
   "language": "python",
   "name": "python3"
  },
  "language_info": {
   "codemirror_mode": {
    "name": "ipython",
    "version": 3
   },
   "file_extension": ".py",
   "mimetype": "text/x-python",
   "name": "python",
   "nbconvert_exporter": "python",
   "pygments_lexer": "ipython3",
   "version": "3.12.2"
  }
 },
 "nbformat": 4,
 "nbformat_minor": 2
}
