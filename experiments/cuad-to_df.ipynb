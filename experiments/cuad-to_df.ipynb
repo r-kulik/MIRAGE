{
 "cells": [
  {
   "cell_type": "code",
   "execution_count": 1,
   "metadata": {},
   "outputs": [
    {
     "name": "stderr",
     "output_type": "stream",
     "text": [
      "c:\\Users\\User\\Desktop\\Диплом\\MIRAGE\\env\\Lib\\site-packages\\tqdm\\auto.py:21: TqdmWarning: IProgress not found. Please update jupyter and ipywidgets. See https://ipywidgets.readthedocs.io/en/stable/user_install.html\n",
      "  from .autonotebook import tqdm as notebook_tqdm\n"
     ]
    }
   ],
   "source": [
    "import os \n",
    "import numpy as np\n",
    "from datasets import load_dataset\n",
    "import pandas as pd\n",
    "pd.set_option('display.max_columns', 500)"
   ]
  },
  {
   "cell_type": "code",
   "execution_count": 2,
   "metadata": {},
   "outputs": [],
   "source": [
    "ds = load_dataset(\"rungalileo/ragbench\", \"cuad\")"
   ]
  },
  {
   "cell_type": "code",
   "execution_count": 3,
   "metadata": {},
   "outputs": [],
   "source": [
    "docs = [i[:-4] for i in os.listdir('cuad_cut')]"
   ]
  },
  {
   "cell_type": "code",
   "execution_count": 4,
   "metadata": {},
   "outputs": [],
   "source": [
    "sample = []\n",
    "for i in range(len(ds['train'])):\n",
    "    if ds['train'][i]['id'].split('__')[0] in docs:\n",
    "        sample.append(ds['train'][i])"
   ]
  },
  {
   "cell_type": "code",
   "execution_count": 5,
   "metadata": {},
   "outputs": [],
   "source": [
    "df = pd.DataFrame(sample)\n",
    "df = df[['id', 'question', 'response', 'documents_sentences', 'all_relevant_sentence_keys']]\n",
    "df['id'] = df['id'].apply(lambda x: f'{x.split('__')[0]}.txt')\n",
    "df.columns = ['doc'] + list(df.columns)[1::]"
   ]
  },
  {
   "cell_type": "code",
   "execution_count": 6,
   "metadata": {},
   "outputs": [
    {
     "data": {
      "text/plain": [
       "[['0ct',\n",
       "  '         8.1 The Company may renew this Agreement on the same terms and conditions for one (1) additional five year period that shall begin on January 1, 2005 and end on December 31, 2009, by providing a written notice of its intent to effect such renewal to the Professional by November 30, 2004. 9. NON-COMPETITION.']]"
      ]
     },
     "execution_count": 6,
     "metadata": {},
     "output_type": "execute_result"
    }
   ],
   "source": [
    "[i for i in eval(str(df['documents_sentences'][0][0])) if i[0] in ['0ct']]"
   ]
  },
  {
   "cell_type": "code",
   "execution_count": 7,
   "metadata": {},
   "outputs": [
    {
     "data": {
      "text/plain": [
       "['0ct']"
      ]
     },
     "execution_count": 7,
     "metadata": {},
     "output_type": "execute_result"
    }
   ],
   "source": [
    "df['all_relevant_sentence_keys'][0]"
   ]
  },
  {
   "cell_type": "code",
   "execution_count": 8,
   "metadata": {},
   "outputs": [],
   "source": [
    "df['rel_sent'] = df.apply(lambda x: ' '.join([i[1] for i in\n",
    "                                     eval(str(x['documents_sentences'][0]))\n",
    "                                     if i[0] in x['all_relevant_sentence_keys']]),\n",
    "                          axis=1)"
   ]
  },
  {
   "cell_type": "code",
   "execution_count": 9,
   "metadata": {},
   "outputs": [],
   "source": [
    "df = df.drop(['documents_sentences', 'all_relevant_sentence_keys'], axis=1)"
   ]
  },
  {
   "cell_type": "code",
   "execution_count": 11,
   "metadata": {},
   "outputs": [],
   "source": [
    "df.to_pickle('cuad_df.pkl')"
   ]
  },
  {
   "cell_type": "code",
   "execution_count": null,
   "metadata": {},
   "outputs": [
    {
     "data": {
      "text/html": [
       "<div>\n",
       "<style scoped>\n",
       "    .dataframe tbody tr th:only-of-type {\n",
       "        vertical-align: middle;\n",
       "    }\n",
       "\n",
       "    .dataframe tbody tr th {\n",
       "        vertical-align: top;\n",
       "    }\n",
       "\n",
       "    .dataframe thead th {\n",
       "        text-align: right;\n",
       "    }\n",
       "</style>\n",
       "<table border=\"1\" class=\"dataframe\">\n",
       "  <thead>\n",
       "    <tr style=\"text-align: right;\">\n",
       "      <th></th>\n",
       "      <th>doc</th>\n",
       "      <th>question</th>\n",
       "      <th>response</th>\n",
       "      <th>rel_sent</th>\n",
       "    </tr>\n",
       "  </thead>\n",
       "  <tbody>\n",
       "    <tr>\n",
       "      <th>0</th>\n",
       "      <td>WOMENSGOLFUNLIMITEDINC_03_29_2000-EX-10.13-END...</td>\n",
       "      <td>What is the notice period required to terminat...</td>\n",
       "      <td>According to Section 8.1 of the agreement, the...</td>\n",
       "      <td>8.1 The Company may renew this Agreem...</td>\n",
       "    </tr>\n",
       "    <tr>\n",
       "      <th>1</th>\n",
       "      <td>OLDAPIWIND-DOWNLTD_01_08_2016-EX-1.3-AGENCY AG...</td>\n",
       "      <td>Is there a clause granting one party an “enter...</td>\n",
       "      <td>No, there is no clause in the provided context...</td>\n",
       "      <td></td>\n",
       "    </tr>\n",
       "    <tr>\n",
       "      <th>2</th>\n",
       "      <td>ZogenixInc_20190509_10-Q_EX-10.2_11663313_EX-1...</td>\n",
       "      <td>Is there a requirement on a party not to dispa...</td>\n",
       "      <td>No, there does not appear to be a specific req...</td>\n",
       "      <td>Confidentiality 8.1 Confidential Information 8...</td>\n",
       "    </tr>\n",
       "    <tr>\n",
       "      <th>3</th>\n",
       "      <td>PlayboyEnterprisesInc_20090220_10-QA_EX-10.2_4...</td>\n",
       "      <td>Does the contract contain a license granted by...</td>\n",
       "      <td>Yes, the contract contains multiple license gr...</td>\n",
       "      <td>License Grants    7.1. Playboy Content. During...</td>\n",
       "    </tr>\n",
       "    <tr>\n",
       "      <th>4</th>\n",
       "      <td>SimplicityEsportsGamingCompany_20181130_8-K_EX...</td>\n",
       "      <td>The date when the contract is effective</td>\n",
       "      <td>According to the agreement, the Effective Date...</td>\n",
       "      <td>Exhibit 10.1 MASTER FRANCHISE AGREEMENT This M...</td>\n",
       "    </tr>\n",
       "    <tr>\n",
       "      <th>...</th>\n",
       "      <td>...</td>\n",
       "      <td>...</td>\n",
       "      <td>...</td>\n",
       "      <td>...</td>\n",
       "    </tr>\n",
       "    <tr>\n",
       "      <th>75</th>\n",
       "      <td>ZONDWINDSYSTEMPARTNERSLTDSERIES85-B_04_03_2006...</td>\n",
       "      <td>Does one party have the right to terminate or ...</td>\n",
       "      <td>Based on the context provided in the First Ame...</td>\n",
       "      <td>Except as expressly modified by Section 1 of t...</td>\n",
       "    </tr>\n",
       "    <tr>\n",
       "      <th>76</th>\n",
       "      <td>TUNIUCORP_03_06_2014-EX-10-COOPERATION AGREEME...</td>\n",
       "      <td>Is there a restriction on the ability of a par...</td>\n",
       "      <td>Based on the context provided in the Cooperati...</td>\n",
       "      <td>(1) Nanjing Tuniu Technology Co., Ltd., with i...</td>\n",
       "    </tr>\n",
       "    <tr>\n",
       "      <th>77</th>\n",
       "      <td>ZONDWINDSYSTEMPARTNERSLTDSERIES85-B_04_03_2006...</td>\n",
       "      <td>Is there a restriction on the ability of a par...</td>\n",
       "      <td>Based on the provided context, there does not ...</td>\n",
       "      <td></td>\n",
       "    </tr>\n",
       "    <tr>\n",
       "      <th>78</th>\n",
       "      <td>IGENEBIOTECHNOLOGYINC_05_13_2003-EX-1-JOINT VE...</td>\n",
       "      <td>Is there a clause granting one party a right o...</td>\n",
       "      <td>Yes, there is a clause granting a right of fir...</td>\n",
       "      <td>RIGHT OF FIRST REFUSAL; TAG-ALONG RIGHTS. Prio...</td>\n",
       "    </tr>\n",
       "    <tr>\n",
       "      <th>79</th>\n",
       "      <td>FuelcellEnergyInc_20191106_8-K_EX-10.1_1186800...</td>\n",
       "      <td>Is consent or notice required of a party if th...</td>\n",
       "      <td>Yes, according to the agreement, consent or no...</td>\n",
       "      <td>ARTICLE 14 - ASSIGNMENT 14.01 Assignment. The ...</td>\n",
       "    </tr>\n",
       "  </tbody>\n",
       "</table>\n",
       "<p>80 rows × 4 columns</p>\n",
       "</div>"
      ],
      "text/plain": [
       "                                                  doc  \\\n",
       "0   WOMENSGOLFUNLIMITEDINC_03_29_2000-EX-10.13-END...   \n",
       "1   OLDAPIWIND-DOWNLTD_01_08_2016-EX-1.3-AGENCY AG...   \n",
       "2   ZogenixInc_20190509_10-Q_EX-10.2_11663313_EX-1...   \n",
       "3   PlayboyEnterprisesInc_20090220_10-QA_EX-10.2_4...   \n",
       "4   SimplicityEsportsGamingCompany_20181130_8-K_EX...   \n",
       "..                                                ...   \n",
       "75  ZONDWINDSYSTEMPARTNERSLTDSERIES85-B_04_03_2006...   \n",
       "76  TUNIUCORP_03_06_2014-EX-10-COOPERATION AGREEME...   \n",
       "77  ZONDWINDSYSTEMPARTNERSLTDSERIES85-B_04_03_2006...   \n",
       "78  IGENEBIOTECHNOLOGYINC_05_13_2003-EX-1-JOINT VE...   \n",
       "79  FuelcellEnergyInc_20191106_8-K_EX-10.1_1186800...   \n",
       "\n",
       "                                             question  \\\n",
       "0   What is the notice period required to terminat...   \n",
       "1   Is there a clause granting one party an “enter...   \n",
       "2   Is there a requirement on a party not to dispa...   \n",
       "3   Does the contract contain a license granted by...   \n",
       "4            The date when the contract is effective    \n",
       "..                                                ...   \n",
       "75  Does one party have the right to terminate or ...   \n",
       "76  Is there a restriction on the ability of a par...   \n",
       "77  Is there a restriction on the ability of a par...   \n",
       "78  Is there a clause granting one party a right o...   \n",
       "79  Is consent or notice required of a party if th...   \n",
       "\n",
       "                                             response  \\\n",
       "0   According to Section 8.1 of the agreement, the...   \n",
       "1   No, there is no clause in the provided context...   \n",
       "2   No, there does not appear to be a specific req...   \n",
       "3   Yes, the contract contains multiple license gr...   \n",
       "4   According to the agreement, the Effective Date...   \n",
       "..                                                ...   \n",
       "75  Based on the context provided in the First Ame...   \n",
       "76  Based on the context provided in the Cooperati...   \n",
       "77  Based on the provided context, there does not ...   \n",
       "78  Yes, there is a clause granting a right of fir...   \n",
       "79  Yes, according to the agreement, consent or no...   \n",
       "\n",
       "                                             rel_sent  \n",
       "0            8.1 The Company may renew this Agreem...  \n",
       "1                                                      \n",
       "2   Confidentiality 8.1 Confidential Information 8...  \n",
       "3   License Grants    7.1. Playboy Content. During...  \n",
       "4   Exhibit 10.1 MASTER FRANCHISE AGREEMENT This M...  \n",
       "..                                                ...  \n",
       "75  Except as expressly modified by Section 1 of t...  \n",
       "76  (1) Nanjing Tuniu Technology Co., Ltd., with i...  \n",
       "77                                                     \n",
       "78  RIGHT OF FIRST REFUSAL; TAG-ALONG RIGHTS. Prio...  \n",
       "79  ARTICLE 14 - ASSIGNMENT 14.01 Assignment. The ...  \n",
       "\n",
       "[80 rows x 4 columns]"
      ]
     },
     "execution_count": 2,
     "metadata": {},
     "output_type": "execute_result"
    }
   ],
   "source": [
    "pd.read_pickle('cuad-df.pkl')"
   ]
  },
  {
   "cell_type": "code",
   "execution_count": null,
   "metadata": {},
   "outputs": [],
   "source": []
  }
 ],
 "metadata": {
  "kernelspec": {
   "display_name": "env",
   "language": "python",
   "name": "python3"
  },
  "language_info": {
   "codemirror_mode": {
    "name": "ipython",
    "version": 3
   },
   "file_extension": ".py",
   "mimetype": "text/x-python",
   "name": "python",
   "nbconvert_exporter": "python",
   "pygments_lexer": "ipython3",
   "version": "3.12.2"
  }
 },
 "nbformat": 4,
 "nbformat_minor": 2
}
