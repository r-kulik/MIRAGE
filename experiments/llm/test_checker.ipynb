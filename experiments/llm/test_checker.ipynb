{
 "cells": [
  {
   "cell_type": "code",
   "execution_count": 1,
   "id": "177ab511",
   "metadata": {},
   "outputs": [],
   "source": [
    "%load_ext autoreload\n",
    "%autoreload 2"
   ]
  },
  {
   "cell_type": "code",
   "execution_count": null,
   "id": "46b6b085",
   "metadata": {},
   "outputs": [],
   "source": [
    "import pandas as pd\n",
    "import json\n",
    "import os"
   ]
  },
  {
   "cell_type": "code",
   "execution_count": null,
   "id": "2a6a80b3",
   "metadata": {},
   "outputs": [],
   "source": [
    "# from LLMGroq import GroqLLM\n",
    "\n",
    "# question = df.iloc[0].question\n",
    "# ideal_answer = df.iloc[0].response\n",
    "# llm_answer = df.iloc[0].llm_answer\n",
    "# lang = 'ru'\n",
    "\n",
    "# llm = GroqLLM()\n",
    "\n",
    "# llm.reveal_correctness(question=question,\n",
    "#                        ideal_answer=ideal_answer,\n",
    "#                        llm_answer=llm_answer,\n",
    "#                        lang=lang)"
   ]
  },
  {
   "cell_type": "code",
   "execution_count": 1,
   "id": "728b4395",
   "metadata": {},
   "outputs": [],
   "source": [
    "import json\n",
    "import os\n",
    "import pandas as pd\n",
    "from tqdm import tqdm"
   ]
  },
  {
   "cell_type": "code",
   "execution_count": 22,
   "id": "27863990",
   "metadata": {},
   "outputs": [],
   "source": [
    "df  = pd.read_pickle(r\"E:\\\\fulltextsearch_with_ans.pkl\")"
   ]
  },
  {
   "cell_type": "code",
   "execution_count": null,
   "id": "5d620a8c",
   "metadata": {},
   "outputs": [
    {
     "name": "stdout",
     "output_type": "stream",
     "text": [
      "19200/19200 done\n",
      "100.0%\n"
     ]
    }
   ],
   "source": [
    "# dir = 'check_fulltext'\n",
    "# print(f'{len(os.listdir(dir))}/19200 done\\n{round(len(os.listdir(dir)) * 100 / 19200, 3) }%')"
   ]
  },
  {
   "cell_type": "code",
   "execution_count": 114,
   "id": "28572dae",
   "metadata": {},
   "outputs": [
    {
     "name": "stderr",
     "output_type": "stream",
     "text": [
      "100%|██████████| 19200/19200 [01:22<00:00, 231.49it/s]\n"
     ]
    }
   ],
   "source": [
    "js = []\n",
    "dir = 'check_fulltext'\n",
    "for i in tqdm(os.listdir(dir)):\n",
    "    with open(f'{dir}/{i}', 'r') as f:\n",
    "        j = json.load(f)\n",
    "        j['file_index'] = int(i.split('_')[0])\n",
    "        js.append(j)\n",
    "jdf = pd.DataFrame(js)"
   ]
  },
  {
   "cell_type": "code",
   "execution_count": 115,
   "id": "b95941d6",
   "metadata": {},
   "outputs": [],
   "source": [
    "jdf['completeness'] = jdf.apply(lambda x: x['completness'] if str(x['completness']) != 'nan' else x['completeness'], axis=1)\n",
    "jdf.drop('completness', axis=1, inplace=True)"
   ]
  },
  {
   "cell_type": "code",
   "execution_count": 116,
   "id": "91a9279f",
   "metadata": {},
   "outputs": [],
   "source": [
    "jdf = jdf.set_index('file_index')"
   ]
  },
  {
   "cell_type": "code",
   "execution_count": 99,
   "id": "4d49a79f",
   "metadata": {},
   "outputs": [],
   "source": [
    "# jdf = jdf.sort_values(by='file_index').reset_index(drop=True).reset_index(drop=True).drop('file_index', axis=1).rename(columns={\"generation_seconds\":\"generation_seconds_check\"})"
   ]
  },
  {
   "cell_type": "code",
   "execution_count": 117,
   "id": "52e99eba",
   "metadata": {},
   "outputs": [],
   "source": [
    "final = pd.concat([df, jdf], axis=1)"
   ]
  },
  {
   "cell_type": "code",
   "execution_count": 119,
   "id": "79789dae",
   "metadata": {},
   "outputs": [
    {
     "data": {
      "application/vnd.microsoft.datawrangler.viewer.v0+json": {
       "columns": [
        {
         "name": "('file', 'k1', 'c')",
         "rawType": "object",
         "type": "unknown"
        },
        {
         "name": "correctness",
         "rawType": "int64",
         "type": "integer"
        }
       ],
       "conversionMethod": "pd.DataFrame",
       "ref": "718788a0-494f-4f33-a577-497fb18d3c1d",
       "rows": [
        [
         "('S_16_0.5_BAAI', 1.5, 2)",
         "102"
        ],
        [
         "('S_16_0.5_BAAI', 1.5, 4)",
         "100"
        ],
        [
         "('S_16_0.5_BAAI', 1.0, 8)",
         "98"
        ],
        [
         "('W_256_0.25_BAAI', 1.0, 1)",
         "98"
        ],
        [
         "('S_16_0.5_BAAI', 1.0, 2)",
         "98"
        ],
        [
         "('S_16_0.5_BAAI', 1.0, 1)",
         "97"
        ],
        [
         "('W_256_0.25_BAAI', 1.2, 4)",
         "97"
        ],
        [
         "('W_256_0.25_BAAI', 1.2, 2)",
         "97"
        ],
        [
         "('S_8_0.5_DeepPavlov', 1.0, 1)",
         "97"
        ],
        [
         "('S_16_0.5_BAAI', 1.0, 4)",
         "97"
        ],
        [
         "('S_16_0.5_BAAI', 1.2, 2)",
         "96"
        ],
        [
         "('S_8_0.5_thenlper', 1.0, 4)",
         "96"
        ],
        [
         "('S_8_0.5_thenlper', 1.5, 2)",
         "96"
        ],
        [
         "('W_256_0.25_BAAI', 1.5, 8)",
         "95"
        ],
        [
         "('S_8_0.5_DeepPavlov', 1.5, 2)",
         "95"
        ],
        [
         "('S_16_0.5_BAAI', 1.2, 1)",
         "95"
        ],
        [
         "('W_256_0.25_BAAI', 1.0, 8)",
         "94"
        ],
        [
         "('S_16_0.5_BAAI', 1.5, 1)",
         "94"
        ],
        [
         "('S_8_0.5_DeepPavlov', 1.5, 4)",
         "93"
        ],
        [
         "('S_8_0.5_DeepPavlov', 1.5, 1)",
         "93"
        ],
        [
         "('W_256_0.25_BAAI', 1.5, 2)",
         "93"
        ],
        [
         "('W_256_0.25_intfloat', 1.2, 8)",
         "92"
        ],
        [
         "('S_16_0.5_BAAI', 1.2, 8)",
         "92"
        ],
        [
         "('S_8_0.5_DeepPavlov', 1.2, 2)",
         "91"
        ],
        [
         "('W_256_0.25_BAAI', 1.0, 2)",
         "91"
        ],
        [
         "('W_256_0.25_BAAI', 1.0, 4)",
         "91"
        ],
        [
         "('S_16_0.5_intfloat', 1.2, 2)",
         "91"
        ],
        [
         "('W_256_0.25_BAAI', 1.2, 1)",
         "91"
        ],
        [
         "('W_256_0.25_BAAI', 1.5, 4)",
         "91"
        ],
        [
         "('S_4_0.5_thenlper', 1.2, 2)",
         "91"
        ],
        [
         "('S_32_0.5_BAAI', 1.0, 2)",
         "90"
        ],
        [
         "('S_4_0.5_thenlper', 1.0, 4)",
         "90"
        ],
        [
         "('S_4_0.5_thenlper', 1.0, 8)",
         "90"
        ],
        [
         "('S_4_0.5_thenlper', 1.2, 1)",
         "90"
        ],
        [
         "('S_8_0.5_thenlper', 1.2, 8)",
         "90"
        ],
        [
         "('W_256_0.25_intfloat', 1.0, 2)",
         "90"
        ],
        [
         "('S_8_0.5_thenlper', 1.5, 4)",
         "90"
        ],
        [
         "('W_256_0.25_intfloat', 1.0, 4)",
         "90"
        ],
        [
         "('W_256_0.25_BAAI', 1.5, 1)",
         "90"
        ],
        [
         "('W_256_0.25_BAAI', 1.2, 8)",
         "90"
        ],
        [
         "('W_256_0.25_intfloat', 1.2, 4)",
         "90"
        ],
        [
         "('W_256_0.1_intfloat', 1.0, 8)",
         "90"
        ],
        [
         "('W_256_0.1_intfloat', 1.2, 4)",
         "89"
        ],
        [
         "('W_256_0.25_intfloat', 1.2, 2)",
         "89"
        ],
        [
         "('W_256_0.25_intfloat', 1.0, 1)",
         "88"
        ],
        [
         "('S_4_0.5_thenlper', 1.5, 4)",
         "88"
        ],
        [
         "('W_256_0.25_intfloat', 1.2, 1)",
         "88"
        ],
        [
         "('W_256_0.25_intfloat', 1.5, 4)",
         "88"
        ],
        [
         "('W_256_0.1_intfloat', 1.5, 1)",
         "88"
        ],
        [
         "('S_8_0.5_DeepPavlov', 1.5, 8)",
         "88"
        ]
       ],
       "shape": {
        "columns": 1,
        "rows": 120
       }
      },
      "text/html": [
       "<div>\n",
       "<style scoped>\n",
       "    .dataframe tbody tr th:only-of-type {\n",
       "        vertical-align: middle;\n",
       "    }\n",
       "\n",
       "    .dataframe tbody tr th {\n",
       "        vertical-align: top;\n",
       "    }\n",
       "\n",
       "    .dataframe thead th {\n",
       "        text-align: right;\n",
       "    }\n",
       "</style>\n",
       "<table border=\"1\" class=\"dataframe\">\n",
       "  <thead>\n",
       "    <tr style=\"text-align: right;\">\n",
       "      <th></th>\n",
       "      <th></th>\n",
       "      <th></th>\n",
       "      <th>correctness</th>\n",
       "    </tr>\n",
       "    <tr>\n",
       "      <th>file</th>\n",
       "      <th>k1</th>\n",
       "      <th>c</th>\n",
       "      <th></th>\n",
       "    </tr>\n",
       "  </thead>\n",
       "  <tbody>\n",
       "    <tr>\n",
       "      <th rowspan=\"3\" valign=\"top\">S_16_0.5_BAAI</th>\n",
       "      <th rowspan=\"2\" valign=\"top\">1.5</th>\n",
       "      <th>2</th>\n",
       "      <td>102</td>\n",
       "    </tr>\n",
       "    <tr>\n",
       "      <th>4</th>\n",
       "      <td>100</td>\n",
       "    </tr>\n",
       "    <tr>\n",
       "      <th>1.0</th>\n",
       "      <th>8</th>\n",
       "      <td>98</td>\n",
       "    </tr>\n",
       "    <tr>\n",
       "      <th>W_256_0.25_BAAI</th>\n",
       "      <th>1.0</th>\n",
       "      <th>1</th>\n",
       "      <td>98</td>\n",
       "    </tr>\n",
       "    <tr>\n",
       "      <th>S_16_0.5_BAAI</th>\n",
       "      <th>1.0</th>\n",
       "      <th>2</th>\n",
       "      <td>98</td>\n",
       "    </tr>\n",
       "    <tr>\n",
       "      <th>...</th>\n",
       "      <th>...</th>\n",
       "      <th>...</th>\n",
       "      <td>...</td>\n",
       "    </tr>\n",
       "    <tr>\n",
       "      <th rowspan=\"3\" valign=\"top\">S_16_0.5_DeepPavlov</th>\n",
       "      <th>1.5</th>\n",
       "      <th>8</th>\n",
       "      <td>79</td>\n",
       "    </tr>\n",
       "    <tr>\n",
       "      <th rowspan=\"2\" valign=\"top\">1.0</th>\n",
       "      <th>2</th>\n",
       "      <td>78</td>\n",
       "    </tr>\n",
       "    <tr>\n",
       "      <th>8</th>\n",
       "      <td>77</td>\n",
       "    </tr>\n",
       "    <tr>\n",
       "      <th>S_8_0.5_DeepPavlov</th>\n",
       "      <th>1.0</th>\n",
       "      <th>8</th>\n",
       "      <td>76</td>\n",
       "    </tr>\n",
       "    <tr>\n",
       "      <th>S_8_0.5_thenlper</th>\n",
       "      <th>1.0</th>\n",
       "      <th>2</th>\n",
       "      <td>75</td>\n",
       "    </tr>\n",
       "  </tbody>\n",
       "</table>\n",
       "<p>120 rows × 1 columns</p>\n",
       "</div>"
      ],
      "text/plain": [
       "                           correctness\n",
       "file                k1  c             \n",
       "S_16_0.5_BAAI       1.5 2          102\n",
       "                        4          100\n",
       "                    1.0 8           98\n",
       "W_256_0.25_BAAI     1.0 1           98\n",
       "S_16_0.5_BAAI       1.0 2           98\n",
       "...                                ...\n",
       "S_16_0.5_DeepPavlov 1.5 8           79\n",
       "                    1.0 2           78\n",
       "                        8           77\n",
       "S_8_0.5_DeepPavlov  1.0 8           76\n",
       "S_8_0.5_thenlper    1.0 2           75\n",
       "\n",
       "[120 rows x 1 columns]"
      ]
     },
     "execution_count": 119,
     "metadata": {},
     "output_type": "execute_result"
    }
   ],
   "source": [
    "pd.DataFrame(final.groupby(['file', 'k1', 'c'])['correctness'].sum()).sort_values(by='correctness', ascending=False)"
   ]
  },
  {
   "cell_type": "code",
   "execution_count": 121,
   "id": "ea24b7d3",
   "metadata": {},
   "outputs": [],
   "source": [
    "final.to_pickle(r'E:/fulltext_checked.pkl')"
   ]
  },
  {
   "cell_type": "code",
   "execution_count": null,
   "id": "b508f753",
   "metadata": {},
   "outputs": [],
   "source": [
    "# final.to_pickle(r'E:/final_final.pkl')"
   ]
  },
  {
   "cell_type": "code",
   "execution_count": null,
   "id": "5b9af8e9",
   "metadata": {},
   "outputs": [],
   "source": []
  }
 ],
 "metadata": {
  "kernelspec": {
   "display_name": "env",
   "language": "python",
   "name": "python3"
  },
  "language_info": {
   "codemirror_mode": {
    "name": "ipython",
    "version": 3
   },
   "file_extension": ".py",
   "mimetype": "text/x-python",
   "name": "python",
   "nbconvert_exporter": "python",
   "pygments_lexer": "ipython3",
   "version": "3.12.0"
  }
 },
 "nbformat": 4,
 "nbformat_minor": 5
}
