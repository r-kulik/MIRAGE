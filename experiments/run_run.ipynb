{
 "cells": [
  {
   "cell_type": "code",
   "execution_count": 1,
   "id": "935e1173",
   "metadata": {},
   "outputs": [],
   "source": [
    "%load_ext autoreload\n",
    "%autoreload 2"
   ]
  },
  {
   "cell_type": "code",
   "execution_count": 2,
   "id": "c663b26a",
   "metadata": {},
   "outputs": [],
   "source": [
    "from mirage import MirageIndex\n",
    "from mirage.MIRAGE import MIRAGE\n",
    "from mirage.embedders.HuggingFaceEmbedder import HuggingFaceEmbedder\n",
    "from mirage.inference.MirageInfefrence import MirageInference\n",
    "from mirage.inference.quorums import RusVectoresQuorum\n",
    "from mirage.inference.rerankers.ReciprocalRankFusionReranker import ReciprocalRankFusionReranker\n",
    "import os\n",
    "import pandas as pd\n",
    "from tqdm import tqdm"
   ]
  },
  {
   "cell_type": "code",
   "execution_count": 3,
   "id": "7cd7fe61",
   "metadata": {},
   "outputs": [],
   "source": [
    "path = 'E:/indexes2'\n",
    "files = [fr'{path}/{i}' for i in os.listdir(path)]"
   ]
  },
  {
   "cell_type": "code",
   "execution_count": 4,
   "id": "65750df6",
   "metadata": {},
   "outputs": [
    {
     "name": "stderr",
     "output_type": "stream",
     "text": [
      "No sentence-transformers model found with name DeepPavlov/rubert-base-cased-sentence. Creating a new one with mean pooling.\n"
     ]
    }
   ],
   "source": [
    "embedder = {\n",
    "    'BAAI': HuggingFaceEmbedder(model_name='BAAI/bge-m3'),\n",
    "    'DeepPavlov': HuggingFaceEmbedder(model_name='DeepPavlov/rubert-base-cased-sentence'),\n",
    "    'intfloat': HuggingFaceEmbedder(model_name='intfloat/e5-small-v2'),\n",
    "    'thenlper': HuggingFaceEmbedder(model_name='thenlper/gte-base')\n",
    "}"
   ]
  },
  {
   "cell_type": "code",
   "execution_count": 5,
   "id": "6badaeb3",
   "metadata": {},
   "outputs": [],
   "source": [
    "rerancer = ReciprocalRankFusionReranker()"
   ]
  },
  {
   "cell_type": "code",
   "execution_count": null,
   "id": "bbd4ee16",
   "metadata": {},
   "outputs": [],
   "source": []
  },
  {
   "cell_type": "code",
   "execution_count": 6,
   "id": "75aa698e",
   "metadata": {},
   "outputs": [],
   "source": [
    "df = pd.read_pickle('cuad-df.pkl')"
   ]
  },
  {
   "cell_type": "code",
   "execution_count": 7,
   "id": "31785ffc",
   "metadata": {},
   "outputs": [],
   "source": [
    "dict_file = []\n",
    "dict_idx = []\n",
    "dict_text = []"
   ]
  },
  {
   "cell_type": "code",
   "execution_count": 8,
   "id": "65d4e523",
   "metadata": {},
   "outputs": [
    {
     "name": "stderr",
     "output_type": "stream",
     "text": [
      "100%|██████████| 19200/19200 [1:03:59<00:00,  5.75it/s]"
     ]
    }
   ],
   "source": [
    "progress_bar = tqdm(total = df.shape[0] * len(files))\n",
    "for file in files:\n",
    "    mirage_index = MirageIndex.load(file)\n",
    "    quorum  = RusVectoresQuorum(chunk_storage=mirage_index.chunk_storage, path_to_model='model.bin', visualize=False,max_entries=50 )\n",
    "    for idx, q in enumerate(df['question'].to_list()):\n",
    "        full_text = quorum.query(q)\n",
    "        semantic = mirage_index.vector_index.query(embedder[file.split('_')[4]].embed(q), top_k=50)\n",
    "        texts = rerancer(fulltext_search_results = full_text, vector_search_results = semantic)[:10]\n",
    "        progress_bar.update()\n",
    "        dict_file.append(file)\n",
    "        dict_idx.append(idx)\n",
    "        dict_text.append(mirage_index.chunk_storage.get_texts_for_search_results(texts))"
   ]
  },
  {
   "cell_type": "code",
   "execution_count": 9,
   "id": "3342f554",
   "metadata": {},
   "outputs": [],
   "source": [
    "new = pd.DataFrame([dict_file, dict_idx, dict_text]).transpose()\n",
    "new.columns = ['file', 'question', 'texts']"
   ]
  },
  {
   "cell_type": "code",
   "execution_count": 10,
   "id": "7c7220ce",
   "metadata": {},
   "outputs": [],
   "source": [
    "new.to_pickle('E:/results/bench2.pkl')"
   ]
  },
  {
   "cell_type": "code",
   "execution_count": 11,
   "id": "cede0268",
   "metadata": {},
   "outputs": [],
   "source": [
    "# mirage_index.chunk_storage.get_texts_for_search_results(texts)\n",
    "# [mirage_index.chunk_storage.get_raw_index_of_document(result.chunk_storage_key) for result in texts]"
   ]
  },
  {
   "cell_type": "code",
   "execution_count": null,
   "id": "7c4b2e55",
   "metadata": {},
   "outputs": [],
   "source": []
  }
 ],
 "metadata": {
  "kernelspec": {
   "display_name": "env",
   "language": "python",
   "name": "python3"
  },
  "language_info": {
   "codemirror_mode": {
    "name": "ipython",
    "version": 3
   },
   "file_extension": ".py",
   "mimetype": "text/x-python",
   "name": "python",
   "nbconvert_exporter": "python",
   "pygments_lexer": "ipython3",
   "version": "3.12.0"
  }
 },
 "nbformat": 4,
 "nbformat_minor": 5
}
