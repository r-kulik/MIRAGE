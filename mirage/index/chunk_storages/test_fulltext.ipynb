{
 "cells": [
  {
   "cell_type": "code",
   "execution_count": 1,
   "metadata": {},
   "outputs": [],
   "source": [
    "%load_ext autoreload\n",
    "%autoreload 2\n"
   ]
  },
  {
   "cell_type": "code",
   "execution_count": 2,
   "metadata": {},
   "outputs": [],
   "source": [
    "\n",
    "import whoosh\n"
   ]
  },
  {
   "cell_type": "code",
   "execution_count": 3,
   "metadata": {},
   "outputs": [
    {
     "name": "stderr",
     "output_type": "stream",
     "text": [
      "c:\\Users\\Bulkin\\MIRAGE\\env\\Lib\\site-packages\\tqdm\\auto.py:21: TqdmWarning: IProgress not found. Please update jupyter and ipywidgets. See https://ipywidgets.readthedocs.io/en/stable/user_install.html\n",
      "  from .autonotebook import tqdm as notebook_tqdm\n"
     ]
    }
   ],
   "source": [
    "from mirage import WhooshChunkStorage\n",
    "\n",
    "storage = WhooshChunkStorage(scoring_function=\"BM25\", normalizer=True)\n"
   ]
  },
  {
   "cell_type": "code",
   "execution_count": 4,
   "metadata": {},
   "outputs": [],
   "source": [
    "\n",
    "# Добавление чанков\n",
    "doc1_index = \"doc_1\"\n",
    "chunk1_text = \"The quick brown fox jumps over the lazy dog\"\n",
    "chunk1_id = storage.add_chunk(chunk1_text, doc1_index)\n"
   ]
  },
  {
   "cell_type": "code",
   "execution_count": 5,
   "metadata": {},
   "outputs": [],
   "source": [
    "\n",
    "doc2_index = \"doc_2\"\n",
    "chunk2_text = \"A quick brown dog outpaces a fast fox\"\n",
    "chunk2_id = storage.add_chunk(chunk2_text, doc2_index)\n"
   ]
  },
  {
   "cell_type": "code",
   "execution_count": 6,
   "metadata": {},
   "outputs": [],
   "source": [
    "\n",
    "\n",
    "# Проверка методов\n",
    "assert chunk1_id in storage.get_indexes()\n",
    "assert chunk2_id in storage.get_indexes()\n",
    "assert storage[chunk1_id] == chunk1_text\n",
    "assert storage.get_raw_index_of_document(chunk1_id) == doc1_index\n"
   ]
  },
  {
   "cell_type": "code",
   "execution_count": 7,
   "metadata": {},
   "outputs": [
    {
     "name": "stdout",
     "output_type": "stream",
     "text": [
      "4041eee6-751a-46ae-b927-ea334799e0d9\n"
     ]
    },
    {
     "data": {
      "text/plain": [
       "'doc_1'"
      ]
     },
     "execution_count": 7,
     "metadata": {},
     "output_type": "execute_result"
    }
   ],
   "source": [
    "search_index = storage.get_indexes()[0]\n",
    "print(search_index)\n",
    "storage.get_raw_index_of_document(search_index)"
   ]
  },
  {
   "cell_type": "code",
   "execution_count": 8,
   "metadata": {},
   "outputs": [],
   "source": [
    "\n",
    "\n",
    "# Проверка итератора\n",
    "chunks = list(storage)\n",
    "assert len(chunks) == 2\n",
    "assert (chunk1_id, chunk1_text) in chunks\n",
    "assert (chunk2_id, chunk2_text) in chunks\n"
   ]
  },
  {
   "cell_type": "code",
   "execution_count": 9,
   "metadata": {},
   "outputs": [
    {
     "name": "stdout",
     "output_type": "stream",
     "text": [
      "4041eee6-751a-46ae-b927-ea334799e0d9 A quick brown dog outpaces a fast fox\n",
      "8614252c-0bc5-4dc7-b5ed-cfd1bcdae485 A quick brown dog outpaces a fast fox\n"
     ]
    }
   ],
   "source": [
    "for chunk_id, chunk_text in storage:\n",
    "    print(chunk_id, chunk2_text)"
   ]
  },
  {
   "cell_type": "code",
   "execution_count": 10,
   "metadata": {},
   "outputs": [],
   "source": [
    "\n",
    "# Проверка поиска\n",
    "results = storage.query(\"quick dog\")\n",
    "assert len(results) >= 1\n",
    "texts = [note.text for note in results]\n",
    "assert chunk1_text in texts\n",
    "assert chunk2_text in texts\n",
    "\n",
    "storage.clear()\n",
    "assert len(storage.get_indexes()) == 0\n"
   ]
  },
  {
   "cell_type": "code",
   "execution_count": 11,
   "metadata": {},
   "outputs": [
    {
     "data": {
      "text/plain": [
       "'2eefc5e7-d92a-4e66-b691-cc5a3bdfe10a'"
      ]
     },
     "execution_count": 11,
     "metadata": {},
     "output_type": "execute_result"
    }
   ],
   "source": [
    "storage.add_chunk(\n",
    "    \"Пить просто водку, даже из горлышка, – в этом нет ничего, кроме томления духа и суеты. Смешать водку с одеколоном – в этом есть известный каприз, но нет никакого пафоса. А вот выпить стакан «Ханаанского бальзама» – в этом есть и каприз, и идея, и пафос, и сверх того еще метафизический намек.\",\n",
    "    doc2_index\n",
    ")"
   ]
  },
  {
   "cell_type": "code",
   "execution_count": 16,
   "metadata": {},
   "outputs": [
    {
     "data": {
      "text/plain": [
       "'пит прост водк горлышк кром томлен дух сует смеша водк одеколон известн каприз никак пафос вып стака ханаанск бальзам каприз иде пафос сверх метафизическ намек'"
      ]
     },
     "execution_count": 16,
     "metadata": {},
     "output_type": "execute_result"
    }
   ],
   "source": [
    "index = storage.get_indexes()[0]\n",
    "storage.get_normalized_text(index)"
   ]
  },
  {
   "cell_type": "code",
   "execution_count": 20,
   "metadata": {},
   "outputs": [
    {
     "data": {
      "text/plain": [
       "'doc_2'"
      ]
     },
     "execution_count": 20,
     "metadata": {},
     "output_type": "execute_result"
    }
   ],
   "source": [
    "storage.query('водка')[0].raw_document_index"
   ]
  }
 ],
 "metadata": {
  "kernelspec": {
   "display_name": "env",
   "language": "python",
   "name": "python3"
  },
  "language_info": {
   "codemirror_mode": {
    "name": "ipython",
    "version": 3
   },
   "file_extension": ".py",
   "mimetype": "text/x-python",
   "name": "python",
   "nbconvert_exporter": "python",
   "pygments_lexer": "ipython3",
   "version": "3.11.5"
  }
 },
 "nbformat": 4,
 "nbformat_minor": 2
}
