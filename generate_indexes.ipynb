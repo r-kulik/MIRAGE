{
 "cells": [
  {
   "cell_type": "code",
   "execution_count": 1,
   "id": "b21d670c",
   "metadata": {},
   "outputs": [],
   "source": [
    "%load_ext autoreload\n",
    "%autoreload 2"
   ]
  },
  {
   "cell_type": "code",
   "execution_count": 2,
   "id": "cc85c287",
   "metadata": {},
   "outputs": [],
   "source": [
    "import json\n",
    "\n",
    "\n",
    "with open('test_combinations.json', 'r', encoding='utf-8') as file:\n",
    "    combinations = json.loads(file.read())"
   ]
  },
  {
   "cell_type": "code",
   "execution_count": 3,
   "id": "460b79ad",
   "metadata": {},
   "outputs": [],
   "source": [
    "START_COMBINATION = 0\n",
    "END_COMBINATION = 10"
   ]
  },
  {
   "cell_type": "code",
   "execution_count": null,
   "id": "9ceba26a",
   "metadata": {},
   "outputs": [
    {
     "name": "stderr",
     "output_type": "stream",
     "text": [
      "\u001b[32m2025-04-27 23:35:54.647\u001b[0m | \u001b[1mINFO    \u001b[0m | \u001b[36m__main__\u001b[0m:\u001b[36mgenerate_index\u001b[0m:\u001b[36m34\u001b[0m - \u001b[1m{'ChunkingAlgorithm': {'method': 'WordCountingChunkingAlgorithm', 'params': {'words_amount': 128, 'overlap': 0.1}}, 'Embedder': {'method': 'HuggingFaceEmbedder', 'params': {'model': 'intfloat/e5-small-v2'}}}\u001b[0m\n",
      "\u001b[32m2025-04-27 23:35:58.379\u001b[0m | \u001b[1mINFO    \u001b[0m | \u001b[36mmirage.index.chunking_algorithms.WordCountingChunkingAlgorithm\u001b[0m:\u001b[36mchunk_a_document\u001b[0m:\u001b[36m28\u001b[0m - \u001b[1mReading a document... Приказ Росавиации от 28.12.2022 N 970-П  Об утверждении Норм.txt\u001b[0m\n",
      "\u001b[32m2025-04-27 23:36:04.142\u001b[0m | \u001b[1mINFO    \u001b[0m | \u001b[36mmirage.index.chunking_algorithms.WordCountingChunkingAlgorithm\u001b[0m:\u001b[36mchunk_a_document\u001b[0m:\u001b[36m28\u001b[0m - \u001b[1mReading a document... Приказ_Минтранса_РФ_от_21_11_2005_N_139_ред_от_17_09_2010.rtf.txt\u001b[0m\n",
      "\u001b[32m2025-04-27 23:36:04.874\u001b[0m | \u001b[1mINFO    \u001b[0m | \u001b[36mmirage.index.chunking_algorithms.WordCountingChunkingAlgorithm\u001b[0m:\u001b[36mchunk_a_document\u001b[0m:\u001b[36m28\u001b[0m - \u001b[1mReading a document... ФАП-10.txt\u001b[0m\n",
      "\u001b[32m2025-04-27 23:36:07.429\u001b[0m | \u001b[1mINFO    \u001b[0m | \u001b[36mmirage.index.chunking_algorithms.WordCountingChunkingAlgorithm\u001b[0m:\u001b[36mchunk_a_document\u001b[0m:\u001b[36m28\u001b[0m - \u001b[1mReading a document... ФАП-109.txt\u001b[0m\n",
      "\u001b[32m2025-04-27 23:36:07.964\u001b[0m | \u001b[1mINFO    \u001b[0m | \u001b[36mmirage.index.chunking_algorithms.WordCountingChunkingAlgorithm\u001b[0m:\u001b[36mchunk_a_document\u001b[0m:\u001b[36m28\u001b[0m - \u001b[1mReading a document... ФАП-128.txt\u001b[0m\n",
      "\u001b[32m2025-04-27 23:36:13.904\u001b[0m | \u001b[1mINFO    \u001b[0m | \u001b[36mmirage.index.chunking_algorithms.WordCountingChunkingAlgorithm\u001b[0m:\u001b[36mchunk_a_document\u001b[0m:\u001b[36m28\u001b[0m - \u001b[1mReading a document... ФАП-138.txt\u001b[0m\n",
      "\u001b[32m2025-04-27 23:36:15.591\u001b[0m | \u001b[1mINFO    \u001b[0m | \u001b[36mmirage.index.chunking_algorithms.WordCountingChunkingAlgorithm\u001b[0m:\u001b[36mchunk_a_document\u001b[0m:\u001b[36m28\u001b[0m - \u001b[1mReading a document... ФАП-139.txt\u001b[0m\n",
      "\u001b[32m2025-04-27 23:36:16.378\u001b[0m | \u001b[1mINFO    \u001b[0m | \u001b[36mmirage.index.chunking_algorithms.WordCountingChunkingAlgorithm\u001b[0m:\u001b[36mchunk_a_document\u001b[0m:\u001b[36m28\u001b[0m - \u001b[1mReading a document... ФАП-141.txt\u001b[0m\n",
      "\u001b[32m2025-04-27 23:36:17.050\u001b[0m | \u001b[1mINFO    \u001b[0m | \u001b[36mmirage.index.chunking_algorithms.WordCountingChunkingAlgorithm\u001b[0m:\u001b[36mchunk_a_document\u001b[0m:\u001b[36m28\u001b[0m - \u001b[1mReading a document... ФАП-147 АОН.txt\u001b[0m\n",
      "\u001b[32m2025-04-27 23:36:17.497\u001b[0m | \u001b[1mINFO    \u001b[0m | \u001b[36mmirage.index.chunking_algorithms.WordCountingChunkingAlgorithm\u001b[0m:\u001b[36mchunk_a_document\u001b[0m:\u001b[36m28\u001b[0m - \u001b[1mReading a document... ФАП-147.txt\u001b[0m\n",
      "\u001b[32m2025-04-27 23:36:20.779\u001b[0m | \u001b[1mINFO    \u001b[0m | \u001b[36mmirage.index.chunking_algorithms.WordCountingChunkingAlgorithm\u001b[0m:\u001b[36mchunk_a_document\u001b[0m:\u001b[36m28\u001b[0m - \u001b[1mReading a document... ФАП-273.txt\u001b[0m\n",
      "\u001b[32m2025-04-27 23:36:21.922\u001b[0m | \u001b[1mINFO    \u001b[0m | \u001b[36mmirage.index.chunking_algorithms.WordCountingChunkingAlgorithm\u001b[0m:\u001b[36mchunk_a_document\u001b[0m:\u001b[36m28\u001b[0m - \u001b[1mReading a document... ФАП-29.txt\u001b[0m\n",
      "\u001b[32m2025-04-27 23:36:22.097\u001b[0m | \u001b[1mINFO    \u001b[0m | \u001b[36mmirage.index.chunking_algorithms.WordCountingChunkingAlgorithm\u001b[0m:\u001b[36mchunk_a_document\u001b[0m:\u001b[36m28\u001b[0m - \u001b[1mReading a document... ФАП-293.txt\u001b[0m\n",
      "\u001b[32m2025-04-27 23:36:29.203\u001b[0m | \u001b[1mINFO    \u001b[0m | \u001b[36mmirage.index.chunking_algorithms.WordCountingChunkingAlgorithm\u001b[0m:\u001b[36mchunk_a_document\u001b[0m:\u001b[36m28\u001b[0m - \u001b[1mReading a document... ФАП-32.txt\u001b[0m\n",
      "\u001b[32m2025-04-27 23:36:30.519\u001b[0m | \u001b[1mINFO    \u001b[0m | \u001b[36mmirage.index.chunking_algorithms.WordCountingChunkingAlgorithm\u001b[0m:\u001b[36mchunk_a_document\u001b[0m:\u001b[36m28\u001b[0m - \u001b[1mReading a document... ФАП-437.txt\u001b[0m\n",
      "\u001b[32m2025-04-27 23:36:44.712\u001b[0m | \u001b[1mINFO    \u001b[0m | \u001b[36mmirage.index.chunking_algorithms.WordCountingChunkingAlgorithm\u001b[0m:\u001b[36mchunk_a_document\u001b[0m:\u001b[36m28\u001b[0m - \u001b[1mReading a document... ФАП-519.txt\u001b[0m\n",
      "\u001b[32m2025-04-27 23:36:46.414\u001b[0m | \u001b[1mINFO    \u001b[0m | \u001b[36mmirage.index.chunking_algorithms.WordCountingChunkingAlgorithm\u001b[0m:\u001b[36mchunk_a_document\u001b[0m:\u001b[36m28\u001b[0m - \u001b[1mReading a document... ФАП-82.txt\u001b[0m\n",
      "\u001b[32m2025-04-27 23:36:50.101\u001b[0m | \u001b[1mINFO    \u001b[0m | \u001b[36mmirage.embedders.Embedder\u001b[0m:\u001b[36mconvert_chunks_to_vector_index\u001b[0m:\u001b[36m147\u001b[0m - \u001b[1mConverting ChunkStorage to VectorIndex\u001b[0m\n",
      "100%|██████████| 2620/2620 [03:48<00:00, 11.49it/s]\n",
      "\u001b[32m2025-04-27 23:40:38.457\u001b[0m | \u001b[1mINFO    \u001b[0m | \u001b[36m__main__\u001b[0m:\u001b[36mgenerate_index\u001b[0m:\u001b[36m56\u001b[0m - \u001b[1mCopy of index time: 0.22657418251037598s.\u001b[0m\n",
      "\u001b[32m2025-04-27 23:40:38.458\u001b[0m | \u001b[1mINFO    \u001b[0m | \u001b[36mmirage.index.MirageIndex\u001b[0m:\u001b[36msave\u001b[0m:\u001b[36m32\u001b[0m - \u001b[1mSaving Mirage index to indexes\\W_128_0.1_intfloat_l2.mirage_index...\u001b[0m\n",
      "\u001b[32m2025-04-27 23:40:43.530\u001b[0m | \u001b[1mINFO    \u001b[0m | \u001b[36mmirage.index.MirageIndex\u001b[0m:\u001b[36msave\u001b[0m:\u001b[36m78\u001b[0m - \u001b[1mMirage index saved to indexes\\W_128_0.1_intfloat_l2.mirage_index.\u001b[0m\n",
      "\u001b[32m2025-04-27 23:40:43.530\u001b[0m | \u001b[1mINFO    \u001b[0m | \u001b[36mmirage.index.MirageIndex\u001b[0m:\u001b[36msave\u001b[0m:\u001b[36m32\u001b[0m - \u001b[1mSaving Mirage index to indexes\\W_128_0.1_intfloat_ip.mirage_index...\u001b[0m\n",
      "\u001b[32m2025-04-27 23:40:48.533\u001b[0m | \u001b[1mINFO    \u001b[0m | \u001b[36mmirage.index.MirageIndex\u001b[0m:\u001b[36msave\u001b[0m:\u001b[36m78\u001b[0m - \u001b[1mMirage index saved to indexes\\W_128_0.1_intfloat_ip.mirage_index.\u001b[0m\n",
      "\u001b[32m2025-04-27 23:40:48.554\u001b[0m | \u001b[1mINFO    \u001b[0m | \u001b[36m__main__\u001b[0m:\u001b[36mgenerate_index\u001b[0m:\u001b[36m34\u001b[0m - \u001b[1m{'ChunkingAlgorithm': {'method': 'WordCountingChunkingAlgorithm', 'params': {'words_amount': 128, 'overlap': 0.1}}, 'Embedder': {'method': 'HuggingFaceEmbedder', 'params': {'model': 'BAAI/bge-m3'}}}\u001b[0m\n",
      "\u001b[32m2025-04-27 23:40:52.713\u001b[0m | \u001b[1mINFO    \u001b[0m | \u001b[36mmirage.index.chunking_algorithms.WordCountingChunkingAlgorithm\u001b[0m:\u001b[36mchunk_a_document\u001b[0m:\u001b[36m28\u001b[0m - \u001b[1mReading a document... Приказ Росавиации от 28.12.2022 N 970-П  Об утверждении Норм.txt\u001b[0m\n",
      "\u001b[32m2025-04-27 23:40:58.789\u001b[0m | \u001b[1mINFO    \u001b[0m | \u001b[36mmirage.index.chunking_algorithms.WordCountingChunkingAlgorithm\u001b[0m:\u001b[36mchunk_a_document\u001b[0m:\u001b[36m28\u001b[0m - \u001b[1mReading a document... Приказ_Минтранса_РФ_от_21_11_2005_N_139_ред_от_17_09_2010.rtf.txt\u001b[0m\n",
      "\u001b[32m2025-04-27 23:40:59.584\u001b[0m | \u001b[1mINFO    \u001b[0m | \u001b[36mmirage.index.chunking_algorithms.WordCountingChunkingAlgorithm\u001b[0m:\u001b[36mchunk_a_document\u001b[0m:\u001b[36m28\u001b[0m - \u001b[1mReading a document... ФАП-10.txt\u001b[0m\n",
      "\u001b[32m2025-04-27 23:41:02.424\u001b[0m | \u001b[1mINFO    \u001b[0m | \u001b[36mmirage.index.chunking_algorithms.WordCountingChunkingAlgorithm\u001b[0m:\u001b[36mchunk_a_document\u001b[0m:\u001b[36m28\u001b[0m - \u001b[1mReading a document... ФАП-109.txt\u001b[0m\n",
      "\u001b[32m2025-04-27 23:41:03.001\u001b[0m | \u001b[1mINFO    \u001b[0m | \u001b[36mmirage.index.chunking_algorithms.WordCountingChunkingAlgorithm\u001b[0m:\u001b[36mchunk_a_document\u001b[0m:\u001b[36m28\u001b[0m - \u001b[1mReading a document... ФАП-128.txt\u001b[0m\n",
      "\u001b[32m2025-04-27 23:41:09.300\u001b[0m | \u001b[1mINFO    \u001b[0m | \u001b[36mmirage.index.chunking_algorithms.WordCountingChunkingAlgorithm\u001b[0m:\u001b[36mchunk_a_document\u001b[0m:\u001b[36m28\u001b[0m - \u001b[1mReading a document... ФАП-138.txt\u001b[0m\n",
      "\u001b[32m2025-04-27 23:41:11.082\u001b[0m | \u001b[1mINFO    \u001b[0m | \u001b[36mmirage.index.chunking_algorithms.WordCountingChunkingAlgorithm\u001b[0m:\u001b[36mchunk_a_document\u001b[0m:\u001b[36m28\u001b[0m - \u001b[1mReading a document... ФАП-139.txt\u001b[0m\n",
      "\u001b[32m2025-04-27 23:41:11.936\u001b[0m | \u001b[1mINFO    \u001b[0m | \u001b[36mmirage.index.chunking_algorithms.WordCountingChunkingAlgorithm\u001b[0m:\u001b[36mchunk_a_document\u001b[0m:\u001b[36m28\u001b[0m - \u001b[1mReading a document... ФАП-141.txt\u001b[0m\n",
      "\u001b[32m2025-04-27 23:41:12.677\u001b[0m | \u001b[1mINFO    \u001b[0m | \u001b[36mmirage.index.chunking_algorithms.WordCountingChunkingAlgorithm\u001b[0m:\u001b[36mchunk_a_document\u001b[0m:\u001b[36m28\u001b[0m - \u001b[1mReading a document... ФАП-147 АОН.txt\u001b[0m\n",
      "\u001b[32m2025-04-27 23:41:13.152\u001b[0m | \u001b[1mINFO    \u001b[0m | \u001b[36mmirage.index.chunking_algorithms.WordCountingChunkingAlgorithm\u001b[0m:\u001b[36mchunk_a_document\u001b[0m:\u001b[36m28\u001b[0m - \u001b[1mReading a document... ФАП-147.txt\u001b[0m\n",
      "\u001b[32m2025-04-27 23:41:16.562\u001b[0m | \u001b[1mINFO    \u001b[0m | \u001b[36mmirage.index.chunking_algorithms.WordCountingChunkingAlgorithm\u001b[0m:\u001b[36mchunk_a_document\u001b[0m:\u001b[36m28\u001b[0m - \u001b[1mReading a document... ФАП-273.txt\u001b[0m\n",
      "\u001b[32m2025-04-27 23:41:17.773\u001b[0m | \u001b[1mINFO    \u001b[0m | \u001b[36mmirage.index.chunking_algorithms.WordCountingChunkingAlgorithm\u001b[0m:\u001b[36mchunk_a_document\u001b[0m:\u001b[36m28\u001b[0m - \u001b[1mReading a document... ФАП-29.txt\u001b[0m\n",
      "\u001b[32m2025-04-27 23:41:17.961\u001b[0m | \u001b[1mINFO    \u001b[0m | \u001b[36mmirage.index.chunking_algorithms.WordCountingChunkingAlgorithm\u001b[0m:\u001b[36mchunk_a_document\u001b[0m:\u001b[36m28\u001b[0m - \u001b[1mReading a document... ФАП-293.txt\u001b[0m\n",
      "\u001b[32m2025-04-27 23:41:25.371\u001b[0m | \u001b[1mINFO    \u001b[0m | \u001b[36mmirage.index.chunking_algorithms.WordCountingChunkingAlgorithm\u001b[0m:\u001b[36mchunk_a_document\u001b[0m:\u001b[36m28\u001b[0m - \u001b[1mReading a document... ФАП-32.txt\u001b[0m\n",
      "\u001b[32m2025-04-27 23:41:26.765\u001b[0m | \u001b[1mINFO    \u001b[0m | \u001b[36mmirage.index.chunking_algorithms.WordCountingChunkingAlgorithm\u001b[0m:\u001b[36mchunk_a_document\u001b[0m:\u001b[36m28\u001b[0m - \u001b[1mReading a document... ФАП-437.txt\u001b[0m\n",
      "\u001b[32m2025-04-27 23:41:41.871\u001b[0m | \u001b[1mINFO    \u001b[0m | \u001b[36mmirage.index.chunking_algorithms.WordCountingChunkingAlgorithm\u001b[0m:\u001b[36mchunk_a_document\u001b[0m:\u001b[36m28\u001b[0m - \u001b[1mReading a document... ФАП-519.txt\u001b[0m\n",
      "\u001b[32m2025-04-27 23:41:43.662\u001b[0m | \u001b[1mINFO    \u001b[0m | \u001b[36mmirage.index.chunking_algorithms.WordCountingChunkingAlgorithm\u001b[0m:\u001b[36mchunk_a_document\u001b[0m:\u001b[36m28\u001b[0m - \u001b[1mReading a document... ФАП-82.txt\u001b[0m\n",
      "\u001b[32m2025-04-27 23:41:47.597\u001b[0m | \u001b[1mINFO    \u001b[0m | \u001b[36mmirage.embedders.Embedder\u001b[0m:\u001b[36mconvert_chunks_to_vector_index\u001b[0m:\u001b[36m147\u001b[0m - \u001b[1mConverting ChunkStorage to VectorIndex\u001b[0m\n",
      " 73%|███████▎  | 1908/2620 [13:34<07:07,  1.66it/s]"
     ]
    }
   ],
   "source": [
    "import datetime\n",
    "from os import PathLike\n",
    "import time\n",
    "from typing import Dict\n",
    "\n",
    "from loguru import logger\n",
    "\n",
    "from mirage.embedders import HuggingFaceEmbedder\n",
    "from mirage.index import MirageIndex\n",
    "from mirage.index.chunk_storages import WhooshChunkStorage\n",
    "from mirage.index.chunking_algorithms import WordCountingChunkingAlgorithm\n",
    "from mirage.index.chunking_algorithms.NatashaSentenсeChunking import NatashaSentenceChunking\n",
    "from mirage.index.raw_storages import FolderRawStorage\n",
    "from mirage.index.vector_index.FaissVectorIndex import FaissIndexFlatIP, FaissIndexFlatL2\n",
    "\n",
    "short_names = {\n",
    "    'WordCountingChunkingAlgorithm': \"WC_128_05_BAAI\",\n",
    "    'SentenceChunkingAlgorithm': 'SC'\n",
    "}\n",
    "\n",
    "\n",
    "def get_name(c):\n",
    "    ch = 'W' if c['ChunkingAlgorithm']['method'] == 'WordCountingChunkingAlgorithm' else 'S'\n",
    "    ch_par = '_'.join([str(i) for i in list(c['ChunkingAlgorithm']['params'].values())])\n",
    "    e_params = c['Embedder']['params']['model'].split('/')[0]\n",
    "    return 'indexes\\\\' + '_'.join([ch, ch_par, e_params])\n",
    "\n",
    "get_name(combinations[12])\n",
    "\n",
    "\n",
    "\n",
    "raw_storage = FolderRawStorage('data_txt')\n",
    "def generate_index(combination: Dict, filepath_prefix: str) -> None:\n",
    "    logger.info(combination)\n",
    "    chunk_storage = WhooshChunkStorage(scoring_function='BM25F', normalizer=True)\n",
    "    match combination['ChunkingAlgorithm']['method']:\n",
    "        case 'WordCountingChunkingAlgorithm':\n",
    "            chunking_algorithm = WordCountingChunkingAlgorithm(raw_storage=raw_storage, chunk_storage=chunk_storage, **combination['ChunkingAlgorithm']['params'])\n",
    "        case 'SentenceChunkingAlgorithm':\n",
    "            chunking_algorithm = NatashaSentenceChunking(raw_storage=raw_storage, chunk_storage=chunk_storage, **combination['ChunkingAlgorithm']['params'])\n",
    "        case _:\n",
    "            logger.error(combination['ChunkingAlgorithm'])\n",
    "            raise ValueError('Unknown Chunking algorithm type')\n",
    "    embedder = HuggingFaceEmbedder(model_name=combination['Embedder']['params']['model'])\n",
    "    chunking_algorithm.execute()\n",
    "    l2_index = FaissIndexFlatL2(dimensionality=embedder.get_dimensionality())\n",
    "    ip_indx = FaissIndexFlatIP(dimensionality=embedder.get_dimensionality())\n",
    "    embedder.convert_chunks_to_vector_index(chunk_storage=chunk_storage, vector_index=l2_index, visualize=True)\n",
    "    start_copy_time = time.time()\n",
    "    for vector_key_pair in l2_index:\n",
    "        ip_indx.add(\n",
    "            vector=vector_key_pair.vector,\n",
    "            chunk_storage_key=vector_key_pair.chunk_storage_key\n",
    "        )\n",
    "    end_copy_time = time.time()\n",
    "    logger.info(f\"Copy of index time: {end_copy_time - start_copy_time}s.\")\n",
    "    l2_mirage = MirageIndex(\n",
    "        raw_storage=raw_storage,\n",
    "        chunk_storage=chunk_storage,\n",
    "        chunking_algorithm=chunking_algorithm,\n",
    "        vector_index=l2_index\n",
    "    )\n",
    "    ip_mirage = MirageIndex(\n",
    "        raw_storage=raw_storage,\n",
    "        chunk_storage=chunk_storage,\n",
    "        chunking_algorithm=chunking_algorithm,\n",
    "        vector_index=ip_indx\n",
    "    )\n",
    "    l2_mirage.save(filename_to_save=filepath_prefix + \"_l2.mirage_index\")\n",
    "    ip_mirage.save(filename_to_save=filepath_prefix + \"_ip.mirage_index\")\n",
    "    \n",
    "    \n",
    "\n",
    "for indx in range(START_COMBINATION, END_COMBINATION):\n",
    "    combination = combinations[indx]\n",
    "    generate_index(\n",
    "        combination,\n",
    "        get_name(combination)\n",
    "    )"
   ]
  },
  {
   "cell_type": "code",
   "execution_count": null,
   "id": "70e57093",
   "metadata": {},
   "outputs": [
    {
     "data": {
      "text/plain": [
       "'W_2048_0.1_BAAI'"
      ]
     },
     "execution_count": 27,
     "metadata": {},
     "output_type": "execute_result"
    }
   ],
   "source": []
  },
  {
   "cell_type": "code",
   "execution_count": null,
   "id": "9c6b26e3",
   "metadata": {},
   "outputs": [],
   "source": []
  }
 ],
 "metadata": {
  "kernelspec": {
   "display_name": "env",
   "language": "python",
   "name": "python3"
  },
  "language_info": {
   "codemirror_mode": {
    "name": "ipython",
    "version": 3
   },
   "file_extension": ".py",
   "mimetype": "text/x-python",
   "name": "python",
   "nbconvert_exporter": "python",
   "pygments_lexer": "ipython3",
   "version": "3.12.0"
  }
 },
 "nbformat": 4,
 "nbformat_minor": 5
}
